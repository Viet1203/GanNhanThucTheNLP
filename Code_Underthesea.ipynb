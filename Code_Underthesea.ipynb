{
 "cells": [
  {
   "cell_type": "markdown",
   "metadata": {},
   "source": [
    "### Khai báo các thư viện cần thiết"
   ]
  },
  {
   "cell_type": "code",
   "execution_count": 3,
   "metadata": {},
   "outputs": [],
   "source": [
    "import pandas as pd\n",
    "from underthesea import ner\n",
    "import ast"
   ]
  },
  {
   "cell_type": "markdown",
   "metadata": {},
   "source": [
    "### Đọc vào dữ liệu"
   ]
  },
  {
   "cell_type": "code",
   "execution_count": 4,
   "metadata": {},
   "outputs": [],
   "source": [
    "data = pd.read_excel(r\"data_Underthesea.xlsx\")"
   ]
  },
  {
   "cell_type": "markdown",
   "metadata": {},
   "source": [
    "### In ra 5 dòng đầu tiên của dữ liệu"
   ]
  },
  {
   "cell_type": "code",
   "execution_count": 5,
   "metadata": {},
   "outputs": [
    {
     "data": {
      "text/html": [
       "<div>\n",
       "<style scoped>\n",
       "    .dataframe tbody tr th:only-of-type {\n",
       "        vertical-align: middle;\n",
       "    }\n",
       "\n",
       "    .dataframe tbody tr th {\n",
       "        vertical-align: top;\n",
       "    }\n",
       "\n",
       "    .dataframe thead th {\n",
       "        text-align: right;\n",
       "    }\n",
       "</style>\n",
       "<table border=\"1\" class=\"dataframe\">\n",
       "  <thead>\n",
       "    <tr style=\"text-align: right;\">\n",
       "      <th></th>\n",
       "      <th>sentence</th>\n",
       "      <th>Word</th>\n",
       "      <th>NER</th>\n",
       "    </tr>\n",
       "  </thead>\n",
       "  <tbody>\n",
       "    <tr>\n",
       "      <th>0</th>\n",
       "      <td>1</td>\n",
       "      <td>Ông còn nhấn_mạnh trong thư_điện_tử Phải hết_s...</td>\n",
       "      <td>['O', 'O', 'O', 'O', 'O', 'O', 'O', 'O', 'O', ...</td>\n",
       "    </tr>\n",
       "    <tr>\n",
       "      <th>1</th>\n",
       "      <td>2</td>\n",
       "      <td>11 g ngày 38665 ngày kỷ_niệm bốn năm nước Mỹ b...</td>\n",
       "      <td>['O', 'O', 'O', 'O', 'O', 'O', 'O', 'O', 'O', ...</td>\n",
       "    </tr>\n",
       "    <tr>\n",
       "      <th>2</th>\n",
       "      <td>3</td>\n",
       "      <td>Đi tìm tàu phải không</td>\n",
       "      <td>['O', 'O', 'O', 'O', 'O']</td>\n",
       "    </tr>\n",
       "    <tr>\n",
       "      <th>3</th>\n",
       "      <td>4</td>\n",
       "      <td>Mấy tháng gần đây tuần nào báo_chí Malaysia cũ...</td>\n",
       "      <td>['O', 'O', 'O', 'O', 'O', 'O', 'O', 'B-LOC', '...</td>\n",
       "    </tr>\n",
       "    <tr>\n",
       "      <th>4</th>\n",
       "      <td>5</td>\n",
       "      <td>Cuộc hành_trình như dài ra khi chúng_tôi không...</td>\n",
       "      <td>['O', 'O', 'O', 'O', 'O', 'O', 'O', 'O', 'O', ...</td>\n",
       "    </tr>\n",
       "  </tbody>\n",
       "</table>\n",
       "</div>"
      ],
      "text/plain": [
       "   sentence                                               Word  \\\n",
       "0         1  Ông còn nhấn_mạnh trong thư_điện_tử Phải hết_s...   \n",
       "1         2  11 g ngày 38665 ngày kỷ_niệm bốn năm nước Mỹ b...   \n",
       "2         3                              Đi tìm tàu phải không   \n",
       "3         4  Mấy tháng gần đây tuần nào báo_chí Malaysia cũ...   \n",
       "4         5  Cuộc hành_trình như dài ra khi chúng_tôi không...   \n",
       "\n",
       "                                                 NER  \n",
       "0  ['O', 'O', 'O', 'O', 'O', 'O', 'O', 'O', 'O', ...  \n",
       "1  ['O', 'O', 'O', 'O', 'O', 'O', 'O', 'O', 'O', ...  \n",
       "2                          ['O', 'O', 'O', 'O', 'O']  \n",
       "3  ['O', 'O', 'O', 'O', 'O', 'O', 'O', 'B-LOC', '...  \n",
       "4  ['O', 'O', 'O', 'O', 'O', 'O', 'O', 'O', 'O', ...  "
      ]
     },
     "execution_count": 5,
     "metadata": {},
     "output_type": "execute_result"
    }
   ],
   "source": [
    "data.head()"
   ]
  },
  {
   "cell_type": "markdown",
   "metadata": {},
   "source": [
    "### Kích thước file dữ liệu"
   ]
  },
  {
   "cell_type": "code",
   "execution_count": 6,
   "metadata": {},
   "outputs": [
    {
     "data": {
      "text/plain": [
       "(262, 3)"
      ]
     },
     "execution_count": 6,
     "metadata": {},
     "output_type": "execute_result"
    }
   ],
   "source": [
    "data.shape"
   ]
  },
  {
   "cell_type": "markdown",
   "metadata": {},
   "source": [
    "### Đưa dữ liệu cột NER từ str về kiểu list"
   ]
  },
  {
   "cell_type": "code",
   "execution_count": 7,
   "metadata": {},
   "outputs": [
    {
     "data": {
      "text/plain": [
       "str"
      ]
     },
     "execution_count": 7,
     "metadata": {},
     "output_type": "execute_result"
    }
   ],
   "source": [
    "type(data['NER'][0])"
   ]
  },
  {
   "cell_type": "code",
   "execution_count": 8,
   "metadata": {},
   "outputs": [],
   "source": [
    "data['NER'] = data['NER'].apply(ast.literal_eval)"
   ]
  },
  {
   "cell_type": "code",
   "execution_count": 9,
   "metadata": {},
   "outputs": [
    {
     "data": {
      "text/plain": [
       "list"
      ]
     },
     "execution_count": 9,
     "metadata": {},
     "output_type": "execute_result"
    }
   ],
   "source": [
    "type(data['NER'][0])"
   ]
  },
  {
   "cell_type": "markdown",
   "metadata": {},
   "source": [
    "### data cột NER sau khi đưa về kiểu list"
   ]
  },
  {
   "cell_type": "code",
   "execution_count": 10,
   "metadata": {},
   "outputs": [
    {
     "data": {
      "text/plain": [
       "0      [O, O, O, O, O, O, O, O, O, O, O, O, O, O, O, ...\n",
       "1      [O, O, O, O, O, O, O, O, O, B-LOC, O, O, O, O,...\n",
       "2                                        [O, O, O, O, O]\n",
       "3      [O, O, O, O, O, O, O, B-LOC, O, O, O, O, O, O,...\n",
       "4      [O, O, O, O, O, O, O, O, O, O, O, O, O, O, O, ...\n",
       "                             ...                        \n",
       "257    [B-PER, O, O, O, O, O, O, O, O, O, O, O, O, O,...\n",
       "258                         [O, O, O, O, O, O, O, B-LOC]\n",
       "259                      [O, O, B-PER, O, O, O, O, O, O]\n",
       "260    [O, O, O, O, O, O, O, O, O, O, O, O, O, O, O, ...\n",
       "261    [O, O, O, O, O, O, O, O, O, O, O, O, O, O, O, ...\n",
       "Name: NER, Length: 262, dtype: object"
      ]
     },
     "execution_count": 10,
     "metadata": {},
     "output_type": "execute_result"
    }
   ],
   "source": [
    "data['NER']"
   ]
  },
  {
   "cell_type": "markdown",
   "metadata": {},
   "source": [
    "### Dự đoán nhãn thực thể cho cột NER"
   ]
  },
  {
   "cell_type": "code",
   "execution_count": 11,
   "metadata": {},
   "outputs": [],
   "source": [
    "NER = []\n",
    "for i in range (0, len(data)):\n",
    "    entities = ner(data['Word'].iloc[i])\n",
    "    arr = []\n",
    "    for i in range (0, len(entities)):\n",
    "        arr.append(entities[i][-1])\n",
    "    NER.append(arr)"
   ]
  },
  {
   "cell_type": "code",
   "execution_count": 12,
   "metadata": {},
   "outputs": [
    {
     "data": {
      "text/plain": [
       "[('Vừa_rồi', 'N', 'B-NP', 'O'),\n",
       " ('cháu', 'Nc', 'B-NP', 'O'),\n",
       " ('viết', 'V', 'B-VP', 'O'),\n",
       " ('thư', 'N', 'B-NP', 'O'),\n",
       " ('cho', 'E', 'B-PP', 'O'),\n",
       " ('bà', 'Nc', 'B-NP', 'O'),\n",
       " ('nói', 'V', 'B-VP', 'O'),\n",
       " ('bác', 'Nc', 'B-NP', 'O'),\n",
       " ('ơi', 'I', 'O', 'O'),\n",
       " ('bây_giờ', 'N', 'B-NP', 'O'),\n",
       " ('gia_đình', 'V', 'B-VP', 'O'),\n",
       " ('cháu', 'Nc', 'B-NP', 'O'),\n",
       " ('bớt', 'V', 'B-VP', 'O'),\n",
       " ('khó_khăn', 'V', 'B-VP', 'O'),\n",
       " ('rồi', 'C', 'O', 'O'),\n",
       " ('cháu', 'Nc', 'B-NP', 'O'),\n",
       " ('xin', 'V', 'B-VP', 'O'),\n",
       " ('bác', 'Nc', 'B-NP', 'O'),\n",
       " ('dành', 'V', 'B-VP', 'O'),\n",
       " ('tiền', 'N', 'B-NP', 'O'),\n",
       " ('ấy', 'P', 'B-NP', 'O'),\n",
       " ('gửi', 'V', 'B-VP', 'O'),\n",
       " ('giúp', 'V', 'B-VP', 'O'),\n",
       " ('gia_đình', 'N', 'B-NP', 'O'),\n",
       " ('khác', 'A', 'B-AP', 'O'),\n",
       " ('khó_khăn', 'A', 'B-AP', 'O'),\n",
       " ('hơn', 'A', 'B-AP', 'O')]"
      ]
     },
     "execution_count": 12,
     "metadata": {},
     "output_type": "execute_result"
    }
   ],
   "source": [
    "entities"
   ]
  },
  {
   "cell_type": "markdown",
   "metadata": {},
   "source": [
    "### Đưa mảng chứa tập các nhãn thực thể của tập văn bản về dataframe"
   ]
  },
  {
   "cell_type": "code",
   "execution_count": 13,
   "metadata": {},
   "outputs": [],
   "source": [
    "predNER = pd.DataFrame({'pred_NER': NER})"
   ]
  },
  {
   "cell_type": "markdown",
   "metadata": {},
   "source": [
    "### In ra mảng dự đoán"
   ]
  },
  {
   "cell_type": "code",
   "execution_count": 14,
   "metadata": {},
   "outputs": [
    {
     "data": {
      "text/html": [
       "<div>\n",
       "<style scoped>\n",
       "    .dataframe tbody tr th:only-of-type {\n",
       "        vertical-align: middle;\n",
       "    }\n",
       "\n",
       "    .dataframe tbody tr th {\n",
       "        vertical-align: top;\n",
       "    }\n",
       "\n",
       "    .dataframe thead th {\n",
       "        text-align: right;\n",
       "    }\n",
       "</style>\n",
       "<table border=\"1\" class=\"dataframe\">\n",
       "  <thead>\n",
       "    <tr style=\"text-align: right;\">\n",
       "      <th></th>\n",
       "      <th>pred_NER</th>\n",
       "    </tr>\n",
       "  </thead>\n",
       "  <tbody>\n",
       "    <tr>\n",
       "      <th>0</th>\n",
       "      <td>[O, O, O, O, O, O, O, O, O, O, O, O, O, O, O, ...</td>\n",
       "    </tr>\n",
       "    <tr>\n",
       "      <th>1</th>\n",
       "      <td>[O, O, O, O, O, O, O, O, O, B-LOC, O, O, O, O,...</td>\n",
       "    </tr>\n",
       "    <tr>\n",
       "      <th>2</th>\n",
       "      <td>[O, O, O, O, O]</td>\n",
       "    </tr>\n",
       "    <tr>\n",
       "      <th>3</th>\n",
       "      <td>[O, O, O, O, O, O, O, B-LOC, O, O, O, O, O, O,...</td>\n",
       "    </tr>\n",
       "    <tr>\n",
       "      <th>4</th>\n",
       "      <td>[O, O, O, O, O, O, O, O, O, O, O, O, B-LOC, I-...</td>\n",
       "    </tr>\n",
       "    <tr>\n",
       "      <th>...</th>\n",
       "      <td>...</td>\n",
       "    </tr>\n",
       "    <tr>\n",
       "      <th>257</th>\n",
       "      <td>[B-PER, O, O, O, O, O, O, O, O, O, O, O, O, O,...</td>\n",
       "    </tr>\n",
       "    <tr>\n",
       "      <th>258</th>\n",
       "      <td>[O, O, O, O, O, O, O, B-LOC]</td>\n",
       "    </tr>\n",
       "    <tr>\n",
       "      <th>259</th>\n",
       "      <td>[O, O, B-PER, O, O, O, O, O, O]</td>\n",
       "    </tr>\n",
       "    <tr>\n",
       "      <th>260</th>\n",
       "      <td>[O, O, O, O, O, O, O, O, O, O, O, O, O, O, O, ...</td>\n",
       "    </tr>\n",
       "    <tr>\n",
       "      <th>261</th>\n",
       "      <td>[O, O, O, O, O, O, O, O, O, O, O, O, O, O, O, ...</td>\n",
       "    </tr>\n",
       "  </tbody>\n",
       "</table>\n",
       "<p>262 rows × 1 columns</p>\n",
       "</div>"
      ],
      "text/plain": [
       "                                              pred_NER\n",
       "0    [O, O, O, O, O, O, O, O, O, O, O, O, O, O, O, ...\n",
       "1    [O, O, O, O, O, O, O, O, O, B-LOC, O, O, O, O,...\n",
       "2                                      [O, O, O, O, O]\n",
       "3    [O, O, O, O, O, O, O, B-LOC, O, O, O, O, O, O,...\n",
       "4    [O, O, O, O, O, O, O, O, O, O, O, O, B-LOC, I-...\n",
       "..                                                 ...\n",
       "257  [B-PER, O, O, O, O, O, O, O, O, O, O, O, O, O,...\n",
       "258                       [O, O, O, O, O, O, O, B-LOC]\n",
       "259                    [O, O, B-PER, O, O, O, O, O, O]\n",
       "260  [O, O, O, O, O, O, O, O, O, O, O, O, O, O, O, ...\n",
       "261  [O, O, O, O, O, O, O, O, O, O, O, O, O, O, O, ...\n",
       "\n",
       "[262 rows x 1 columns]"
      ]
     },
     "execution_count": 14,
     "metadata": {},
     "output_type": "execute_result"
    }
   ],
   "source": [
    "predNER"
   ]
  },
  {
   "cell_type": "markdown",
   "metadata": {},
   "source": [
    "### Ghép dataframe dự đoán với dataframe gốc"
   ]
  },
  {
   "cell_type": "code",
   "execution_count": 15,
   "metadata": {},
   "outputs": [],
   "source": [
    "data = pd.concat([data, predNER], axis=1)"
   ]
  },
  {
   "cell_type": "code",
   "execution_count": 16,
   "metadata": {},
   "outputs": [
    {
     "data": {
      "text/html": [
       "<div>\n",
       "<style scoped>\n",
       "    .dataframe tbody tr th:only-of-type {\n",
       "        vertical-align: middle;\n",
       "    }\n",
       "\n",
       "    .dataframe tbody tr th {\n",
       "        vertical-align: top;\n",
       "    }\n",
       "\n",
       "    .dataframe thead th {\n",
       "        text-align: right;\n",
       "    }\n",
       "</style>\n",
       "<table border=\"1\" class=\"dataframe\">\n",
       "  <thead>\n",
       "    <tr style=\"text-align: right;\">\n",
       "      <th></th>\n",
       "      <th>sentence</th>\n",
       "      <th>Word</th>\n",
       "      <th>NER</th>\n",
       "      <th>pred_NER</th>\n",
       "    </tr>\n",
       "  </thead>\n",
       "  <tbody>\n",
       "    <tr>\n",
       "      <th>0</th>\n",
       "      <td>1</td>\n",
       "      <td>Ông còn nhấn_mạnh trong thư_điện_tử Phải hết_s...</td>\n",
       "      <td>[O, O, O, O, O, O, O, O, O, O, O, O, O, O, O, ...</td>\n",
       "      <td>[O, O, O, O, O, O, O, O, O, O, O, O, O, O, O, ...</td>\n",
       "    </tr>\n",
       "    <tr>\n",
       "      <th>1</th>\n",
       "      <td>2</td>\n",
       "      <td>11 g ngày 38665 ngày kỷ_niệm bốn năm nước Mỹ b...</td>\n",
       "      <td>[O, O, O, O, O, O, O, O, O, B-LOC, O, O, O, O,...</td>\n",
       "      <td>[O, O, O, O, O, O, O, O, O, B-LOC, O, O, O, O,...</td>\n",
       "    </tr>\n",
       "    <tr>\n",
       "      <th>2</th>\n",
       "      <td>3</td>\n",
       "      <td>Đi tìm tàu phải không</td>\n",
       "      <td>[O, O, O, O, O]</td>\n",
       "      <td>[O, O, O, O, O]</td>\n",
       "    </tr>\n",
       "    <tr>\n",
       "      <th>3</th>\n",
       "      <td>4</td>\n",
       "      <td>Mấy tháng gần đây tuần nào báo_chí Malaysia cũ...</td>\n",
       "      <td>[O, O, O, O, O, O, O, B-LOC, O, O, O, O, O, O,...</td>\n",
       "      <td>[O, O, O, O, O, O, O, B-LOC, O, O, O, O, O, O,...</td>\n",
       "    </tr>\n",
       "    <tr>\n",
       "      <th>4</th>\n",
       "      <td>5</td>\n",
       "      <td>Cuộc hành_trình như dài ra khi chúng_tôi không...</td>\n",
       "      <td>[O, O, O, O, O, O, O, O, O, O, O, O, O, O, O, ...</td>\n",
       "      <td>[O, O, O, O, O, O, O, O, O, O, O, O, B-LOC, I-...</td>\n",
       "    </tr>\n",
       "  </tbody>\n",
       "</table>\n",
       "</div>"
      ],
      "text/plain": [
       "   sentence                                               Word  \\\n",
       "0         1  Ông còn nhấn_mạnh trong thư_điện_tử Phải hết_s...   \n",
       "1         2  11 g ngày 38665 ngày kỷ_niệm bốn năm nước Mỹ b...   \n",
       "2         3                              Đi tìm tàu phải không   \n",
       "3         4  Mấy tháng gần đây tuần nào báo_chí Malaysia cũ...   \n",
       "4         5  Cuộc hành_trình như dài ra khi chúng_tôi không...   \n",
       "\n",
       "                                                 NER  \\\n",
       "0  [O, O, O, O, O, O, O, O, O, O, O, O, O, O, O, ...   \n",
       "1  [O, O, O, O, O, O, O, O, O, B-LOC, O, O, O, O,...   \n",
       "2                                    [O, O, O, O, O]   \n",
       "3  [O, O, O, O, O, O, O, B-LOC, O, O, O, O, O, O,...   \n",
       "4  [O, O, O, O, O, O, O, O, O, O, O, O, O, O, O, ...   \n",
       "\n",
       "                                            pred_NER  \n",
       "0  [O, O, O, O, O, O, O, O, O, O, O, O, O, O, O, ...  \n",
       "1  [O, O, O, O, O, O, O, O, O, B-LOC, O, O, O, O,...  \n",
       "2                                    [O, O, O, O, O]  \n",
       "3  [O, O, O, O, O, O, O, B-LOC, O, O, O, O, O, O,...  \n",
       "4  [O, O, O, O, O, O, O, O, O, O, O, O, B-LOC, I-...  "
      ]
     },
     "execution_count": 16,
     "metadata": {},
     "output_type": "execute_result"
    }
   ],
   "source": [
    "data.head()"
   ]
  },
  {
   "cell_type": "markdown",
   "metadata": {},
   "source": [
    "### In ra độ đo đánh giá mô hình"
   ]
  },
  {
   "cell_type": "code",
   "execution_count": 17,
   "metadata": {},
   "outputs": [],
   "source": [
    "import pandas as pd\n",
    "from sklearn.metrics import precision_score, recall_score, f1_score, accuracy_score\n",
    "df = data\n",
    "\n",
    "true_labels = [item for sublist in df['NER'].tolist() for item in sublist]\n",
    "pred_labels = [item for sublist in df['pred_NER'].tolist() for item in sublist]\n",
    "\n",
    "\n",
    "precision = precision_score(true_labels, pred_labels, average='weighted', zero_division=0)\n",
    "recall = recall_score(true_labels, pred_labels, average='weighted', zero_division=0)\n",
    "f1 = f1_score(true_labels, pred_labels, average='weighted', zero_division=0)\n",
    "accuracy = accuracy_score(true_labels, pred_labels)"
   ]
  },
  {
   "cell_type": "code",
   "execution_count": 18,
   "metadata": {},
   "outputs": [
    {
     "data": {
      "text/plain": [
       "(0.9433040078201369,\n",
       " 0.9737447403991039,\n",
       " 0.9433040078201369,\n",
       " 0.9548575738721875)"
      ]
     },
     "execution_count": 18,
     "metadata": {},
     "output_type": "execute_result"
    }
   ],
   "source": [
    "accuracy, precision, recall, f1"
   ]
  },
  {
   "cell_type": "markdown",
   "metadata": {},
   "source": [
    "### In ra ma trận nhầm lẫn"
   ]
  },
  {
   "cell_type": "code",
   "execution_count": 19,
   "metadata": {},
   "outputs": [
    {
     "data": {
      "image/png": "[encoded data removed]",
      "text/plain": [
       "<Figure size 1000x700 with 2 Axes>"
      ]
     },
     "metadata": {},
     "output_type": "display_data"
    }
   ],
   "source": [
    "import numpy as np\n",
    "import matplotlib.pyplot as plt\n",
    "import seaborn as sns\n",
    "from sklearn.metrics import confusion_matrix\n",
    "\n",
    "label = ['O', 'B-PER', 'B-LOC', 'I-PER', 'I-LOC', 'I-ORG', 'B-ORG', 'I-MISC', 'B-MISC']\n",
    "\n",
    "cm = confusion_matrix(true_labels, pred_labels, labels=label)\n",
    "\n",
    "plt.figure(figsize=(10, 7))\n",
    "sns.heatmap(cm, annot=True, fmt='d', cmap='Blues', xticklabels=label, yticklabels=label)\n",
    "plt.xlabel('Predicted')\n",
    "plt.ylabel('True')\n",
    "plt.title('Confusion Matrix')\n",
    "plt.show()\n"
   ]
  },
  {
   "cell_type": "code",
   "execution_count": 20,
   "metadata": {},
   "outputs": [
    {
     "data": {
      "image/png": "[encoded data removed]",
      "text/plain": [
       "<Figure size 640x480 with 1 Axes>"
      ]
     },
     "metadata": {},
     "output_type": "display_data"
    }
   ],
   "source": [
    "import matplotlib.pyplot as plt\n",
    "import numpy as np\n",
    "\n",
    "metrics = ['Accuracy', 'Precision', 'Recall', 'F1-score']\n",
    "\n",
    "model_scores = [accuracy, precision, recall, f1]\n",
    "\n",
    "colors = plt.cm.viridis(np.linspace(0, 1, len(metrics)))\n",
    "\n",
    "x = range(len(metrics))\n",
    "\n",
    "fig, ax = plt.subplots()\n",
    "bars = ax.bar(x, model_scores, color=colors)\n",
    "\n",
    "ax.set_ylabel('Scores')\n",
    "ax.set_title('Model Performance')\n",
    "ax.set_xticks(x)\n",
    "ax.set_xticklabels(metrics)\n",
    "\n",
    "def add_labels(rects):\n",
    "    for rect in rects:\n",
    "        height = rect.get_height()\n",
    "        ax.annotate(f'{height:.4f}',\n",
    "                    xy=(rect.get_x() + rect.get_width() / 2, height),\n",
    "                    xytext=(0, 3),\n",
    "                    textcoords=\"offset points\",\n",
    "                    ha='center', va='bottom')\n",
    "\n",
    "add_labels(bars)\n",
    "\n",
    "plt.show()"
   ]
  }
 ],
 "metadata": {
  "kernelspec": {
   "display_name": "base",
   "language": "python",
   "name": "python3"
  },
  "language_info": {
   "codemirror_mode": {
    "name": "ipython",
    "version": 3
   },
   "file_extension": ".py",
   "mimetype": "text/x-python",
   "name": "python",
   "nbconvert_exporter": "python",
   "pygments_lexer": "ipython3",
   "version": "3.11.5"
  }
 },
 "nbformat": 4,
 "nbformat_minor": 2
}
