{
 "cells": [
  {
   "cell_type": "markdown",
   "metadata": {},
   "source": [
    "### Khai báo các thư viện cần thiết"
   ]
  },
  {
   "cell_type": "code",
   "execution_count": 3,
   "metadata": {},
   "outputs": [],
   "source": [
    "import numpy as np\n",
    "import pandas as pd\n",
    "import matplotlib.pyplot as plt\n",
    "import seaborn as sns\n",
    "import tensorflow as tf\n",
    "import pandas as pd\n",
    "import itertools\n",
    "import ast\n",
    "import pandas as pd\n",
    "from sklearn.metrics import precision_score, recall_score, f1_score, accuracy_score\n",
    "from sklearn.metrics import confusion_matrix"
   ]
  },
  {
   "cell_type": "markdown",
   "metadata": {},
   "source": [
    "### Đọc vào dữ liệu"
   ]
  },
  {
   "cell_type": "code",
   "execution_count": 4,
   "metadata": {},
   "outputs": [
    {
     "data": {
      "text/html": [
       "<div>\n",
       "<style scoped>\n",
       "    .dataframe tbody tr th:only-of-type {\n",
       "        vertical-align: middle;\n",
       "    }\n",
       "\n",
       "    .dataframe tbody tr th {\n",
       "        vertical-align: top;\n",
       "    }\n",
       "\n",
       "    .dataframe thead th {\n",
       "        text-align: right;\n",
       "    }\n",
       "</style>\n",
       "<table border=\"1\" class=\"dataframe\">\n",
       "  <thead>\n",
       "    <tr style=\"text-align: right;\">\n",
       "      <th></th>\n",
       "      <th>Word</th>\n",
       "      <th>NER</th>\n",
       "    </tr>\n",
       "  </thead>\n",
       "  <tbody>\n",
       "    <tr>\n",
       "      <th>0</th>\n",
       "      <td>Đó là con đường biển ngắn nhất để đi từ Ấn_Độ_...</td>\n",
       "      <td>['O', 'O', 'O', 'O', 'O', 'O', 'O', 'O', 'O', ...</td>\n",
       "    </tr>\n",
       "    <tr>\n",
       "      <th>1</th>\n",
       "      <td>Một chuyến hải_trình xuyên ba nước Malaysia Si...</td>\n",
       "      <td>['O', 'O', 'O', 'O', 'O', 'O', 'B-LOC', 'B-LOC...</td>\n",
       "    </tr>\n",
       "    <tr>\n",
       "      <th>2</th>\n",
       "      <td>Từ bức điện của IMB</td>\n",
       "      <td>['O', 'O', 'O', 'O', 'B-ORG']</td>\n",
       "    </tr>\n",
       "    <tr>\n",
       "      <th>3</th>\n",
       "      <td>Chúng_tôi lên_đường ngay khi nhận được email c...</td>\n",
       "      <td>['O', 'O', 'O', 'O', 'O', 'O', 'O', 'O', 'O', ...</td>\n",
       "    </tr>\n",
       "    <tr>\n",
       "      <th>4</th>\n",
       "      <td>Ông còn nhấn_mạnh trong thư_điện_tử Phải hết_s...</td>\n",
       "      <td>['O', 'O', 'O', 'O', 'O', 'O', 'O', 'O', 'O', ...</td>\n",
       "    </tr>\n",
       "    <tr>\n",
       "      <th>...</th>\n",
       "      <td>...</td>\n",
       "      <td>...</td>\n",
       "    </tr>\n",
       "    <tr>\n",
       "      <th>2044</th>\n",
       "      <td>Theo cơ_quan điều_tra vụ_việc sẽ không bị chìm...</td>\n",
       "      <td>['O', 'O', 'O', 'O', 'O', 'O', 'O', 'O', 'O', ...</td>\n",
       "    </tr>\n",
       "    <tr>\n",
       "      <th>2045</th>\n",
       "      <td>Vì_sao</td>\n",
       "      <td>['O']</td>\n",
       "    </tr>\n",
       "    <tr>\n",
       "      <th>2046</th>\n",
       "      <td>Lãnh_đạo Cơ_quan cảnh_sát điều_tra trả_lời vì ...</td>\n",
       "      <td>['O', 'O', 'O', 'O', 'O', 'O', 'O', 'O', 'O', ...</td>\n",
       "    </tr>\n",
       "    <tr>\n",
       "      <th>2047</th>\n",
       "      <td>Bộ_trưởng ra toà làm nhân_chứng</td>\n",
       "      <td>['O', 'O', 'O', 'O', 'O']</td>\n",
       "    </tr>\n",
       "    <tr>\n",
       "      <th>2048</th>\n",
       "      <td>Chiều bộ_trưởng Bộ Nông_nghiệp và phát_triển n...</td>\n",
       "      <td>['O', 'O', 'B-ORG', 'I-ORG', 'I-ORG', 'I-ORG',...</td>\n",
       "    </tr>\n",
       "  </tbody>\n",
       "</table>\n",
       "<p>2049 rows × 2 columns</p>\n",
       "</div>"
      ],
      "text/plain": [
       "                                                   Word  \\\n",
       "0     Đó là con đường biển ngắn nhất để đi từ Ấn_Độ_...   \n",
       "1     Một chuyến hải_trình xuyên ba nước Malaysia Si...   \n",
       "2                                   Từ bức điện của IMB   \n",
       "3     Chúng_tôi lên_đường ngay khi nhận được email c...   \n",
       "4     Ông còn nhấn_mạnh trong thư_điện_tử Phải hết_s...   \n",
       "...                                                 ...   \n",
       "2044  Theo cơ_quan điều_tra vụ_việc sẽ không bị chìm...   \n",
       "2045                                             Vì_sao   \n",
       "2046  Lãnh_đạo Cơ_quan cảnh_sát điều_tra trả_lời vì ...   \n",
       "2047                    Bộ_trưởng ra toà làm nhân_chứng   \n",
       "2048  Chiều bộ_trưởng Bộ Nông_nghiệp và phát_triển n...   \n",
       "\n",
       "                                                    NER  \n",
       "0     ['O', 'O', 'O', 'O', 'O', 'O', 'O', 'O', 'O', ...  \n",
       "1     ['O', 'O', 'O', 'O', 'O', 'O', 'B-LOC', 'B-LOC...  \n",
       "2                         ['O', 'O', 'O', 'O', 'B-ORG']  \n",
       "3     ['O', 'O', 'O', 'O', 'O', 'O', 'O', 'O', 'O', ...  \n",
       "4     ['O', 'O', 'O', 'O', 'O', 'O', 'O', 'O', 'O', ...  \n",
       "...                                                 ...  \n",
       "2044  ['O', 'O', 'O', 'O', 'O', 'O', 'O', 'O', 'O', ...  \n",
       "2045                                              ['O']  \n",
       "2046  ['O', 'O', 'O', 'O', 'O', 'O', 'O', 'O', 'O', ...  \n",
       "2047                          ['O', 'O', 'O', 'O', 'O']  \n",
       "2048  ['O', 'O', 'B-ORG', 'I-ORG', 'I-ORG', 'I-ORG',...  \n",
       "\n",
       "[2049 rows x 2 columns]"
      ]
     },
     "execution_count": 4,
     "metadata": {},
     "output_type": "execute_result"
    }
   ],
   "source": [
    "data_ner = pd.read_excel(r\"data_LSTM.xlsx\")\n",
    "data_ner.dropna()"
   ]
  },
  {
   "cell_type": "markdown",
   "metadata": {},
   "source": [
    "### In ra kích thước của dữ liệu"
   ]
  },
  {
   "cell_type": "code",
   "execution_count": 5,
   "metadata": {},
   "outputs": [
    {
     "name": "stdout",
     "output_type": "stream",
     "text": [
      "Số lượng văn bản:  2049\n"
     ]
    }
   ],
   "source": [
    "print(\"Số lượng văn bản: \", data_ner.shape[0])"
   ]
  },
  {
   "cell_type": "markdown",
   "metadata": {},
   "source": [
    "### Thông tin cơ bản về dữ liệu"
   ]
  },
  {
   "cell_type": "code",
   "execution_count": 6,
   "metadata": {},
   "outputs": [
    {
     "name": "stdout",
     "output_type": "stream",
     "text": [
      "<class 'pandas.core.frame.DataFrame'>\n",
      "RangeIndex: 2049 entries, 0 to 2048\n",
      "Data columns (total 2 columns):\n",
      " #   Column  Non-Null Count  Dtype \n",
      "---  ------  --------------  ----- \n",
      " 0   Word    2049 non-null   object\n",
      " 1   NER     2049 non-null   object\n",
      "dtypes: object(2)\n",
      "memory usage: 32.1+ KB\n"
     ]
    }
   ],
   "source": [
    "data_ner.info()"
   ]
  },
  {
   "cell_type": "markdown",
   "metadata": {},
   "source": [
    "### Xử lý dữ liệu cột NER về kiểu list"
   ]
  },
  {
   "cell_type": "code",
   "execution_count": 7,
   "metadata": {},
   "outputs": [],
   "source": [
    "data_ner['NER'] = data_ner['NER'].apply(ast.literal_eval)"
   ]
  },
  {
   "cell_type": "markdown",
   "metadata": {},
   "source": [
    "### Thống kê số lượng của mỗi nhãn thực thể"
   ]
  },
  {
   "cell_type": "code",
   "execution_count": 8,
   "metadata": {},
   "outputs": [],
   "source": [
    "all_values = list(itertools.chain.from_iterable(data_ner['NER']))"
   ]
  },
  {
   "cell_type": "code",
   "execution_count": 9,
   "metadata": {},
   "outputs": [
    {
     "data": {
      "text/plain": [
       "array(['O', 'O', 'O', ..., 'I-PER', 'O', 'O'], dtype='<U6')"
      ]
     },
     "execution_count": 9,
     "metadata": {},
     "output_type": "execute_result"
    }
   ],
   "source": [
    "np.array(all_values)"
   ]
  },
  {
   "cell_type": "code",
   "execution_count": 10,
   "metadata": {},
   "outputs": [
    {
     "data": {
      "text/plain": [
       "O         36619\n",
       "B-PER       979\n",
       "B-LOC       720\n",
       "I-PER       508\n",
       "I-LOC       374\n",
       "I-ORG       288\n",
       "B-ORG       191\n",
       "I-MISC       28\n",
       "B-MISC       27\n",
       "Name: count, dtype: int64"
      ]
     },
     "execution_count": 10,
     "metadata": {},
     "output_type": "execute_result"
    }
   ],
   "source": [
    "pd.value_counts(all_values)"
   ]
  },
  {
   "cell_type": "markdown",
   "metadata": {},
   "source": [
    "### Mã hóa cột Word"
   ]
  },
  {
   "cell_type": "markdown",
   "metadata": {},
   "source": [
    "##### Xây dựng từ điển"
   ]
  },
  {
   "cell_type": "code",
   "execution_count": 11,
   "metadata": {},
   "outputs": [
    {
     "name": "stdout",
     "output_type": "stream",
     "text": [
      "{'đó': 1, 'là': 2, 'con': 3, 'đường': 4, 'biển': 5, 'ngắn': 6, 'nhất': 7, 'để': 8, 'đi': 9, 'từ': 10, 'ấn_độ_dương': 11, 'sang': 12, 'thái_bình_dương': 13, 'chiếm': 14, 'đến': 15, 'lượng': 16, 'hàng_hoá': 17, 'lưu_thông': 18, 'đường_biển': 19, 'của': 20, 'thế_giới': 21, 'hải_trình': 22, 'lớn': 23, 'tây': 24, 'đông': 25, 'với': 26, '50': 27, 'lượt': 28, 'tàu_bè': 29, 'qua_lại': 30, 'mỗi': 31, 'năm': 32, 'một': 33, 'chuyến': 34, 'xuyên': 35, 'ba': 36, 'nước': 37, 'malaysia': 38, 'singapore': 39, 'indonesia': 40, 'vừa': 41, 'được': 42, 'phóng_viên': 43, 'tuổi_trẻ': 44, 'thực_hiện': 45, 'cảm_nhận': 46, 'điều': 47, 'mà': 48, 'các': 49, 'thuỷ_thủ': 50, 'tàu': 51, 'viễn_dương': 52, 'đã': 53, 'khi': 54, 'nghe': 55, 'nhắc': 56, 'tới': 57, 'hải_tặc': 58, 'eo_biển': 59, 'malacca': 60, 'bức': 61, 'điện': 62, 'imb': 63, 'chúng_tôi': 64, 'lên_đường': 65, 'ngay': 66, 'nhận': 67, 'email': 68, 'ngài': 69, 'noel': 70, 'choong': 71, 'trưởng': 72, 'đại_diện': 73, 'cơ_quan': 74, 'hàng_hải': 75, 'quốc_tế': 76, 'tại': 77, 'đồng_ý': 78, 'tiếp': 79, 'cung_cấp': 80, 'những': 81, 'thông_tin': 82, 'mới': 83, 'về': 84, 'ông': 85, 'còn': 86, 'nhấn_mạnh': 87, 'trong': 88, 'thư_điện_tử': 89, 'phải': 90, 'hết_sức': 91, 'cẩn_thận': 92, 'vì': 93, 'hiện_nay': 94, 'biến_tướng': 95, 'như': 96, 'lực_lượng': 97, 'khủng_bố': 98, 'hãy': 99, 'văn_phòng': 100, 'đừng': 101, 'nơi': 102, 'nhạy_cảm': 103, '11': 104, 'g': 105, 'ngày': 106, '38665': 107, 'kỷ_niệm': 108, 'bốn': 109, 'mỹ': 110, 'bị': 111, 'tấn_công': 112, 'khoác': 113, 'vội': 114, 'balô': 115, 'bước': 116, 'lên': 117, 'chiếc': 118, 'máy_bay': 119, 'boeing': 120, 'mang': 121, 'số_hiệu': 122, 'mh': 123, '751': 124, 'hãng': 125, 'hàng_không': 126, 'cất_cánh': 127, 'tp.': 128, 'hcm': 129, 'thủ_đô': 130, 'kuala_lumpur': 131, 'ở': 132, 'phi_trường': 133, 'người': 134, 'tài_xế': 135, 'taxi': 136, 'gốc': 137, 'hoa': 138, 'hỏi': 139, 'đâu': 140, 'tôi': 141, 'đáp': 142, 'tỉnh_bơ': 143, 'batam': 144, 'khựng': 145, 'lại': 146, 'anh': 147, 'làm_việc': 148, 'cho': 149, 'à': 150, 'tìm': 151, 'không': 152, 'mấy': 153, 'tháng': 154, 'gần': 155, 'đây': 156, 'tuần': 157, 'nào': 158, 'báo_chí': 159, 'cũng': 160, 'có': 161, 'bài': 162, 'viết': 163, 'vụ': 164, 'cướp_biển': 165, 'nên': 166, 'đấy': 167, 'cuộc': 168, 'hành_trình': 169, 'dài': 170, 'ra': 171, 'không_thể': 172, 'đón': 173, 'miền': 174, 'nam': 175, 'chuyển': 176, 'xe_buýt': 177, 'băng_băng': 178, 'cuối': 179, 'trên': 180, 'phà': 181, 'sáng': 182, 'sớm': 183, 'tinh_mơ': 184, 'đảo_quốc': 185, 'sư_tử': 186, 'vượt': 187, 'đảo': 188, 'thuộc': 189, 'địa_phận': 190, 'lờ_mờ': 191, 'trước': 192, 'mắt': 193, 'hòn': 194, 'diện_tích': 195, 'ban_đầu': 196, 'tính': 197, 'khoảng': 198, '415': 199, 'km²': 200, 'chỉ': 201, 'vài': 202, 'chục': 203, 'phút': 204, 'ngồi': 205, 'thuê': 206, 'thuyền': 207, 'thị_sát': 208, 'vùng': 209, 'dần': 210, 'xa': 211, 'bờ': 212, 'sóng': 213, 'gió': 214, 'dâng': 215, 'cao': 216, 'chực': 217, 'nuốt': 218, 'bé_nhỏ': 219, 'lái': 220, 'tên': 221, 'dony': 222, 'tỏ': 223, 'hài_hước': 224, 'đêm': 225, 'có_thể': 226, 'nhìn': 227, 'thấy': 228, 'nhà': 229, 'bạn': 230, 'bên': 231, 'đỏ_đèn': 232, 'hay': 233, 'chưa': 234, 'qua': 235, 'khu_vực': 236, 'phillips': 237, 'channel': 238, 'chiều': 239, 'rộng': 240, 'km': 241, 'hẹp': 242, 'ẩn_náu': 243, 'nằm': 244, 'vị_trí': 245, 'đắc_địa': 246, 'thắt_nút': 247, 'cổ': 248, 'chai': 249, 'tốc_độ': 250, 'chậm': 251, 'và': 252, 'trở_thành': 253, 'chốn': 254, 'dung_thân': 255, 'thất_nghiệp': 256, 'khắp': 257, 'tụ': 258, 'thì': 259, 'ai': 260, 'biết': 261, 'nhưng': 262, 'giới': 263, 'đều': 264, 'rằng': 265, 'chính': 266, 'kỹ_thuật_viên': 267, 'chuyên_nghiệp': 268, 'đánh': 269, 'cướp': 270, 'luộc': 271, 'hàng': 272, 'cảnh_sát': 273, 'sở_tại': 274, 'phát_hiện': 275, 'phần': 276, 'nổi': 277, 'tảng': 278, 'băng': 279, 'chìm': 280, 'thôi': 281, 'bỏ': 282, 'ý_định': 283, 'điên_rồ': 284, 'ấy': 285, 'chở': 286, 'massage': 287, 'nhé': 288, 'vai': 289, 'mất_tích': 290, 'tạt': 291, 'vào': 292, 'quán': 293, 'cà_phê': 294, 'ven': 295, 'tụ_tập': 296, 'họ': 297, 'gọi': 298, 'bằng': 299, 'cái': 300, 'khá': 301, 'ấn_tượng': 302, 'tổng_hành_dinh': 303, 'ly': 304, 'kịp': 305, 'quấy': 306, 'anh_chàng': 307, 'mặt': 308, 'đen': 309, 'tách': 310, 'tiến': 311, 'giọng': 312, 'hai': 313, 'tụi': 314, 'bây': 315, 'xứ': 316, 'này': 317, 'sau': 318, 'nói': 319, 'sắt': 320, 'rít': 321, 'hơi': 322, 'thuốc': 323, 'rồi': 324, 'phán': 325, 'bay': 326, 'biến': 327, 'nếu': 328, 'muốn': 329, 'theo': 330, 'thằng': 331, 'mày': 332, 'gương_mặt': 333, 'bặm_trợn': 334, 'hình': 335, 'xăm': 336, 'đầy': 337, 'đang': 338, 'xung_quanh': 339, 'xô': 340, 'ghế': 341, 'đứng': 342, 'dậy': 343, 'rút': 344, 'nhanh': 345, 'khỏi': 346, 'đưa': 347, 'cánh_tay': 348, 'bánh_lái': 349, 'ra_hiệu': 350, 'bye': 351, 'cách': 352, 'gì': 353, 'lọt': 354, 'hung_hãn': 355, 'khác': 356, 'bề_ngoài': 357, 'du_lịch': 358, 'luôn': 359, 'tấp_nập': 360, 'du_khách': 361, 'thổ_địa': 362, 'xuất_hiện': 363, 'liên_hệ': 364, 'tờ': 365, 'báo': 366, 'địa_phương': 367, 'nhờ': 368, 'giúp_đỡ': 369, 'kể': 370, 'sitompul': 371, 'm.': 372, 'chuyên_trách': 373, 'pos': 374, 'điểm': 375, 'hẹn': 376, 'tay': 377, 'thời_buổi': 378, 'khó_khăn': 379, 'sẵn_sàng': 380, 'làm': 381, 'bất_cứ': 382, 'chuyện': 383, 'tham_gia': 384, 'phi_vụ': 385, 'rã': 386, 'thậm_chí': 387, 'lần': 388, 'gặp': 389, 'thay_đổi': 390, 'chỗ': 391, 'chính_thức': 392, 'tai_mắt': 393, 'chúng': 394, 'ném': 395, 'cá_mập': 396, 'ăn': 397, 'ảnh_hưởng': 398, 'công_việc': 399, 'làm_ăn': 400, 'giải_thích': 401, 'sự': 402, 'lỡ': 403, 'mình': 404, 'hôm': 405, 'đúng': 406, 'thường': 407, 'lui_tới': 408, 'chỉ_thị': 409, 'trùm': 410, 'giống': 411, 'nhiều': 412, 'quanh': 413, 'nó': 414, 'ngóc_ngách': 415, 'bảo_vệ': 416, 'bởi': 417, 'cánh': 418, 'rừng': 419, 'vì_thế': 420, 'địa_điểm': 421, 'thuận_lợi': 422, 'bọn': 423, 'giải_phẫu': 424, 'đối_với': 425, 'săn': 426, 'bản': 427, 'khai_sinh': 428, 'mối': 429, 'tiêu_thụ': 430, 'giao': 431, 'tận': 432, 'philippines': 433, 'ngang': 434, 'vịnh': 435, 'nhỏ': 436, 'dừng': 437, 'xe': 438, 'xuống': 439, 'xuất_xứ': 440, 'ban_đêm': 441, 'âm_thầm': 442, 'đoàn': 443, 'mất': 444, 'dấu_vết': 445, 'chắc': 446, 'lộ': 447, 'thoát_thân': 448, 'người_ta': 449, 'giới_thiệu': 450, 's.': 451, 'già_dặn': 452, 'kinh_nghiệm': 453, 'nghề': 454, 'vệ_sinh': 455, 'nêu': 456, 'thật': 457, 'cho_dù': 458, 'giờ_đây': 459, 'chủ': 460, 'bình_dị': 461, 'cần': 462, 'mười': 463, 'giá': 464, 'nhóm': 465, 'ta': 466, 'f.': 467, 'cờ': 468, 'đài_loan': 469, 'trọng_tải': 470, 'tấn': 471, 'vũng': 472, 'sâu': 473, 'trăm': 474, 'chờ': 475, 'bốc': 476, 'chịu': 477, 'trách_nhiệm': 478, 'sơn': 479, 'đặt': 480, 'diễn': 481, 'mau_chóng': 482, 'hoàn_tất': 483, 'bàn_giao': 484, 'cười': 485, 'nhếch': 486, 'môi': 487, 'hề': 488, 'phạm_pháp': 489, 'bắt': 490, 'quả_tang': 491, 'tiễn': 492, 'án': 493, 'giết': 494, 'man_rợ': 495, 'nạn_nhân': 496, 'dính_líu': 497, 'bắt_tay': 498, 'giúp': 499, 'chừng': 500, 'hình_ảnh': 501, 'trang': 502, 'mục': 503, 'án_mạng': 504, 'cáo_phó': 505, 'làng': 506, 'chài': 507, 'kuala_sepetang': 508, 'hơn': 509, '300': 510, 'trung_tâm': 511, 'huyện': 512, 'taiping': 513, 'bang': 514, 'perak': 515, '20': 516, 'dân_làng': 517, 'đánh_cá': 518, 'đồn': 519, 'ngôi': 520, 'dính_dáng': 521, 'hướng_dẫn': 522, 'mã_lai': 523, 'ấn': 524, 'cư_dân': 525, 'sống': 526, 'tách_biệt': 527, 'ngoài': 528, 'xía': 529, 'nội_tình': 530, 'nét': 531, 'văn_hoá': 532, 'chính_xác': 533, 'xảy': 534, 'cả': 535, 'buôn_bán': 536, 'ma_tuý': 537, 'trớ_trêu': 538, 'ngư_dân': 539, 'kỳ_lạ': 540, 'sống_sót': 541, 'trở_về': 542, 'câu_chuyện': 543, 'trải': 544, 'khiến': 545, 'giữ': 546, 'im_lặng': 547, 'bi_kịch': 548, 'bộ_mặt': 549, 'dữ_tợn': 550, 'dẫn': 551, 'teh': 552, 'chor': 553, 'joo': 554, 'jboh': 555, 'yang': 556, 'chua': 557, 'từng': 558, 'bắt_cóc': 559, 'câu': 560, 'trả_lời': 561, 'lạnh': 562, 'dao_cạo': 563, 'thế': 564, 'cuối_cùng': 565, 'đánh_bạo': 566, 'quen': 567, 'cũ': 568, 'tiong': 569, 'san': 570, 'lập_tức': 571, 'thái_độ': 572, 'quan_chức': 573, 'dân': 574, 'rất': 575, 'kính_trọng': 576, 'bầu': 577, 'chức': 578, '1992': 579, '13': 580, 'thất_bại': 581, 'bầu_cử': 582, 'tốt_bụng': 583, 'tử_tế': 584, 'mục_đích': 585, 'trầm_ngâm': 586, 'hồi': 587, 'nhấc': 588, 'máy': 589, 'điện_thoại': 590, 'cuộc_gọi': 591, 'thanh_niên': 592, 'nhỏ_con': 593, 'thoạt_đầu': 594, 'chần_chừ': 595, 'thuyết_phục': 596, 'mãi': 597, 'mở': 598, 'lời': 599, 'tối_trời': 600, '2004': 601, 'cỡ': 602, 'trung': 603, 'chuẩn_bị': 604, 'cất': 605, 'mẻ': 606, 'lưới': 607, 'lãnh_hải': 608, 'quay': 609, 'định': 610, 'hướng': 611, 'khoang': 612, 'xem': 613, 'chân': 614, 'họng': 615, 'súng': 616, 'đen_ngòm': 617, 'chĩa': 618, 'đầu': 619, 'ngôn_ngữ': 620, 'sát': 621, 'boong': 622, 'đạn': 623, 'run': 624, 'bần_bật': 625, 'lén': 626, 'ngước': 627, 'trời': 628, 'ạ': 629, 'tám': 630, 'trang_bị': 631, 'súng_ống': 632, 'lựu_đạn': 633, 'lấy': 634, 'bình_tĩnh': 635, 'lục_soát': 636, 'thứ': 637, 'mớ': 638, 'gí': 639, 'mang_tai': 640, 'cố': 641, 'trấn_tĩnh': 642, 'tiếng': 643, 'đôi': 644, 'hết': 645, 'mờ': 646, 'sợ_hãi': 647, 'sấp': 648, 'dưới': 649, 'ngày_đêm': 650, 'lênh_đênh': 651, 'xa_lạ': 652, 'loáng_thoáng': 653, 'trò_chuyện': 654, 'giữa': 655, 'đoán': 656, 'aceh': 657, 'đe_doạ': 658, 'chúng_bay': 659, 'sẽ': 660, 'người_nhà': 661, 'tiền': 662, 'chuộc': 663, 'tất_cả': 664, 'bắn': 665, 'vỡ': 666, 'sọ': 667, 'trốn': 668, 'thoát': 669, 'nặng_nề': 670, 'trôi': 671, 'lúc': 672, 'tuyệt_vọng': 673, 'thế_này': 674, 'gia_đình': 675, 'mạng': 676, 'không_khí': 677, 'bao': 678, 'mùi': 679, 'sát_khí': 680, 'tiểu_liên': 681, 'dán': 682, 'chặt': 683, 'mọi': 684, 'cử_chỉ': 685, 'hành_động': 686, 'bảy': 687, 'chậm_chạp': 688, 'trở_nên': 689, 'hốc_hác': 690, 'đuối': 691, 'sức': 692, 'từ_bỏ': 693, 'hy_vọng': 694, 'bắt_đầu': 695, 'tồi_tệ': 696, 'ập': 697, 'lúc_nào': 698, 'lim_dim': 699, 'chợp': 700, 'ít': 701, 'trằn_trọc': 702, 'mất_ngủ': 703, 'bỗng': 704, 'vội_vàng': 705, 'phía': 706, 'mở_mắt': 707, 'bộ': 708, 'râu_quai_nón': 709, 'sẹo': 710, 'đầu_tiên': 711, 'con_tin': 712, 'phụ': 713, 'việc': 714, 'bán': 715, 'dầu': 716, 'thức_ăn': 717, 'penang': 718, 'sum_họp': 719, 'nước_mắt': 720, 'vĩnh_viễn': 721, 'quên': 722, 'sự_kiện': 723, 'kinh_hoàng': 724, 'hiện_giờ': 725, 'cá': 726, 'chợ': 727, 'luật': 728, 'món': 729, 'vì_sao': 730, 'đích_xác': 731, 'gia_cảnh': 732, 'khả_năng': 733, 'nhau': 734, 'hải_lý': 735, 'hải_hành': 736, 'bao_giờ': 737, 'tiết_lộ': 738, 'cứ': 739, 'lắc_đầu': 740, 'chết': 741, 'quyền': 742, 'tay_trong': 743, 'sepetang': 744, 'nhiệm_vụ': 745, 'thương_lượng': 746, 'dàn_xếp': 747, 'riêng': 748, 'trò': 749, 'lá_mặt_lá_trái': 750, 'điển_hình': 751, 'thả': 752, 'giam_giữ': 753, 'sumatra': 754, 'ngoại_quốc': 755, 'cách_thức': 756, 'nộp': 757, 'lẫn': 758, 'né_tránh': 759, 'ngần_ngại': 760, 'lắm': 761, 'vô_ích': 762, 'huyết_thống': 763, 'qui_luật': 764, 'phá': 765, 'trao_đổi': 766, 'trụ_sở': 767, 'vô_cùng': 768, 'chống': 769, 'hợp_đồng': 770, '500': 771, 'usd': 772, 'trình': 773, 'giấy_tờ': 774, 'tuỳ_thân': 775, 'cần_thiết': 776, 'soi': 777, 'vật_dụng': 778, 'hàng_rào': 779, 'an_ninh': 780, 'nghiêm_ngặt': 781, 'căn': 782, 'phòng': 783, 'mô_hình': 784, 'tàu_thuỷ': 785, 'bản_đồ': 786, 'abul': 787, 'rahman': 788, 'ahmad': 789, 'chỉ_huy_trưởng': 790, '23': 791, 'hãn_hữu': 792, 'nhắm': 793, 'căng_thẳng': 794, 'hiện': 795, '18': 796, 'tuần_tra': 797, 'số_liệu': 798, 'sáu': 799, '2005': 800, 'đa_số': 801, 'quốc_tịch': 802, 'trình_bày': 803, 'tai_nghe_mắt_thấy': 804, 'kuala_setepang': 805, 'tình_nghi': 806, 'bản_địa': 807, 'chức_sắc': 808, 'phân_trần': 809, 'hoạt_động': 810, 'ngày_một': 811, 'tinh_vi': 812, 'ngụy_trang': 813, 'khéo_léo': 814, 'nghìn': 815, 'sơ_hở': 816, 'tránh': 817, 'thường_xuyên': 818, 'rung': 819, 'chuông': 820, 'đội': 821, 'thông_cảm': 822, 'đề_nghị': 823, 'cùng': 824, 'từ_chối': 825, 'quốc_gia': 826, 'lính': 827, 'binh_chủng': 828, 'phép': 829, 'đặt_chân': 830, 'tốn': 831, 'làm_ơn': 832, 'tình_báo': 833, 'độc_lập': 834, 'phân_tích': 835, 'đánh_giá': 836, 'tình_hình': 837, 'con_người': 838, 'hứng_chịu': 839, 'áp_lực': 840, 'nguy_hiểm': 841, 'rình_rập': 842, 'chiến_dịch': 843, 'malsindo': 844, 'ngày_càng': 845, 'lộng_hành': 846, 'sở_hữu': 847, 'nhanh_chóng': 848, 'liên_kết': 849, 'tổ_chức': 850, 'chung': 851, 'do': 852, 'quá': 853, 'mỏng': 854, 'phương_thức': 855, 'phối_hợp': 856, 'rời_rạc': 857, 'công_thức': 858, 'phá_sản': 859, 'thời_gian': 860, 'cao_điểm': 861, 'mạnh': 862, 'thách_thức': 863, 'đặc_biệt': 864, 'quan_tâm': 865, 'hải_quân': 866, 'lý_do': 867, 'quân_đội': 868, 'hiện_diện': 869, 'hiệu_quả': 870, 'sao': 871, 'có_mặt': 872, 'tăng': 873, 'phần_tử': 874, 'hồi_giáo': 875, 'cực_đoan': 876, 'phấn_khởi': 877, 'trinh_sát': 878, 'loại': 879, 'rađa': 880, 'hiện_đại': 881, 'giám_sát': 882, 'nhất_là': 883, 'sử_dụng': 884, 'kết_quả': 885, 'họp': 886, 'cấp': 887, 'ngoại_giao': 888, 'quốc_phòng': 889, 'cột': 890, 'mốc': 891, 'lịch_sử': 892, 'cuộc_chiến': 893, 'phương_tiện': 894, 'thông_tin_đại_chúng': 895, 'tuy_vậy': 896, 'lo_ngại': 897, 'tiềm_lực': 898, 'huy_động': 899, 'tối_đa': 900, '60': 901, 'dễ': 902, 'trà_trộn': 903, 'ngàn': 904, 'tàu_thuyền': 905, 'suốt': 906, 'khó': 907, 'quân_sự': 908, 'lên_tiếng': 909, 'tập_trung': 910, 'điều_tra': 911, 'hang_ổ': 912, 'căn_cứ': 913, 'hoang_đảo': 914, 'diệt': 915, 'vẫn': 916, 'thời_sự': 917, 'hằng': 918, 'trở': 919, 'len_lỏi': 920, 'khổng_lồ': 921, 'eo': 922, 'rùng_mình': 923, 'nghĩ': 924, 'phóng': 925, 'lựu': 926, 'đủ': 927, 'hải_lộ': 928, 'quan_trọng': 929, 'bậc': 930, 'ngưng': 931, 'ngay_lập_tức': 932, 'túm_tụm': 933, 'bàn_tán': 934, 'ghê': 935, 'mua': 936, '22': 937, 'tàu_chiến': 938, 'tăng_cường': 939, 'buổi': 940, 'tiệc': 941, 'người_mẫu': 942, 'bộc_lộ': 943, 'sàn_diễn': 944, 'nhà_báo': 945, 'ian': 946, 'halperin': 947, 'đoạt': 948, 'giải': 949, 'phóng_sự': 950, 'truyền_hình': 951, 'nbc': 952, 'abc': 953, 'vh1': 954, 'court': 955, 'tv': 956, 'thâm_nhập': 957, 'hậu_trường': 958, 'khám_phá': 959, 'kỳ': 960, '1': 961, 'đẹp': 962, 'ác_thú': 963, '2': 964, 'thở': 965, 'gáy': 966, 'liên_lạc': 967, 'chi_phí': 968, 'chụp': 969, 'ảnh': 970, '350': 971, 'giờ': 972, 'dù': 973, 'đắt': 974, 'quyết_định': 975, 'móc_nối': 976, 'kết_thân': 977, 'quan_hệ': 978, 'trực_tiếp': 979, 'nhân_vật': 980, 'chủ_chốt': 981, 'công_nghiệp': 982, 'nhiếp_ảnh_gia': 983, 'carl': 984, 'shea': 985, '16': 986, 'tuổi': 987, 'cộng_tác': 988, 'thời_trang': 989, 'thân_thiện': 990, 'náo_nhiệt': 991, 'nhạc': 992, 'dập': 993, 'thình_thịch': 994, 'vòng': 995, 'chào': 996, 'carmen': 997, 'trẻ_măng': 998, 'độ': 999, '15': 1000, 'nhào': 1001, 'ôm': 1002, 'hôn': 1003, 'tự': 1004, 'montreal': 1005, 'canada': 1006, 'ư': 1007, 'em': 1008, 'thích': 1009, 'tâm_trạng': 1010, 'phấn_khích': 1011, 'cô': 1012, 'mặc': 1013, 'váy': 1014, 'trắng': 1015, 'cực': 1016, 'lồ_lộ': 1017, 'ngực': 1018, 'phập_phồng': 1019, 'áo_lót': 1020, 'vực': 1021, 'tin': 1022, 'nhắn': 1023, 'mời': 1024, 'nhà_riêng': 1025, 'dự': 1026, 'quang_cảnh': 1027, 'bữa': 1028, 'liên_tưởng': 1029, 'phim': 1030, 'the': 1031, 'party': 1032, 'peter': 1033, 'sellers': 1034, 'vận': 1035, 'quần_áo': 1036, 'phong_cách': 1037, 'thập_niên': 1038, '1960': 1039, 'đệm': 1040, 'âm_thanh': 1041, 'rôm_rả': 1042, 'đĩa': 1043, 'mutations': 1044, 'beck': 1045, 'nồng_nặc': 1046, 'johnnie_walker': 1047, 'vòng_quanh': 1048, 'bồ': 1049, 'tao': 1050, 'kế': 1051, 'amanda': 1052, 'reilly': 1053, 'dây': 1054, '17': 1055, 'boston': 1056, 'los': 1057, 'angeles': 1058, 'miêu_tả': 1059, 'thành_phố': 1060, 'quậy': 1061, 'tới_bến': 1062, 'to': 1063, 'hell': 1064, 'nghiệt_ngã': 1065, 'bất_kỳ': 1066, 'cuộc_đời': 1067, 'hoàn_toàn': 1068, 'hôm_nay': 1069, 'vui_thú': 1070, 'cảm_thấy': 1071, 'leo': 1072, 'đỉnh': 1073, 'cú': 1074, 'nhồi': 1075, 'tim': 1076, 'treo': 1077, 'lơ_lửng': 1078, 'sợi': 1079, 'thắt_cổ': 1080, 'tâm_sự': 1081, 'ít_nhất': 1082, '35': 1083, 'theo_đuổi': 1084, 'giấc': 1085, 'mơ': 1086, 'nợ': 1087, 'thẻ_tín_dụng': 1088, 'đôla': 1089, 'mặt_mũi': 1090, 'dù_vậy': 1091, 'ngập': 1092, 'tiệc_tùng': 1093, 'thác_loạn': 1094, 'dính': 1095, 'cảm_giác': 1096, 'vứt': 1097, 'hít': 1098, 'triết_lý': 1099, 'điên_cuồng': 1100, 'hoang_dã': 1101, 'cuộc_sống': 1102, 'trước_đây': 1103, 'sách_vở': 1104, 'ngoan_ngoãn': 1105, 'nào_là': 1106, 'học': 1107, 'giỏi': 1108, 'ngay_thẳng': 1109, 'chẳng': 1110, 'lo_nghĩ': 1111, 'bản_thân': 1112, 'vậy': 1113, 'bây_giờ': 1114, 'mira': 1115, 'tuổi_teen': 1116, 'sà': 1117, 'góp': 1118, 'hào_hứng': 1119, 'tưng_bừng': 1120, 'góp_mặt': 1121, 'kate': 1122, 'moss': 1123, 'naomi': 1124, 'campbell': 1125, 'kinh_dị': 1126, 'sang_trọng': 1127, 'rượu': 1128, 'cạn': 1129, 'môi_giới': 1130, 'hắn': 1131, 'trông': 1132, 'bảnh_bao': 1133, 'thế_nào': 1134, 'duy_nhất': 1135, 'giường': 1136, 'ngủ': 1137, 'ký': 1138, 'vấn_đề': 1139, 'nhác': 1140, 'ngoắc': 1141, 'rose': 1142, 'vui_chơi': 1143, 'ăn_chơi': 1144, 'đàn_đúm': 1145, 'hầu_hết': 1146, 'đàn_ông': 1147, 'sex': 1148, 'mồi_chài': 1149, 'lão': 1150, 'đáng': 1151, 'bố': 1152, 'xui': 1153, 'liên_tục': 1154, 'dường_như': 1155, 'tiến_triển': 1156, 'nhận_lời': 1157, 'tối': 1158, 'thứ_bảy': 1159, 'top': 1160, 'tham_dự': 1161, 'claudia': 1162, 'schiffer': 1163, 'chót': 1164, 'bất_ngờ': 1165, 'huỷ': 1166, 'mẹ': 1167, 'tai_nạn': 1168, 'xe_hơi': 1169, 'drew': 1170, 'young': 1171, 'nhà_thiết_kế': 1172, 'kara': 1173, 'charles': 1174, 'công_ty': 1175, 'chăm_sóc': 1176, 'da': 1177, 'nổi_tiếng': 1178, 'địa_chỉ': 1179, 'quen_thuộc': 1180, 'siêu_người_mẫu': 1181, 'cheryl': 1182, 'tiegs': 1183, 'iman': 1184, 'tuy_nhiên': 1185, 'châu': 1186, 'âu': 1187, 'chương_trình': 1188, 'paris': 1189, 'milan': 1190, 'rời': 1191, 'chứng_kiến': 1192, 'cảnh': 1193, 'thật_sự': 1194, 'mặt_trái': 1195, 'lowry': 1196, 'cựu': 1197, '30': 1198, 'thời': 1199, 'kinh_doanh': 1200, 'dịch_vụ': 1201, 'mại_dâm': 1202, 'cao_cấp': 1203, 'vé': 1204, 'cửa': 1205, '200': 1206, 'kiếm': 1207, 'thêm': 1208, 'thu_nhập': 1209, 'biệt_thự': 1210, 'gã': 1211, 'tóc': 1212, 'xoăn': 1213, 'y_hệt': 1214, 'đô_vật': 1215, 'dùng': 1216, 'thiết_bị': 1217, 'rà': 1218, 'soát': 1219, 'vũ_khí': 1220, 'cực_kỳ': 1221, 'đèn_điện': 1222, 'thắp': 1223, 'nến': 1224, 'trầm_hương': 1225, 'thoang_thoảng': 1226, 'tạo': 1227, 'dễ_chịu': 1228, 'hấp_dẫn': 1229, 'liếc': 1230, 'giàu_có': 1231, 'tứ_tuần': 1232, 'bà': 1233, 'tisha': 1234, 'sực': 1235, 'nước_hoa': 1236, 'nhoẻn': 1237, 'miệng': 1238, 'điệu_nghệ': 1239, 'vodka': 1240, 'số': 1241, 'đại_gia': 1242, 'rỉ_tai': 1243, 'nói_đông_nói_tây': 1244, 'dò_hỏi': 1245, 'quá_khứ': 1246, 'lăn_lộn': 1247, 'nếm': 1248, 'mùi_vị': 1249, 'bài_học': 1250, 'giá_trị': 1251, 'tuổi_thọ': 1252, 'ăn_theo': 1253, 'lợi_nhuận': 1254, 'đáng_kể': 1255, 'trẻ': 1256, 'thoả_mãn': 1257, 'cơn': 1258, 'thèm_khát': 1259, 'mỹ_phẩm': 1260, 'thương_vụ': 1261, 'hưởng': 1262, 'phần_trăm': 1263, 'ý_tưởng': 1264, 'hollywood': 1265, 'madam': 1266, 'má_mì': 1267, 'đào': 1268, 'ngon': 1269, 'dắt': 1270, 'daisy': 1271, 'vàng': 1272, 'xinh': 1273, 'vogue': 1274, 'elle': 1275, 'thú_nhận': 1276, 'nguồn': 1277, 'khoe': 1278, 'căn_hộ': 1279, 'mercedes': 1280, 'thể_thao': 1281, 'làm_sao': 1282, 'tậu': 1283, 'hả': 1284, 'đột_nhiên': 1285, 'vuốt': 1286, 'kêu': 1287, 'champagne': 1288, '600': 1289, 'lầu': 1290, 'nàng': 1291, 'thủ_thỉ': 1292, 'khéo': 1293, 'vợ': 1294, 'ối': 1295, 'tưởng': 1296, 'gái': 1297, 'không_chừng': 1298, 'bĩu': 1299, 'ló_mặt': 1300, 'cầu_thang': 1301, 'rủa': 1302, 'đồ': 1303, 'ngốc': 1304, 'ttcn': 1305, 'cà_mau': 1306, 'tỉnh': 1307, 'ubnd': 1308, 'cán_bộ': 1309, 'lãnh_đạo': 1310, 'vắng': 1311, 'bận': 1312, 'gõ_cửa': 1313, 'sở': 1314, 'nông_nghiệp': 1315, 'phát_triển': 1316, 'nông_thôn': 1317, 'tô': 1318, 'quốc': 1319, 'phó_giám_đốc': 1320, 'đọc': 1321, 'u_minh_hạ': 1322, 'phản_ánh': 1323, 'bức_xúc': 1324, 'ấp': 1325, '4': 1326, 'xã': 1327, 'khánh_hoà': 1328, 'u_minh': 1329, 'lâm_trường': 1330, 'chính_quyền': 1331, 'ức_hiếp': 1332, 'chủ_tịch': 1333, 'chỉ_đạo': 1334, 'kiểm_tra': 1335, 'vụ_việc': 1336, 'thành_lập': 1337, 'dự_định': 1338, 'sợ': 1339, 'anh_em': 1340, 'thanh_tra': 1341, 'báo_cáo': 1342, 'xác_đáng': 1343, 'cụ_thể': 1344, 'tập_thể': 1345, 'ban': 1346, 'giám_đốc': 1347, 'nổi_cộm': 1348, 'xét_duyệt': 1349, 'đất_đai': 1350, 'trường': 1351, 'trạm': 1352, 'hộ_khẩu': 1353, 'hách_dịch': 1354, 'đất': 1355, 'xác_định': 1356, 'danh_tánh': 1357, '14': 1358, 'giao_khoán': 1359, 'trồng': 1360, 'ha': 1361, 'giai_đoạn': 1362, '1994': 1363, '1997': 1364, 'sản_xuất': 1365, 'hoặc': 1366, 'thuê_mướn': 1367, '2003': 1368, 'chuyển_nhượng': 1369, 'thực_tế': 1370, 'kiên_giang': 1371, 'thoả_thuận': 1372, 'quản_lý': 1373, 'đồng_chí': 1374, 'phần_lớn': 1375, 'nghỉ': 1376, 'hưu': 1377, 'vị': 1378, 'lê': 1379, 'thanh': 1380, 'phong': 1381, 'nguyên': 1382, 'phó': 1383, 'tôn_giáo': 1384, 'tỉnh_uỷ': 1385, '1996': 1386, 'thửa': 1387, '32': 1388, 'tiểu_khu': 1389, '19': 1390, 'nguyễn': 1391, 'khắc': 1392, 'chúc': 1393, 'đỗ': 1394, 'minh': 1395, 'trưởng_phòng': 1396, 'kinh_tế': 1397, 'văn': 1398, 'hạnh': 1399, 'trần': 1400, 'trí': 1401, 'sĩ_quan': 1402, 'công_an': 1403, '2000': 1404, 'trương': 1405, 'suông': 1406, 'bá': 1407, 'hoành': 1408, 'phó_chủ_tịch': 1409, 'lâm': 1410, 'thiệt': 1411, 'luông': 1412, 'hđnd': 1413, 'tuấn': 1414, 'sang_bán': 1415, 'cựu_chiến_binh': 1416, 'vui': 1417, 'xã_đội': 1418, 'sử': 1419, 'gồm': 1420, 'cậu': 1421, 'dì': 1422, 'rể': 1423, 'ruột': 1424, 'huỳnh': 1425, 'linh': 1426, 'như_vậy': 1427, 'rõ_ràng': 1428, 'sai': 1429, 'đối_tượng': 1430, 'xử_lý': 1431, 'chủ_trương': 1432, 'ghi': 1433, 'khoán': 1434, 'thành_quả': 1435, 'miếng': 1436, 'hợp_lệ': 1437, 'hoa_lợi': 1438, 'mảnh': 1439, 'thưa': 1440, 'sang_nhượng': 1441, 'nhầm_lẫn': 1442, 'xin': 1443, 'tìm_hiểu': 1444, 'chứ': 1445, 'trường_hợp': 1446, 'đương_chức': 1447, 'dại': 1448, 'đứng_tên': 1449, 'xác_minh': 1450, 'thu_hồi': 1451, 'vườn_ươm': 1452, 'xây_dựng': 1453, 'bỏ_hoang': 1454, 'tranh_chấp': 1455, 'công_đoàn': 1456, 'xạ': 1457, 'lúa': 1458, 'trông_coi': 1459, 'giùm': 1460, 'vì_vậy': 1461, 'ngộ_nhận': 1462, 'giải_quyết': 1463, 'giáp_ranh': 1464, 'đề_xuất': 1465, 'một_số': 1466, 'nước_sạch': 1467, 'môi_trường': 1468, 'đầu_tư': 1469, 'hệ_thống': 1470, 'bà_con': 1471, 'sinh_hoạt': 1472, 'đường_ống': 1473, 'phủ': 1474, 'khoan': 1475, 'cây': 1476, 'lý': 1477, 'tình_trạng': 1478, 'thiếu': 1479, 'phạt': 1480, 'quê': 1481, 'trái_phép': 1482, 'tái': 1483, 'diện': 1484, 'cương_quyết': 1485, 'chấn_chỉnh': 1486, 'tràn_lan': 1487, 'chặt_chẽ': 1488, 'tài_chính': 1489, 'gây': 1490, 'lâu_dài': 1491, 'tính_toán': 1492, 'lo': 1493, 'giảm': 1494, 'qui_hoạch': 1495, 'triển_khai': 1496, 'dự_án': 1497, 'đại_lộ': 1498, 'đông_tây': 1499, '10': 1500, 'đầu_mối': 1501, 'nông_sản': 1502, 'thực_phẩm': 1503, 'nội_thành': 1504, 'di_dời': 1505, 'ngoại_thành': 1506, 'tam_bình': 1507, 'quận': 1508, 'thủ_đức': 1509, 'hóc_môn': 1510, 'tân_xuân': 1511, 'thuỷ_hải_sản': 1512, 'bình_điền': 1513, '8': 1514, 'hộ': 1515, 'chấp_hành': 1516, 'tốt': 1517, 'chính_sách': 1518, 'kế_hoạch': 1519, 'mặt_bằng': 1520, 'thưởng': 1521, '5': 1522, 'triệu': 1523, 'đồng': 1524, 'song': 1525, 'thời_điểm': 1526, 'hoàn_thành': 1527, 'tiểu_thương': 1528, 'lao_động': 1529, 'liên_quan': 1530, 'sạp': 1531, 'chị': 1532, 'thị': 1533, 'kim': 1534, 'hà': 1535, 'mai': 1536, 'xuân': 1537, '6': 1538, 'phan': 1539, 'khoẻ': 1540, 'thở_dài': 1541, 'hoang_mang': 1542, 'bán_buôn': 1543, 'bạn_hàng': 1544, 'giấy_phép': 1545, 'nghĩa_vụ': 1546, 'thuế': 1547, 'vựa': 1548, 'hình_thức': 1549, 'gối_đầu': 1550, 'cận': 1551, 'tết': 1552, 'mối_lái': 1553, 'tiến_hành': 1554, 'thanh_toán': 1555, 'tiền_bạc': 1556, 'nợ_nần': 1557, 'thắc_mắc': 1558, 'băn_khoăn': 1559, 'rõ': 1560, 'thương_mại': 1561, 'tiếp_xúc': 1562, 'tp': 1563, 'bảo': 1564, 'thông_báo': 1565, 'tập_hợp': 1566, 'xem_xét': 1567, 'khẳng_định': 1568, 'bất_an': 1569, 'con_nợ': 1570, 'lưng_chừng': 1571, 'trả': 1572, 'xóm_củi': 1573, 'q.': 1574, 'đơn': 1575, 'kiến_nghị': 1576, 'hoãn': 1577, 'già': 1578, 'bql': 1579, 'nan_giải': 1580, 'hiện_tại': 1581, 'số_lượng': 1582, 'dự_kiến': 1583, '700': 1584, '527': 1585, 'đợt': 1586, 'điều_chỉnh': 1587, 'vừa_rồi': 1588, '374': 1589, '326': 1590, '29': 1591, 'ăn_uống': 1592, 'hỗ_trợ': 1593, 'kè_kè': 1594, 'nay': 1595, 'chấp_nhận': 1596, 'tạm_thời': 1597, 'tròm_trèm': 1598, 'bán_lẻ': 1599, 'bà_cụ': 1600, '222b': 1601, 'nghèo': 1602, 'dạt': 1603, 'xe_hàng': 1604, 'nới_tay': 1605, 'cơm': 1606, 'buôn': 1607, 'sỉ': 1608, 'dư_dả': 1609, '12': 1610, 'm²': 1611, 'tuỳ': 1612, '400': 1613, 'giải_toả': 1614, 'cạnh': 1615, 'bám': 1616, 'sinh_sống': 1617, 'bốc_vác': 1618, 'kéo': 1619, 'rửa': 1620, 'rau': 1621, 'lau': 1622, 'quả': 1623, 'lột': 1624, 'vỏ': 1625, 'tỏi': 1626, 'hành': 1627, 'nặng_lòng': 1628, 'số_phận': 1629, 'thợ': 1630, 'bốc_xếp': 1631, 'nhân_công': 1632, 'nghiệp_đoàn': 1633, 'trối_chết': 1634, 'chuyển_đổi': 1635, 'thành': 1636, 'hợp_tác_xã': 1637, 'đối_tác': 1638, 'tự_do': 1639, 'thành_viên': 1640, 'sắp': 1641, 'khổ_sở': 1642, 'kém': 1643, 'tạm': 1644, 'chánh_hưng': 1645, 'cầu_muối': 1646, 'cầu_ông_lãnh': 1647, 'xây': 1648, 'xong': 1649, 'ngán_ngẩm': 1650, 'tiếp_tục': 1651, 'khu': 1652, 'bố_trí': 1653, 'chín': 1654, 'tức_là': 1655, 'nữa': 1656, 'trước_mắt': 1657, 'công_trường': 1658, 'ngổn_ngang': 1659, 'thép': 1660, 'nhà_lồng': 1661, 'sàn': 1662, 'bêtông': 1663, 'đổ': 1664, 'dãy': 1665, 'điều_hành': 1666, 'trơ': 1667, 'giàn_giáo': 1668, 'nối': 1669, 'tráng': 1670, 'nhựa': 1671, 'hoàng': 1672, 'đạo': 1673, 'thuý': 1674, 'an_lạc': 1675, 'đắp': 1676, 'đá': 1677, 'ổ_voi': 1678, 'chấp_thuận': 1679, 'mộc': 1680, 'vô': 1681, 'dũng': 1682, 'tnhh': 1683, 'ô': 1684, 'trống': 1685, 'đăng_ký': 1686, 'ưu_tiên': 1687, 'chế_độ': 1688, 'xếp': 1689, 'quí': 1690, 'giảm_thiểu': 1691, 'con_số': 1692, 'lạnh_lùng': 1693, 'út': 1694, 'liền_kề': 1695, 'c': 1696, 'gian_nan': 1697, 'trụ': 1698, 'ổn_định': 1699, 'đắp_đổi': 1700, 'qua_ngày': 1701, 'cuốc': 1702, 'xe_ôm': 1703, '25': 1704, 'đ': 1705, 'đêm_hôm': 1706, 'riết': 1707, 'thấu': 1708, 'hùn': 1709, 'trọ': 1710, 'bê': 1711, 'chọn': 1712, 'thừa_nhận': 1713, 'hì_hụi': 1714, 'gầy': 1715, 'dựng': 1716, 'khổ': 1717, 'lây': 1718, 'c4': 1719, 'vốn_liếng': 1720, 'hoàn_cảnh': 1721, 'thô_lỗ': 1722, 'cộc_cằn': 1723, 'lục': 1724, 'vân': 1725, 'tiên': 1726, 'chạy': 1727, 'hùng': 1728, 'phu': 1729, 'cưu_mang': 1730, 'bến_xe': 1731, 'dặn_đi_dặn_lại': 1732, 'đạo_đức': 1733, 'nhớ': 1734, 'xuất_thân': 1735, 'đồng_nghiệp': 1736, 'khai_trừ': 1737, 'dắt_mối': 1738, 'chăn_dắt': 1739, 'liều_mạng': 1740, 'đuổi': 1741, 'cướp_giật': 1742, 'khách': 1743, 'cầu': 1744, 'sài_gòn': 1745, 'thất_thanh': 1746, 'bóng': 1747, 'vút': 1748, 'cắt': 1749, 'rồ': 1750, 'ép': 1751, 'lươn': 1752, 'ngã': 1753, 'lăn': 1754, 'trầy_trụa': 1755, 'tóm': 1756, 'gọn': 1757, 'hẻm': 1758, 'chiêu': 1759, 'tấm': 1760, 'khen': 1761, 'thành_tích': 1762, 'trang_trọng': 1763, 'học_tập': 1764, 'trai': 1765, 'lớp': 1766, 'kính_phục': 1767, 'đơn_giản': 1768, 'bất_bình': 1769, 'ra_tay': 1770, 'bại_liệt': 1771, 'cha': 1772, 'thay': 1773, 'phiên': 1774, 'người_đời': 1775, 'khinh_khi': 1776, 'háo_danh': 1777, 'đứa': 1778, 'xấu': 1779, 'nhặt': 1780, 'bóp': 1781, 'rơi': 1782, 'cổng': 1783, '800': 1784, 'bé': 1785, 'tổng_kết': 1786, 'phong_trào': 1787, 'quần_chúng': 1788, 'thượng_tá': 1789, 'liêm': 1790, 'thống_kê': 1791, 'hành_nghề': 1792, 'thu_thập': 1793, 'phá_án': 1794, 'phạm': 1795, 'ngụ': 1796, 'khu_phố': 1797, '3': 1798, 'phường': 1799, 'thạnh_xuân': 1800, 'tư': 1801, 'an_sương': 1802, 'lao': 1803, 'thẳng': 1804, 'nuôi': 1805, 'ước_mơ': 1806, 'trưa': 1807, 'bến': 1808, 'đinh': 1809, 'lĩnh': 1810, 'móc': 1811, 'nilông': 1812, 'quyển': 1813, 'giáo_trình': 1814, 'đại_học': 1815, 'môn': 1816, 'triết_học': 1817, 'mác': 1818, 'lênin': 1819, 'tò_mò': 1820, 'lân_la': 1821, 'làm_quen': 1822, 'chật': 1823, 'vẻ': 1824, 'hãnh_diện': 1825, 'mừng': 1826, 'lôi': 1827, 'cầm': 1828, 'giấy': 1829, 'photo': 1830, 'trúng_tuyển': 1831, 'nói_chuyện': 1832, 'màng': 1833, 'hiểu': 1834, 'niềm': 1835, 'đời': 1836, 'lam_lũ': 1837, 'thật_ra': 1838, 'tốt_nghiệp': 1839, 'đh': 1840, 'cơ_cực': 1841, 'kỳ_công': 1842, 'sâm': 1843, 'cha_mẹ': 1844, 'cực_khổ': 1845, 'gạt': 1846, 'ba_má': 1847, 'ngại': 1848, 'mong': 1849, 'đổi_đời': 1850, 'thương': 1851, 'ráng': 1852, 'mãn_nguyện': 1853, 'lòng': 1854, 'khối': 1855, 'cao_đẳng': 1856, 'mặc_cảm': 1857, 'nghiệp': 1858, 'hèn_kém': 1859, 'ii': 1860, 'bánh': 1861, 'kia': 1862, 'khuất': 1863, 'trường_học': 1864, 'thẹn': 1865, 'bạn_bè': 1866, 'an_nhơn': 1867, 'gò_vấp': 1868, 'tiền_lương': 1869, 'dành_dụm': 1870, 'khang_trang': 1871, 'dột_nát': 1872, 'khuyên': 1873, 'nhờ_vả': 1874, 'vả_lại': 1875, 'đành': 1876, 'sĩ_tử': 1877, 'ngơ_ngác': 1878, 'thi': 1879, 'nhập_học': 1880, 'cường': 1881, 'trọng': 1882, 'trưng': 1883, 'dồn': 1884, 'đồng_tiền': 1885, 'nắng': 1886, 'mưa': 1887, 'ăn_học': 1888, 'nửa_đêm': 1889, 'ngơi_nghỉ': 1890, 'gục': 1891, 'hè': 1892, 'phố': 1893, 'trấn_lột': 1894, 'túi': 1895, 'đóng': 1896, 'học_phí': 1897, 'nài_nỉ': 1898, 'trấn': 1899, 'bỏ_qua': 1900, 'tui': 1901, 'ngày_mai': 1902, 'động_lòng': 1903, 'nỗi': 1904, 'khốn_cùng': 1905, 'phần_thưởng': 1906, 'sộp': 1907, 'giảng_đường': 1908, 'xe_đạp': 1909, 'tội_nghiệp': 1910, 'yên_tâm': 1911, 'đường_phố': 1912, 'dạo': 1913, 'lý_sự': 1914, 'tuần_lễ': 1915, 'thân_phận': 1916, 'trừ': 1917, 'xăng': 1918, 'cộ': 1919, 'bến_bãi': 1920, 'chầu': 1921, 'chia_tay': 1922, 'khoát': 1923, 'dòng': 1924, 'tan_tầm': 1925, 'ngả': 1926, 'chiến_thắng': 1927, 'đón_chào': 1928, 'đón_tiếp': 1929, 'vô_tiền_khoáng_hậu': 1930, 'chặng': 1931, 'thử_thách': 1932, 'khởi_động': 1933, 'thầy': 1934, 'dành': 1935, 'sách_báo': 1936, 'nâng': 1937, 'kiến_thức': 1938, 'độc_thân': 1939, 'thị_trấn': 1940, 'hoàn_lão': 1941, 'thầy_trò': 1942, 'đua': 1943, 'tứ': 1944, 'bí_thư': 1945, 'dám': 1946, 'nhà_trường': 1947, 'tin_cậy': 1948, 'chủ_nhiệm': 1949, 'n': 1950, 'thpt': 1951, 'bố_trạch': 1952, 'học_sinh': 1953, 'thông_minh': 1954, 'olympia': 1955, 'lớp_học': 1956, 'tập_dượt': 1957, 'sưu_tập': 1958, 'lĩnh_vực': 1959, 'tương_tự': 1960, 'vật_lý': 1961, 'toán_học': 1962, 'văn_học': 1963, 'địa_lý': 1964, 'mỹ_thuật': 1965, 'âm_nhạc': 1966, 'tổ': 1967, 'mảng': 1968, 'chấm': 1969, 'kích_thích': 1970, 'đồng_hới': 1971, 'cuốn': 1972, 'sách': 1973, 'tạp_chí': 1974, 'thắng': 1975, 'như_thế': 1976, 'tài_liệu': 1977, 'chuyển_tiếp': 1978, 'vậy_là': 1979, 'học_trò': 1980, 'thi_đua': 1981, 'trội_bật': 1982, 'so': 1983, 'dần_dần': 1984, 'đấu_trường': 1985, 'mc': 1986, 'đồng_thời': 1987, 'đáp_án': 1988, 'hầu_như': 1989, 'nắm': 1990, 'chung_kết': 1991, 'thí_sinh': 1992, 'giành': 1993, '39': 1994, '40': 1995, 'ngày_tháng': 1996, 'trung_học': 1997, 'may_mắn': 1998, 'thầy_cô': 1999, 'bè_bạn': 2000, 'khủng_hoảng': 2001, 'khốn_khó': 2002, 'đeo_đẳng': 2003, 'thú_thật': 2004, 'vóc': 2005, 'bé_hạt_tiêu': 2006, 'gặp_mặt': 2007, 'hình_dung': 2008, 'm': 2009, 'nặng': 2010, 'kg': 2011, 'ánh': 2012, 'lạ': 2013, 'tự_tin': 2014, 'hiếm': 2015, 'phảng_phất': 2016, 'chút': 2017, 'phớt': 2018, 'ănglê': 2019, 'đùa': 2020, 'máu': 2021, 'chướng_ngại_vật': 2022, 'bồi_dưỡng': 2023, 'tuy': 2024, 'sai_sót': 2025, 'ngớ_ngẩn': 2026, 'bao_nhiêu': 2027, 'trường_lớp': 2028, 'lo_lắng': 2029, 'nhân': 2030, 'quảng_bình': 2031, 'thấp': 2032, 'buồn': 2033, 'giai_thoại': 2034, 'càng': 2035, 'bấy_nhiêu': 2036, 'gầy_guộc': 2037, 'cặp': 2038, 'chuồng': 2039, 'chăm': 2040, 'đàn': 2041, 'heo': 2042, 'huyện_uỷ': 2043, 'lương': 2044, 'chi': 2045, 'thuốc_thang': 2046, 'đau_ốm': 2047, 'quanh_năm': 2048, 'đánh_vật': 2049, 'sào': 2050, 'ruộng': 2051, 'chăm_nom': 2052, 'cỏ': 2053, 'bón': 2054, 'phân': 2055, 'gặt_hái': 2056, 'mò': 2057, 'cua': 2058, 'ốc': 2059, 'giậm': 2060, 'ngập_ngừng': 2061, 'lúng_túng': 2062, 'ban_ngày': 2063, 'chi_tiết': 2064, 'ứa': 2065, 'vòng_tay': 2066, 'yêu_thương': 2067, 'hàng_xóm': 2068, 'gom_góp': 2069, 'hộp': 2070, 'sữa': 2071, 'lộ_phí': 2072, 'côi': 2073, 'đà_nẵng': 2074, 'thăm': 2075, 'cháu': 2076, 'cúc': 2077, 'nhà_văn_hoá': 2078, 'căn_bệnh': 2079, 'thèm': 2080, 'thi_thoảng': 2081, 'dăm_ba': 2082, 'ngoại': 2083, 'cụ': 2084, 'vy': 2085, '85': 2086, 'tức': 2087, 'coi': 2088, 'tivi': 2089, 'năm_ngoái': 2090, 'lễ_mễ': 2091, 'bưng': 2092, 'trao': 2093, 'mai_mốt': 2094, 'chúng_bạn': 2095, 'mượn': 2096, 'cố_gắng': 2097, 'thu_xếp': 2098, 'chủ_nhật': 2099, 'tranh_thủ': 2100, 'ôn_luyện': 2101, 'tính_cách': 2102, 'phục': 2103, 'nói_dối': 2104, 'sức_mạnh': 2105, 'hà_nội': 2106, 'cấp_cứu': 2107, 'bệnh_viện': 2108, 'trung_ương': 2109, 'huế': 2110, 'mổ': 2111, 'u': 2112, 'não': 2113, 'vn': 2114, 'cuba': 2115, 'chữa_chạy': 2116, 'bệnh_tình': 2117, 'chợt': 2118, 'game': 2119, 'show': 2120, 'đài_truyền_hình': 2121, 'thầm': 2122, 'hảo_tâm': 2123, 'trang_trải': 2124, 'viện_phí': 2125, 'sức_lực': 2126, 'hiểm_nghèo': 2127, 'nông_dân': 2128, 'chuyên_môn': 2129, 'dọn': 2130, 'sẵn': 2131, 'bàn': 2132, 'dáng': 2133, 'đậm': 2134, 'lưng': 2135, 'gù': 2136, 'thái': 2137, 'dáng_dấp': 2138, 'cấp_nước': 2139, 'công_trình': 2140, 'ống': 2141, 'rò_rỉ': 2142, 'bể': 2143, 'sửa_chữa': 2144, 'cúp': 2145, 'liền': 2146, 'cây_số': 2147, 'bộc_bạch': 2148, 'ý_thức': 2149, 'xài': 2150, 'mênh_mông': 2151, 'kênh_rạch': 2152, 'điên': 2153, 'giếng_khoan': 2154, '100': 2155, '120': 2156, 'thủ_công': 2157, 'giàn': 2158, 'dã_chiến': 2159, 'mũi': 2160, 'vòng_tròn': 2161, 'giếng': 2162, 'đạt': 2163, 'đồng_tháp': 2164, '237': 2165, '106': 2166, 'cụm': 2167, 'tuyến': 2168, 'dân_cư': 2169, 'tư_nhân': 2170, 'gắn': 2171, 'quyền_lợi': 2172, 'hạch_toán': 2173, 'phục_vụ': 2174, 'toàn': 2175, 'vốn': 2176, 'nhà_nước': 2177, '7': 2178, 'mê': 2179, 'dữ': 2180, 'mẫu': 2181, 'kiểm_định': 2182, 'đảm_bảo': 2183, 'tiêu_chuẩn': 2184, 'mặt_đất': 2185, 'lắp': 2186, 'bơm': 2187, 'công_suất': 2188, 'chất_lượng': 2189, 'nhu_cầu': 2190, 'chuyển_hướng': 2191, 'khuyến_khích': 2192, 'vay': 2193, 'cơ_sở': 2194, 'đốc_binh_kiều': 2195, 'tháp_mười': 2196, '88': 2197, 'cải_tạo': 2198, 'dửng_dưng': 2199, 'đem': 2200, 'đồng_hồ': 2201, 'chảy': 2202, 'lu': 2203, 'sướng': 2204, 'mùa': 2205, 'thủng_thẳng': 2206, 'trả_góp': 2207, 'đông_xuân': 2208, 'hè_thu': 2209, '96': 2210, 'chú': 2211, 'tỏ_vẻ': 2212, 'bệnh': 2213, 'tắm': 2214, 'ngứa_ngáy': 2215, 'sông': 2216, 'rạch': 2217, 'thuốc_trừ_sâu': 2218, 'rơm_rác': 2219, 'xác': 2220, 'súc_vật': 2221, 'ô_nhiễm': 2222, 'quá_trời': 2223, 'thu_hút': 2224, 'dân_nghèo': 2225, 'bồn': 2226, 'đài_nước': 2227, 'kêu_gọi': 2228, 'tân_kiều': 2229, 'lắp_đặt': 2230, 'hưng_thạnh': 2231, 'mỹ_an': 2232, 'mỹ_hoà': 2233, '175': 2234, 'đòi_hỏi': 2235, 'công_phu': 2236, 'canh_me': 2237, 'dời': 2238, 'né': 2239, 'giao_thông': 2240, 'mở_rộng': 2241, 'ổng': 2242, 'bù_lỗ': 2243, 'phú_điền': 2244, 'vòi_vọi': 2245, 'bầu_trời': 2246, 'hợp_tác': 2247, 'long': 2248, 'đựng': 2249, '315': 2250, 'thu': 2251, 'm³': 2252, 'mỹ_thạnh': 2253, 'kinh_ba': 2254, 'mỹ_điền': 2255, 'nòi': 2256, 'làm_ruộng': 2257, 'kiêm': 2258, '1998': 2259, 'unicef': 2260, 'tài_trợ': 2261, '390': 2262, 'luẩn_quẩn': 2263, 'xung_phong': 2264, '450': 2265, 'đánh_dấu': 2266, 'kỹ': 2267, 'chuối': 2268, 'đám_cưới': 2269, 'sự_cố': 2270, 'cháy': 2271, 'môtơ': 2272, 'chửi': 2273, 'te_tua': 2274, 'giáp': 2275, 'xóm': 2276, 'quanh_đi_quẩn_lại': 2277, 'hì_hục': 2278, 'chỉ_huy': 2279, 'nhảy': 2280, 'mình_mẩy': 2281, 'bê_bết': 2282, 'bùn': 2283, 'ướt_như_chuột_lột': 2284, 'bảo_đảm': 2285, 'đột_ngột': 2286, 'máy_phát_điện': 2287, 'dự_phòng': 2288, 'thoải_mái': 2289, 'ngoài_ra': 2290, 'thưa_thớt': 2291, 'chạy_tới_chạy_lui': 2292, 'lan': 2293, 'hương': 2294, '28': 2295, 'nhiễm': 2296, 'chất_độc': 2297, 'da_cam': 2298, 'dioxin': 2299, 'chân_tay': 2300, 'co_quắp': 2301, 'chung_thân': 2302, 'xe_lăn': 2303, 'bố_mẹ': 2304, 'chữ': 2305, 'toán': 2306, 'máy_tính': 2307, 'nói_nhỏ': 2308, 'một_ít': 2309, 'ham': 2310, 'đau_nhói': 2311, 'báo_vụ': 2312, 'đơn_vị': 2313, 'k26': 2314, 'b3': 2315, 'tây_nguyên': 2316, 'trịnh': 2317, 'sn': 2318, '1955': 2319, 'dạy': 2320, 'mầm_non': 2321, 'hoa_mai': 2322, 'đau_xót': 2323, 'sinh': 2324, '28406': 2325, 'xinh_tươi': 2326, 'bông': 2327, 'lẫy': 2328, 'bò': 2329, 'gượng': 2330, 'lật': 2331, 'ông_bà': 2332, 'hớt_hải': 2333, 'nhi': 2334, 'thụy_điển': 2335, 'bạch_mai': 2336, 'kèm': 2337, 'chân_thành': 2338, 'bác_sĩ': 2339, 'gắng': 2340, 'điều_trị': 2341, 'trở_lại': 2342, 'bình_thường': 2343, 'tốn_kém': 2344, 'gian': 2345, 'ú_ớ': 2346, 'ầm': 2347, 'nụ': 2348, 'méo_mó': 2349, 'ngoẹo': 2350, 'dịch': 2351, 'vinh': 2352, 'còng': 2353, 'gỗ': 2354, 'phấn': 2355, 'ngón_cái': 2356, 'ngón_trỏ': 2357, 'nền': 2358, 'ơi': 2359, 'dấu': 2360, 'xoá': 2361, 'lưỡng': 2362, 'liệt_sĩ': 2363, 'vợ_chồng': 2364, 'ngạc_nhiên': 2365, 'sung_sướng': 2366, 'trào': 2367, 'chồng': 2368, 'em_gái': 2369, 'mắng': 2370, 'ngu': 2371, 'bấy_giờ': 2372, 'trợ_cấp': 2373, 'thương_tật': 2374, 'bút': 2375, 'lá': 2376, 'gửi': 2377, 'hồi_âm': 2378, 'đại_ý': 2379, 'thế_là': 2380, 'thương_binh': 2381, 'chiến_trường': 2382, 'thân_tình': 2383, 'bậm': 2384, 'kẹp': 2385, 'bút_chì': 2386, 'ký_hoạ': 2387, 'chân_dung': 2388, 'có_lẽ': 2389, 'gương': 2390, 'vẽ': 2391, 'đằng': 2392, 'khoèo': 2393, 'nghiêng': 2394, 'xương_xương': 2395, 'trong_sáng': 2396, 'nhí_nhảnh': 2397, 'lọn': 2398, 'đuôi': 2399, 'gà': 2400, 'giật_mình': 2401, 'tường': 2402, 'hoá_ra': 2403, 'tranh': 2404, 'dăm': 2405, 'chiều_chiều': 2406, 'tây_du_ký': 2407, 'đan': 2408, 'len': 2409, 'áo': 2410, 'bật': 2411, 'khâu': 2412, 'chăn': 2413, 'trân_trọng': 2414, 'tặng': 2415, 'xuân_hoà': 2416, 'lô': 2417, 'thị_xã': 2418, 'tếu_táo': 2419, 'cccp': 2420, 'cát': 2421, 'cót': 2422, 'củi': 2423, 'phên': 2424, 'lỗi': 2425, 'có_điều': 2426, 'gắt': 2427, 'xin_lỗi': 2428, 'lỡ_lời': 2429, 'đề': 2430, 'invalid': 2431, 'tàn_phế': 2432, 'có_vẻ': 2433, 'ngượng_nghịu': 2434, 'sư_phạm': 2435, 'ngoại_ngữ': 2436, 'đầm_hồng': 2437, 'chiêm_hoá': 2438, 'ý': 2439, 'tiếc': 2440, 'máy_vi_tính': 2441, 'hỏng': 2442, 'chữa': 2443, 'biểu_diễn': 2444, 'trúng': 2445, 'xổ_số': 2446, 'sony': 2447, 'inch': 2448, 'lợn_nái': 2449, 'nối_mạng': 2450, 'mô_tê': 2451, 'thư': 2452, 'dở': 2453, 'bưu_tá': 2454, 'làm_gì': 2455, 'thân_quen': 2456, 'bưu_điện': 2457, '284': 2458, 'phú_nhuận': 2459, '150': 2460, 'cảm_ơn': 2461, 'có_khi': 2462, 'điện_thoại_di_động': 2463, 'nhắn_tin': 2464, 'bác': 2465, 'bớt': 2466, 'hội': 2467, 'ctđ': 2468, 'nghị_lực': 2469, 'lũ_lụt': 2470, 'mttq': 2471, 'ủng_hộ': 2472, 'mới_rồi': 2473, 'tai_hoạ': 2474, 'sóng_thần': 2475, 'khủng_khiếp': 2476, 'đông_nam_á': 2477, 'bộ_óc': 2478, 'tỉnh_táo': 2479, 'nhân_ái': 2480, 'quý_trọng': 2481, 'nhận_xét': 2482, 'khách_quan': 2483, 'ngó': 2484, 'tệ_nạn': 2485, 'xã_hội': 2486, 'tật_nguyền': 2487, 'tâm_hồn': 2488, 'trung_cấp': 2489, 'công_nghệ_thông_tin': 2490, 'việc_làm': 2491, 'lâu': 2492, 'ước_vọng': 2493, 'đỡ': 2494, 'giá_như': 2495, 'người_thân': 2496, 'bi_quan': 2497, 'nao': 2498, 'tạm_biệt': 2499, 'nồng_ấm': 2500, 'hứa': 2501, 'bày_tỏ': 2502, 'cảm_phục': 2503, 'minh_oan': 2504, 'võ': 2505, 'hảo': 2506, 'chứng_nhận': 2507, 'đình': 2508, 'thản': 2509, 'cách_mạng': 2510, 'oan': 2511, 'kháng_chiến': 2512, 'pháp': 2513, 'ngỡ': 2514, 'cá_biệt': 2515, 'qui_định': 2516, 'chòi': 2517, 'chêm': 2518, 'thủng': 2519, 'lỗ_chỗ': 2520, 'tân_thạnh_tây': 2521, 'mỏ_cày': 2522, 'bến_tre': 2523, 'nhì': 2524, 'ngày_ngày': 2525, 'ra_vào': 2526, 'hoạ': 2527, 'chàng': 2528, 'comlê': 2529, 'phượng': 2530, 'khoẻ_mạnh': 2531, 'chắt': 2532, 'ngậm_ngùi': 2533, 'cay_đắng': 2534, 'đeo': 2535, 'kính': 2536, '1949': 2537, 'chiến_tranh': 2538, 'hoà_bình': 2539, 'lặn_lội': 2540, 'đồng_đội': 2541, 'khơi_gợi': 2542, 'hồi_ức': 2543, 'chữ_ký': 2544, '1990': 2545, 'măng': 2546, 'mặt_trận': 2547, '16a': 2548, 'nam_bộ': 2549, '1950': 2550, 'ý_kiến': 2551, 'danh_dự': 2552, 'địch': 2553, 'địch_tình': 2554, 'công_tác': 2555, 'chợ_lách': 2556, 'xác_nhận': 2557, 'rút_lui': 2558, 'di_chuyển': 2559, 'vội_vã': 2560, 'xáo': 2561, 'loạn': 2562, 'xử_tử': 2563, '45': 2564, 'qua_đời': 2565, 'run_run': 2566, 'lãnh': 2567, 'tổ_quốc': 2568, 'công': 2569, 'cặm_cụi': 2570, 'nguyên_tắc': 2571, 'kín': 2572, 'ngơi': 2573, 'hinh': 2574, 'khóc': 2575, 'phương': 2576, 'phải_chi': 2577, 'đến_nỗi': 2578, 'gõ': 2579, 'tổng_bí_thư': 2580, 'nông': 2581, 'đức': 2582, 'chí': 2583, 'thọ': 2584, 'thủ_tướng': 2585, 'kiệt': 2586, 'đốc_thúc': 2587, 'chứng_thực': 2588, 'chậm_trễ': 2589, 'đền': 2590, 'ơn': 2591, 'nghĩa': 2592, 'quà_bánh': 2593, 'thăm_hỏi': 2594, 'suy_luận': 2595, 'phán_đoán': 2596, 'áp_đặt': 2597, 'khốc_liệt': 2598, 'biến_động': 2599, 'bổ_sung': 2600, 'hồ_sơ': 2601, 'thân_nhân': 2602, 'ngành': 2603, 'dĩ_nhiên': 2604, 'ông_bà_cụ': 2605, 'nguệch_ngoạc': 2606, 'củ_chi': 2607, 'chiếm_đóng': 2608, 'tích_cực': 2609, 'giấu': 2610, 'tiếp_tế': 2611, 'quân_dịch': 2612, 'thoát_ly': 2613, 'quân': 2614, 'giải_phóng': 2615, 'lộc_ninh': 2616, 'đào_ngũ': 2617, 'đài_phát_thanh': 2618, 'dặn': 2619, 'kẻo': 2620, 'tủi': 2621, 'lang_thang': 2622, '83': 2623, 'hậu_cần': 2624, 'bút_tích': 2625, 'nhân_dạng': 2626, 'bộ_đội': 2627, 'tiểu_đội_trưởng': 2628, 'y_tá': 2629, 'cứu_thương': 2630, 'tái_hiện': 2631, 'trận': 2632, 'càn': 2633, 'kho': 2634, 'lương_thực': 2635, '27371': 2636, 'bị_thương': 2637, 'đùi': 2638, 'bụng': 2639, 'chôn_cất': 2640, 'campuchia': 2641, 'phước_thạnh': 2642, 'kiên_quyết': 2643, 'nhận_định': 2644, 'rã_ngũ': 2645, 'tiếp_nhận': 2646, 'công_văn': 2647, 'ngụy': 2648, 'đau_đớn': 2649, 'hi_sinh': 2650, 'ông_cụ': 2651, '80': 2652, 'lđ': 2653, 'tb': 2654, 'xh': 2655, 'bộ_tư_lệnh': 2656, 'vời_vợi': 2657, 'hồng': 2658, 'chính_trị': 2659, 'tư_tưởng': 2660, 'chiêu_hồi': 2661, 'tìm_kiếm': 2662, 'chứng_minh': 2663, 'kẻ': 2664, 'bác_bỏ': 2665, 'khiếu_nại': 2666, '92': 2667, 'an': 2668, 'ý_nghĩ': 2669, 'đau': 2670, 'hành_hạ': 2671, 'lập': 2672, 'kỷ_lục': 2673, '110': 2674, '90': 2675, 'thắng_lợi': 2676, '21': 2677, 'vòng_nguyệt_quế': 2678, 'đích': 2679, 'túc': 2680, 'đò': 2681, 'hi_vọng': 2682, 'ậm_ừ': 2683, 'răng': 2684, 'rứa': 2685, 'vtv': 2686, 'chớ': 2687, 'mần': 2688, 'dẫu_vậy': 2689, 'sao_nhãng': 2690, 'thu_nhận': 2691, 'chờ_đợi': 2692, 'giấy_báo': 2693, 'một_mạch': 2694, 'an_tâm': 2695, 'động_viên': 2696, '240': 2697, 'trở_ra': 2698, 'giường_bệnh': 2699, 'tươi': 2700, 'máy_ảnh': 2701, 'bà_già': 2702, 'số_là': 2703, 'cạo': 2704, 'trọc': 2705, 'em_trai': 2706, 'nội': 2707, 'hiếu_thảo': 2708, 'thầy_thuốc': 2709, 'tự_hào': 2710, 'quê_hương': 2711, 'quốc_lộ': 2712, '1a': 2713, 'vũ': 2714, 'lối': 2715, 'giăng': 2716, 'băngrôn': 2717, 'chào_mừng': 2718, 'vô_địch': 2719, 'khẩu_hiệu': 2720, 'chi_đoàn': 2721, 'xôn_xao': 2722, 'rồng_rắn': 2723, 'cờ_xí': 2724, 'đèo': 2725, 'lý_hoà': 2726, 'tài': 2727, 'vây': 2728, 'rộn': 2729, 'vang': 2730, 'hoan_hô': 2731, 'reo': 2732, 'ngày_xưa': 2733, 'trạng_nguyên': 2734, 'vinh_qui': 2735, 'võng_lọng': 2736, 'lạ_lùng': 2737, 'lạ_kỳ': 2738, 'huệ': 2739, 'thcs': 2740, 'quách': 2741, 'đạp': 2742, 'tha_thẩn': 2743, 'góc_học_tập': 2744, 'sờ': 2745, 'ván': 2746, 'trống_hoác': 2747, 'dột': 2748, 'tong_tong': 2749, 'xuýt_xoa': 2750, 'ri': 2751, 'eng': 2752, 'chân_trời': 2753, 'suất': 2754, 'học_bổng': 2755, 'trị_giá': 2756, 'du_học': 2757, 'chưa_thể': 2758, 'trĩu_nặng': 2759, 'âu_lo': 2760, 'sức_khoẻ': 2761, 'phấn_chấn': 2762, 'yêu': 2763, 'tỉ_tê': 2764, 'buồn_cười': 2765, 'phòng_thí_nghiệm': 2766, 'nho_nhỏ': 2767, 'đồng_nát': 2768, 'phế_liệu': 2769, 'chế_tạo': 2770, 'robot': 2771, 'tự_động_học': 2772, 'điện_tử': 2773, 'tỉnh_đoàn': 2774, '9': 2775, 'cháy_bỏng': 2776, 'kỹ_sư': 2777, 'đỉnh_cao': 2778, 'phần_mềm': 2779, 'cài': 2780, 'lập_trình': 2781, 'tương_lai': 2782, 'nghèo_khó': 2783, 'truyền_kỳ': 2784, 'anh_hùng': 2785, 'hiếu': 2786, 'nhấn': 2787, 'thuộc_lòng': 2788, 'bàn_phím': 2789, 'alô': 2790, 'linh_cảm': 2791, 'mách_bảo': 2792, 'xưng_hô': 2793, 'thân_mật': 2794, 'ôi': 2795, 'hình_như': 2796, 'rớt': 2797, 'vâng': 2798, 'tai': 2799, 'lùng_bùng': 2800, 'mô_tả': 2801, 'fred': 2802, 'phiên_dịch': 2803, 'khuôn_mặt': 2804, 'hằn': 2805, 'nếp': 2806, 'suy_tư': 2807, 'che_giấu': 2808, 'ký_ức': 2809, 'tình_cảm': 2810, 'nhật_ký': 2811, 'nữ': 2812, 'lịch_sự': 2813, 'đề_phòng': 2814, 'thoáng': 2815, 'frederic': 2816, 'whitehurst': 2817, 'dũng_cảm': 2818, 'súng_đạn': 2819, 'tiếp_cận': 2820, 'ngỏ': 2821, 'thư_từ': 2822, 'vừng': 2823, 'tình': 2824, 'trần_truồng': 2825, 'câu_thơ': 2826, 'hôm_qua': 2827, 'nhói': 2828, 'day_dứt': 2829, 'chia_sẻ': 2830, 'tràn_đầy': 2831, 'bất_cần': 2832, 'mở_đầu': 2833, '0': 2834, 'trấn_an': 2835, 'giọt': 2836, 'mong_muốn': 2837, 'thơ': 2838, 'gợi': 2839, 'tổn_thương': 2840, 'biên_tập': 2841, 'cử': 2842, 'uyên': 2843, 'mến': 2844, 'bụp': 2845, 'tình_nguyện': 2846, 'tung_tích': 2847, 'phổ_thông': 2848, 'đức_phổ': 2849, 'quảng_ngãi': 2850, 'uống': 2851, 'bia': 2852, 'giữa_chừng': 2853, 'đặng': 2854, 'thuỳ': 2855, 'trâm': 2856, 'tuyên_giáo': 2857, 'ít_nhiều': 2858, 'mù_mờ': 2859, 'dạng': 2860, 'phổ_ninh': 2861, 'huyện_lỵ': 2862, '1975': 2863, 'toàn_bộ': 2864, 'pleiku': 2865, 'nghe_nói': 2866, 'dò': 2867, 'manh_mối': 2868, 'mộ_đức': 2869, 'quyết_tâm': 2870, 'hay_là': 2871, 'khổ_nỗi': 2872, 'thỉnh_thoảng': 2873, 'bứt': 2874, 'khuya': 2875, 'california': 2876, 'mồ_mả': 2877, 'dòng_họ': 2878, 'than': 2879, 'vậy_mà': 2880, 'thông_dịch_viên': 2881, 'thẻ': 2882, 'miễn_là': 2883, 'thổi': 2884, 'thuỷ_tinh': 2885, 'thống_nhất': 2886, 'thường_tín': 2887, 'hà_tây': 2888, 'năm_tháng': 2889, 'mai_một': 2890, 'xoay': 2891, 'ống_tiêm': 2892, 'y_tế': 2893, 'nhọc_nhằn': 2894, 'làng_nghề': 2895, 'i': 2896, 'đồ_dùng': 2897, 'bóng_đèn': 2898, 'lọ': 2899, 'cốc': 2900, 'nắp': 2901, 'phích': 2902, 'vật': 2903, 'trang_trí': 2904, 'cầu_kì': 2905, 'yêu_cầu': 2906, 'kiên_nhẫn': 2907, 'tỉ_mỉ': 2908, 'con_giống': 2909, 'trưng_bày': 2910, 'giáp_long': 2911, 'sản_phẩm': 2912, 'chủ_yếu': 2913, 'đời_sống': 2914, 'thịnh_vượng': 2915, 'cơ_chế': 2916, 'ùa': 2917, 'thị_trường': 2918, 'việt_nam': 2919, 'lao_đao': 2920, 'đầu_ra': 2921, 'lò': 2922, 'tắt': 2923, 'nóng': 2924, 'hầm_hập': 2925, 'bề_bộn': 2926, 'đống': 2927, 'nguyên_liệu': 2928, 'thành_phẩm': 2929, 'thu_mua': 2930, 'thái_bình': 2931, 'vất_vả': 2932, 'công_nhân': 2933, 'xưởng': 2934, 'tiếng_là': 2935, 'ra_sức': 2936, 'gia_công': 2937, 'mét': 2938, 'ngọn': 2939, 'đèn': 2940, 'khò': 2941, 'phì_phò': 2942, 'lửa': 2943, 'đốt': 2944, 'thoăn_thoắt': 2945, 'lành_nghề': 2946, 'bình': 2947, 'mồ_hôi': 2948, 'tiếp_chuyện': 2949, 'kinh': 2950, 'khiếp': 2951, 'đổi': 2952, 'cao_vút': 2953, 'ước_chừng': 2954, 'cân': 2955, 'tiện': 2956, 'thử': 2957, 'buông': 2958, 'tan': 2959, 'phút_chốc': 2960, 'ngón': 2961, 'phồng': 2962, 'rộp': 2963, 'ngập_ngụa': 2964, 'rác': 2965, 'rào_rào': 2966, 'đoạn': 2967, 'sởn': 2968, 'gai_ốc': 2969, 'ớn': 2970, 'đám': 2971, 'chân_đất': 2972, 'mát': 2973, 'khoa': 2974, 'rầm_rộ': 2975, 'lụi': 2976, 'tàn': 2977, 'nói_chung': 2978, 'bình_quân': 2979, 'chăm_chỉ': 2980, 'đều_đặn': 2981, 'bao_lâu': 2982, 'nạng': 2983, 'lội': 2984, 'giáo_sư': 2985, 'goro': 2986, 'nakamura': 2987, 'vác': 2988, 'heo_hút': 2989, 'rải': 2990, 'đồi': 2991, 'sạc_ly': 2992, 'sa_thầy': 2993, 'kontum': 2994, 'nhão_nhoét': 2995, 'đất_đỏ': 2996, 'bazan': 2997, 'bão': 2998, 'sình_lầy': 2999, 'ngăn': 3000, 'asahi': 3001, 'nhật_bản': 3002, 'song_sinh': 3003, 'việt': 3004, 'chôn_nhau_cắt_rốn': 3005, '65': 3006, 'mo_ray': 3007, 'xa_xôi': 3008, 'uỷ_ban': 3009, 'dân_số': 3010, 'xe_máy': 3011, 'cõng': 3012, 'suối': 3013, 'rờ_kơi': 3014, 'nặng_trĩu': 3015, 'chư_mom_ray': 3016, 'xanh': 3017, 'ngút_ngàn': 3018, 'thung_lũng': 3019, 'trơ_trọi': 3020, 'mái': 3021, 'xơ_xác': 3022, 'uoát': 3023, 'hên': 3024, 'tần': 3025, 'tiếp_theo': 3026, 'ông_già': 3027, 'nhật': 3028, 'cố_vấn': 3029, 'quay_phim': 3030, 'đạo_diễn': 3031, 'dream': 3032, 'trung_quốc': 3033, 'tuấn_mã': 3034, 'rền': 3035, 'ì_ì': 3036, 'nửa': 3037, 'bánh_xe': 3038, 'thênh_thang': 3039, 'rãnh': 3040, 'nón': 3041, 'ghì': 3042, 'tựa': 3043, 'trần_trụi': 3044, 'hộ_sinh': 3045, 'quái_thai': 3046, 'ca': 3047, 'đẻ': 3048, 'cục': 3049, 'tròn_vo': 3050, 'trứng': 3051, 'chôn': 3052, 'quệt': 3053, 'chăm_chú': 3054, 'hỏi_thăm': 3055, 'y': 3056, 'tiêng': 3057, 'dân_tộc': 3058, 'h‘lăng': 3059, 'thôn': 3060, \"k'ram\": 3061, 'cằm': 3062, 'rẫy': 3063, 'đờ_đẫn': 3064, 'không_trung': 3065, 'quặt_quẹo': 3066, 'vách': 3067, 'nứa': 3068, 'hở': 3069, 'tênh_hênh': 3070, 'vá_chằng_vá_đụp': 3071, 'đàm': 3072, 'nguyệt': 3073, '52': 3074, 'quảy': 3075, 'gánh': 3076, 'mắm': 3077, 'dở_sống_dở_chết': 3078, 'tiểu_tiện': 3079, 'loằng_khoằng': 3080, 'bẻ': 3081, 'ngược': 3082, 'đút': 3083, 'ngọng': 3084, 'lọt_lòng': 3085, 'bàng_hoàng': 3086, 'bệnh_xá': 3087, 'hậu_môn': 3088, 'ma': 3089, 'núi_rừng': 3090, 'đất_rộng_người_thưa': 3091, 'khuyết_tật': 3092, 'cầm_nắm': 3093, 'vô_cảm': 3094, 'cầu_mong': 3095, 'tàn_tật': 3096, 'kỳ_diệu': 3097, 'lẳng_lặng': 3098, 'đồng_bào': 3099, 'vô_tri': 3100, '135': 3101, 'thùng': 3102, 'hoá_chất': 3103, 'rải_rác': 3104, 'sa_nhơn': 3105, 'sa_nghĩa': 3106, 'ya_ly': 3107, 'ya_xiêr': 3108, 'trồng_trọt': 3109, '1976': 3110, '1987': 3111, 'dị_dạng': 3112, 'hitoshi': 3113, 'kihara': 3114, 'giở': 3115, 'sổ': 3116, 'chi_chít': 3117, 'hậu_chiến': 3118, 'đài': 3119, 'khác_biệt': 3120, 'đất_nước': 3121, 'khán_giả': 3122, 'giày': 3123, 'bạc_phơ': 3124, 'tư_liệu': 3125, 'quí_giá': 3126, 'y_học': 3127, 'từ_dũ': 3128, 'tin_học': 3129, 'say_sưa': 3130, 'rừng_núi': 3131, 'tận_mắt': 3132, '2006': 3133, 'triển_lãm': 3134, 'new_york': 3135, 'lịch_trình': 3136, 'kỹ_lưỡng': 3137, 'nguyện_vọng': 3138, 'xưa': 3139, 'nằm_lòng': 3140, 'bạn_đọc': 3141, 'dè_chừng': 3142, 'sửa_soạn': 3143, 'cảm_tạ': 3144, 'suy_nghĩ': 3145, 'phản_ứng': 3146, 'tiêu_cực': 3147, 'dè_dặt': 3148, 'welcome': 3149, 'chào_đón': 3150, 'pv': 3151, 'kề': 3152, 'thổ_lộ': 3153, 'không_biết_chừng': 3154, 'phiền_nhiễu': 3155, 'thực_hư': 3156, 'bất_lực': 3157, 'xâm_chiếm': 3158, 'tâm_trí': 3159, 'buồn_bã': 3160, 'chắc_hẳn': 3161, 'vướng': 3162, 'rào_cản': 3163, 'tinh_thần': 3164, 'trách': 3165, 'dấu_chấm_than': 3166, 'ừ': 3167, 'nhỉ': 3168, 'lùi': 3169, 'bắc': 3170, 'khô': 3171, 'bóng_tối': 3172, 'dù_cho': 3173, 'ám_ảnh': 3174, 'lãng_quên': 3175, 'liệu': 3176, 'ổn': 3177, 'can_đảm': 3178, 'trung_thực': 3179, 'internet': 3180, 'tin_tức': 3181, 'giải_pháp': 3182, 'washington': 3183, 'dc': 3184, 'bao_vây': 3185, 'texas': 3186, 'bethel': 3187, 'north': 3188, 'carolina': 3189, 'tác_động': 3190, 'thể_tất': 3191, 'ghi_nhớ': 3192, 'giày_vò': 3193, 'đẹp_đẽ': 3194, 'quanh_quẩn': 3195, 'căng': 3196, 'tín_hiệu': 3197, 'dọc': 3198, 'hiền': 3199, 'nhất_trí': 3200, 'cali': 3201, 'doãn': 3202, 'ngọc': 3203, 'nội_địa': 3204, 'phương_án': 3205, 'hoảng_hốt': 3206, 'chửi_bới': 3207, 'doạ_dẫm': 3208, 'mệt_nhọc': 3209, 'đè': 3210, 'cơ_bắp': 3211, 'nhão': 3212, 'lũ': 3213, 'sân_bay': 3214, 'khách_sạn': 3215, 'mải': 3216, 'thất_vọng': 3217, 'bấm': 3218, 'réo': 3219, 'vô_vọng': 3220, 'trái_tim': 3221, 'kềnh_càng': 3222, 'khoá_số': 3223, 'vắng_lặng': 3224, 'chỉ_dẫn': 3225, 'loay_hoay': 3226, 'lát': 3227, 'nguyen': 3228, 't.': 3229, 'hé': 3230, 'một_vài': 3231, 'cầu_may': 3232, 'điềm_nhiên': 3233, 'phím': 3234, 'dõi': 3235, 'lẩm_nhẩm': 3236, '91': 3237, 'thứ_tự': 3238, 'trẻ_con': 3239, 'vọng': 3240, 'who': 3241, 'that': 3242, 'vang_vọng': 3243, 'trong_veo': 3244, 'andrew': 3245, 'alvin': 3246, 'chơi_đùa': 3247, 'rộn_rã': 3248, 'á': 3249, 'ngắm': 3250, 'phụ_nữ': 3251, 'lũn_cũn': 3252, 'tập': 3253, 'mỉm': 3254, 'an_toàn': 3255, 'mập': 3256, 'chậm_rãi': 3257, 'tả': 3258, 'chắc_chắn': 3259, 'khung': 3260, 'một_mình': 3261, 'ấm_cúng': 3262, 'đồ_chơi': 3263, 'trẻ_em': 3264, 'khoanh_tay': 3265, 'alisa': 3266, 'con_gái': 3267, 'suôn_sẻ': 3268, 'đêm_tối': 3269, 'e_sợ': 3270, 'liên_lụy': 3271, 'vi_phạm': 3272, 'tù': 3273, 'luật_lệ': 3274, 'hai_mươi': 3275, 'nghi': 3276, 'thanh_minh': 3277, 'bởi_vì': 3278, 'thu_hẹp': 3279, 'giao_du': 3280, 'nãy': 3281, 'bà_xã': 3282, 'đợi': 3283, 'vỉa_hè': 3284, 'vui_mừng': 3285, 'rạng_rỡ': 3286, 'thất_lạc': 3287, 'quà': 3288, 'đón_nhận': 3289, 'từ_tốn': 3290, 'ngay_ngắn': 3291, 'thánh_nhân': 3292, 'gà_gật': 3293, 'bắt_mắt': 3294, 'buồn_ngủ': 3295, 'mạnh_mẽ': 3296, 'văn_chương': 3297, 'núi': 3298, 'ngờ': 3299, 'dịp': 3300, 'chơi': 3301, 'thú_vị': 3302, 'chứng_bệnh': 3303, 'dị': 3304, 'vui_vẻ': 3305, 'lưu_niệm': 3306, 'thể': 3307, 'kéo_dài': 3308, 'dặm': 3309, 'gặp_gỡ': 3310, 'êm': 3311, 'làm_phiền': 3312, 'xa_ngái': 3313, 'lưu_lạc': 3314, 'mẹ_già': 3315, 'chinh_chiến': 3316, 'xác_chết': 3317, 'ghi_chép': 3318, 'tình_yêu': 3319, 'đôi_lứa': 3320, 'da_diết': 3321, 'đăng': 3322, 'nguyên_văn': 3323, 'mười_bảy': 3324, 'đôi_mươi': 3325, 'xuân_dục': 3326, 'đoài_đông': 3327, 'giặc': 3328, 'căm_uất': 3329, 'nguôi': 3330, 'nổ': 3331, 'đai': 3332, 'sương': 3333, 'nhắc_nhở': 3334, 'trung_du': 3335, 'làng_nước': 3336, 'chờ_trông': 3337, 'bốt': 3338, 'náo_nức': 3339, 'lệnh': 3340, 'ngừng_bắn': 3341, 'xuôi': 3342, 'hành_quân': 3343, 'ghé': 3344, 'ao': 3345, 'sét': 3346, 'thông': 3347, 'thứa': 3348, 'trung_thành': 3349, 'thuỷ_chung': 3350, 'dốc': 3351, 'bỗng_dưng': 3352, 'khói': 3353, 'nghẽn': 3354, 'ngút': 3355, 'sân': 3356, 'chái': 3357, 'bờ_bụi': 3358, 'dơi': 3359, 'dìu': 3360, 'bạc': 3361, 'cau': 3362, 'gianh': 3363, 'lều': 3364, 'che': 3365, 'khuấy': 3366, 'xót_đau': 3367, 'thấm': 3368, 'nhát': 3369, 'biết_bao_nhiêu': 3370, 'oán_thù': 3371, 'vạn': 3372, 'mũ': 3373, 'mãi_mãi': 3374, 'thơm': 3375, 'vải': 3376, 'vượt_biên': 3377, 'công_tử': 3378, 'tướng_tá': 3379, 'phong_lưu': 3380, 'chèo_chống': 3381, 'sữa_đậu_nành': 3382, '1985': 3383, 'yaourt': 3384, 'nha_trang': 3385, 'dầm_dề': 3386, '82': 3387, 'trãi': 3388, 'lóng_ngóng': 3389, 'béo': 3390, 'ngọt': 3391, 'dẻo': 3392, 'quánh': 3393, 'hũ': 3394, 'mềm': 3395, 'trung_dung': 3396, 'choai_choai': 3397, 'khoái': 3398, 'nhai': 3399, 'rôm_rốp': 3400, 'pha': 3401, 'đôi_chút': 3402, 'chọc_ghẹo': 3403, 'gây_dựng': 3404, 'sản_nghiệp': 3405, 'độc_đáo': 3406, 'sinh_viên': 3407, 'đề_tài': 3408, 'men': 3409, 'cưới': 3410, 'lui_cui': 3411, 'bếp': 3412, 'khất': 3413, 'chẳng_là': 3414, 'tương_đương': 3415, 'nổi_giận': 3416, 'giận': 3417, 'phần_nào': 3418, 'chất_chứa': 3419, 'ẩn_ức': 3420, 'ngọt_nhạt': 3421, 'biên': 3422, 'nấy': 3423, 'đòi': 3424, 'nhỏ_nhẹ': 3425, 'dạ': 3426, 'to_nhỏ': 3427, 'thấm_thoát': 3428, 'ba_chục': 3429, 'suy_yếu': 3430, 'biến_chứng': 3431, 'tiểu_đường': 3432, 'họ_đạo': 3433, 'gia_kiệm': 3434, 'đồng_nai': 3435, 'liệt': 3436, 'yên_lòng': 3437, 'thật_tình': 3438, 'chí_cốt': 3439, 'đích_thân': 3440, 'nhà_thờ': 3441, 'lủi': 3442, 'nhiệt_tình': 3443, 'lâm_đồng': 3444, 'đám_tang': 3445, 'cha_xứ': 3446, 'hơn_nữa': 3447, 'thường_lệ': 3448, 'tuồng_như': 3449, 'trách_móc': 3450, 'hàm_chứa': 3451, 'tình_thương': 3452, 'cất_giấu': 3453, 'tiết_kiệm': 3454, 'rộng_rãi': 3455, 'chấp': 3456, 'khoan_dung': 3457, 'tánh': 3458, 'gàn': 3459, 'giao_tiếp': 3460, 'tiệm': 3461, 'chùa': 3462, 'giáo_lý': 3463, 'làm_phước': 3464, 'cúng': 3465, 'dường': 3466, 'từ_thiện': 3467, 'ý_muốn': 3468, 'hớn': 3469, 'quan_tài': 3470, 'khấn': 3471, 'sống_khôn_thác_thiêng': 3472, 'chứng': 3473, 'lòng_thành': 3474, 'chủ_nợ': 3475, 'h.': 3476, 'trẻ_thơ': 3477, 'đầu_xanh': 3478, 'vô_tội': 3479, 'đứt': 3480, 'kiện': 3481, 'toà': 3482, 'nguồn_gốc': 3483, 'án_phí': 3484, 'đãi': 3485, 'chả_giò': 3486, 'gói': 3487, 'đóng_góp': 3488, 'tâm_thần': 3489, 'mồ_côi': 3490, 'đàng_hoàng': 3491, 'khoản': 3492, 'xuất_cảnh': 3493, 'chọc': 3494, 'hội_hiếc': 3495, 'tâm_nguyện': 3496, 'miễn': 3497, 'in': 3498, 'phát': 3499, 'hỏi_vặn': 3500, 'bí_quyết': 3501, 'kìa': 3502, 'thần_chú': 3503, 'bất_hạnh': 3504, 'cho_nên': 3505, 'dung': 3506, 'nam_ninh': 3507, 'quảng_tây': 3508, 'quảng_châu': 3509, 'quảng_đông': 3510, 'mua_sắm': 3511, 'rẻ': 3512, 'cuốn_hút': 3513, 'thiên_đường': 3514, 'giả': 3515, 'thiên_hình_vạn_trạng': 3516, 'hiệu': 3517, 'siêu': 3518, 'trắm_cỏ': 3519, 'chuyên': 3520, 'bảo_kê': 3521, 'đông_hưng': 3522, 'móng_cái': 3523, 'cờ_bạc': 3524, 'thất_bát': 3525, 'lay_lắt': 3526, 'biệt_danh': 3527, 'thời_kỳ': 3528, 'bệ_rạc': 3529, 'soái': 3530, 'tình_xưa_nghĩa_cũ': 3531, 'thạo': 3532, 'sõi': 3533, 'tiếng_phổ_thông': 3534, 'dang': 3535, 'dưới_trướng': 3536, 'bắc_kinh': 3537, 'đông_âu': 3538, 'ga': 3539, 'giải_khát': 3540, 'thẽ_thọt': 3541, 'cắm_đầu_cắm_cổ': 3542, 'lấy_được': 3543, 'lâm_viên': 3544, 'tầng': 3545, 'lệ_viên': 3546, 'ồn_ã': 3547, 'nói_cười': 3548, 'bắc_ninh': 3549, 'bắc_giang': 3550, 'thiên': 3551, 'chi_phối': 3552, 'tốp': 3553, 'túi_xách': 3554, 'rẻ_tiền': 3555, 'sida': 3556, 'tụ_hội': 3557, 'lạng_sơn': 3558, 'thông_thường': 3559, 'nghỉ_ngơi': 3560, 'ôtô': 3561, 'điểm_nóng': 3562, 'toàn_cầu': 3563, 'nạn': 3564, 'sao_chép': 3565, 'ước_tính': 3566, 'chính_phủ': 3567, 'giao_dịch': 3568, 'quốc_nội': 3569, '24': 3570, 'tỉ': 3571, 'international': 3572, 'herald': 3573, 'tribune': 3574, 'xẻ': 3575, 'nhái': 3576, 'bề_thế': 3577, 'mét_vuông': 3578, 'mặt_tiền': 3579, 'mặt_hàng': 3580, 'giày_dép': 3581, 'bày': 3582, 'la_liệt': 3583, 'thương_hiệu': 3584, 'levi’s': 3585, 'nike': 3586, 'adidas': 3587, 'converse': 3588, 'puma': 3589, 'chuyên_dụng': 3590, 'timberland': 3591, 'thắt_lưng': 3592, 'bạt': 3593, 'tough': 3594, 'nikkor': 3595, 'quả_thật': 3596, 'phân_biệt': 3597, 'đại_lý': 3598, '550': 3599, 'mặc_cả': 3600, 'vẻn_vẹn': 3601, '58': 3602, 'tệ': 3603, '225': 3604, 'quần_bò': 3605, '502': 3606, 'đầy_đủ': 3607, 'nhãn_mác': 3608, 'quần': 3609, 'chính_hiệu': 3610, 'chất': 3611, 'dựng_đứng': 3612, '160': 3613, 'shop': 3614, 'hẳn': 3615, 'hét': 3616, 'gian_hàng': 3617, 'san_sát': 3618, 'đầy_ắp': 3619, 'lúi_húi': 3620, 'nỉ': 3621, 'lố': 3622, 'arsenal': 3623, 'manchester': 3624, 'united': 3625, 'xịn': 3626, 'cửa_hàng': 3627, 'hưng_ninh': 3628, 'bạt_ngàn': 3629, 'siêu_thị': 3630, 'cửa_hiệu': 3631, 'danh_tiếng': 3632, 'chen': 3633, 'di_hoa_cung': 3634, 'gội': 3635, 'kem': 3636, 'dưỡng': 3637, 'trang_điểm': 3638, 'tủ': 3639, 'hàn_quốc': 3640, '260': 3641, 'tour': 3642, 'liên_tiếp': 3643, 'mức': 3644, '99': 3645, 'hàng_loạt': 3646, 'chanel': 3647, 'no5': 3648, 'lolita': 3649, 'lampicka': 3650, '212': 3651, 'blv': 3652, 'absolute': 3653, 'đặc_trưng': 3654, 'nhũ': 3655, 'tơi': 3656, 'tia': 3657, 'xịt': 3658, 'mã_vạch': 3659, 'mạn': 3660, 'hưng_ninh_tây': 3661, 'sunny': 3662, 'hỉ_hoan': 3663, 'bài_trí': 3664, 'lộng_lẫy': 3665, '280': 3666, '250': 3667, 'like': 3668, 'phủi': 3669, 'nhái_nhái': 3670, 'logo': 3671, 'vệt': 3672, 'phết': 3673, 'từa_tựa': 3674, 'hip_hop': 3675, 'bụi': 3676, 'thảo_tư_hành': 3677, 'nhuận_sắc': 3678, 'chui': 3679, 'tân_hoà_bình': 3680, 'ví': 3681, 'louis': 3682, 'vuitton': 3683, 'gucci': 3684, 'tem': 3685, 'đầu_gối': 3686, 'hiền_lành': 3687, 'tự_ti': 3688, 'thật_thà': 3689, 'lãng_mạn': 3690, 'cô_đơn': 3691, 'yêu_đời': 3692, 'ghé_vai': 3693, 'đẩy': 3694, 'một_chút': 3695, 'đôi_khi': 3696, 'khà_khà': 3697, 'góc': 3698, 'u_buồn': 3699, 'chấm_dứt': 3700, 'north_carolina': 3701, 'e_ngại': 3702, 'robert': 3703, 'anh_trai': 3704, 'tận_tình': 3705, 'chúng_ta': 3706, 'thương_nhớ': 3707, 'khải': 3708, 'cởi_mở': 3709, 'giồng': 3710, 'dưa_hấu': 3711, 'da_dẻ': 3712, 'đen_đúa': 3713, 'tưới': 3714, 'dưa': 3715, 'chiến_sự': 3716, 'thất_thểu': 3717, 'cầu_ngang': 3718, 'hớt_tóc': 3719, 'duy': 3720, 'khang': 3721, 'cô_nhi_viện': 3722, 'mù': 3723, 'tinh_quái': 3724, 'hò': 3725, 'kìm': 3726, 'sùng_sục': 3727, '1962': 3728, 'má': 3729, 'gồng_gánh': 3730, 'con_cả': 3731, 'lẽ_ra': 3732, 'phụng_dưỡng': 3733, 'mới_phải': 3734, 'sóc_trăng': 3735, 'dâu': 3736, 'lo_liệu': 3737, 'con_trai': 3738, 'trà': 3739, 'nóng_hổi': 3740, 'trăng': 3741, 'sóng_sánh': 3742, 'phôi_pha': 3743, 'năng_khiếu': 3744, 'sinh_ngữ': 3745, 'đếm': 3746, 'thì_ra': 3747, 'pháo_kích': 3748, 'say': 3749, 'tha': 3750, 'non': 3751, 'viên': 3752, 'đại_uý': 3753, 'ngoan_đạo': 3754, 'sững': 3755, 'khiếp_đảm': 3756, 'cá_tính': 3757, 'thẳng_thắn': 3758, 'bản_lĩnh': 3759, 'tranh_luận': 3760, 'dạy_học': 3761, 'định_mệnh': 3762, 'cơ_hội': 3763, 'người_yêu': 3764, 'sau_này': 3765, 'thông_dịch': 3766, 'chìm_nổi': 3767, 'lữ_đoàn': 3768, 'sư_đoàn': 3769, 'americal': 3770, 'hoa_kỳ': 3771, 'long_đong': 3772, 'kép': 3773, 'cải_lương': 3774, 'cấp_phát': 3775, 'trang_phục': 3776, 'ăn_ở': 3777, 'thảm_sát': 3778, 'mỹ_lai': 3779, 'vết': 3780, 'nhơ': 3781, 'bộ_binh': 3782, 'điều_chuyển': 3783, 'truyền': 3784, 'bộ_phận': 3785, 'xe_tăng': 3786, 'hoả_tiễn': 3787, '1973': 3788, 'quãng': 3789, 'khát': 3790, 'lâm_ngư_trường': 3791, 'iii': 3792, 'khánh_an': 3793, 'đau_lòng': 3794, 'kênh': 3795, 't27': 3796, 'tập_đoàn': 3797, 'b': 3798, 'tập_đoàn_trưởng': 3799, 'buồn_rượi': 3800, 'học_hành': 3801, 'con_em': 3802, '53': 3803, 'kiểm': 3804, 'vài_ba': 3805, 'mù_chữ': 3806, 'danh': 3807, 'dốt_đặc_cán_mai': 3808, 'chua_chát': 3809, 'nhện': 3810, 'hùm': 3811, 'dốt': 3812, 'diễm': 3813, 'anh_chị': 3814, 'công_nhận': 3815, 'chuẩn': 3816, 'phổ_cập': 3817, 'giáo_dục': 3818, 'pcgd': 3819, 'tiểu_học': 3820, '84': 3821, 'đào_tạo': 3822, 'trở_xuống': 3823, 'ái': 3824, 'trân': 3825, 'tâm': 3826, 'ranh': 3827, 'kể_cả': 3828, 'túng_thiếu': 3829, 'tạm_trú': 3830, 'thôi_thôi': 3831, 'sơ_sơ': 3832, 'cửa_biển': 3833, 'ông_đốc': 3834, 'thất_học': 3835, 'dở_dang': 3836, 'ngẫu_nhiên': 3837, 'tổ_trưởng': 3838, 'khóm': 3839, 'sông_đốc': 3840, 'tương_đối': 3841, 'mẫu_mực': 3842, 'đê_trung_ương': 3843, 'loan': 3844, 'bệnh_tật': 3845, 'sua': 3846, 'địa_bàn': 3847, 'đảng_uỷ': 3848, 'kt': 3849, 'nguồn_cơn': 3850, 'báo_động': 3851, 'nghèo_nàn': 3852, 'ấm': 3853, 'hỏi_han': 3854, 'hữu': 3855, 'hận': 3856, 'dài_dài': 3857, 'tá': 3858, 'lặn': 3859, 'hình_thành': 3860, 'mấy_mươi': 3861, 'khắp_nơi': 3862, 'vé_số': 3863, 'xuất_sắc': 3864, 'tiên_tiến': 3865, 'ngoan': 3866, 'kiểu': 3867, 'thân_thương': 3868, 'yêu_dấu': 3869, 'đợi_chờ': 3870, 'cám_ơn': 3871, 'trà_buông': 3872, 'phấn_son': 3873, 'tuồng': 3874, 'sáng_tác': 3875, 'bất_trắc': 3876, 'trại_cải_tạo': 3877, 'a20': 3878, 'xuân_phước': 3879, 'phú_khánh': 3880, 'lặng_lẽ': 3881, 'chuyên_chở': 3882, '1983': 3883, 'đối_thoại': 3884, 'ứng': 3885, 'trại': 3886, 'buôn_ma_thuột': 3887, 'phanh': 3888, 'tuột_dốc': 3889, 'trìu_mến': 3890, 'quản_giáo': 3891, 'ốm': 3892, 'phụ_trách': 3893, 'rổ_rá': 3894, 'trại_viên': 3895, 'nể': 3896, 'đức_tính': 3897, 'nghiêm_khắc': 3898, 'liêm_khiết': 3899, 'sắp_xếp': 3900, 'có_tình': 3901, 'có_lý': 3902, 'quả_tình': 3903, 'tài_đức': 3904, 'đánh_cược': 3905, 'lít_nhít': 3906, 'say_xỉn': 3907, 'tối_ngày': 3908, 'thiếu_thốn': 3909, 'bế_tắc': 3910, 'trầm_uất': 3911, 'châm_biếm': 3912, 'săn_đuổi': 3913, '41': 3914, 'phó_thác': 3915, 'tình_cờ': 3916, 'xích_lô': 3917, 'bít_bùng': 3918, '1984': 3919, 'mong_manh': 3920, 'phận': 3921, 'cần_thơ': 3922, 'biển_cả': 3923, 'hung_dữ': 3924, 'mông_lung': 3925, 'mệt_lử': 3926, 'lan_truyền': 3927, 'tăm_tối': 3928, 'rong_biển': 3929, 'thuyền_trưởng': 3930, 'tử_thần': 3931, 'dải': 3932, 'di_tản': 3933, 'côcu': 3934, 'trò_đùa': 3935, 'tự_nhiên': 3936, 'dẫn_dắt': 3937, 'lạc': 3938, 'lớn_nhỏ': 3939, 'đất_liền': 3940, 'hợp_thức_hoá': 3941, 'galăng': 3942, 'mưu_sinh': 3943, 'khoá': 3944, 'căn_bản': 3945, 'khoa_học_tự_nhiên': 3946, 'bỏ_dở': 3947, 'rưỡi': 3948, 'sự_nghiệp': 3949, 'kệ': 3950, 'chip': 3951, 'hi_lạp': 3952, 'dễ_thở': 3953, 'cất_nhắc': 3954, 'chức_vụ': 3955, 'xinh_đẹp': 3956, 'rủi_ro': 3957, 'cổ_phiếu': 3958, 'canh_bạc': 3959, 'sung_túc': 3960, 'hồi_hộp': 3961, 'mong_chờ': 3962, 'vụn': 3963, 'hố': 3964, 'đáy': 3965, 'thương_hại': 3966, 'rẻ_rúng': 3967, '1993': 3968, 'trẻ_trung': 3969, 'vô_điều_kiện': 3970, 'phản_đối': 3971, 'xu': 3972, 'lớn_lao': 3973, 'từ_ngữ': 3974, 'tận_tụy': 3975, 'thua': 3976, 'tống': 3977, 'chứng_chỉ': 3978, 'nhà_trẻ': 3979, 'thất_thường': 3980, 'công_bố': 3981, 'tin_tưởng': 3982, 'phúc': 3983, 'tất_tả': 3984, 'cao_su': 3985, 'định_cư': 3986, 'ma_lai': 3987, 'nhọc': 3988, 'ngờ_ngợ': 3989, 'lực_lượng_vũ_trang': 3990, 'iavê': 3991, 'chư_prông': 3992, 'gia_lai': 3993, 'già_làng': 3994, 'ụp': 3995, 'anh_chị_em': 3996, 'kpuih': 3997, 'vêl': 3998, 'nhà_cửa': 3999, 'tan_hoang': 4000, 'bồng': 4001, 'lếch_thếch': 4002, 'tít': 4003, 'chơ_vơ': 4004, 'chư_gông': 4005, 'thang': 4006, 'rót': 4007, 'trái': 4008, 'xắn': 4009, 'củ': 4010, 'khoai': 4011, 'không_những': 4012, 'ngon_lành': 4013, 'mà_còn': 4014, 'khoé': 4015, 'già_nua': 4016, 'ậng': 4017, 'dao': 4018, 'vận_động': 4019, 'cứng': 4020, 'gật': 4021, 'sửa': 4022, 'kinh_phí': 4023, 'tôn': 4024, 'ghi_chú': 4025, 'tháo_gỡ': 4026, 'bất_cập': 4027, 'di_cư': 4028, 'qui_chế': 4029, 'nhân_viên': 4030, 'nghiệp_vụ': 4031, 'nhà_rông': 4032, 'lịch': 4033, 'đổi_mới': 4034, 'dấu_ấn': 4035, 'sâu_đậm': 4036, 'tiêu': 4037, 'phổ_biến': 4038, 'kỹ_thuật': 4039, 'cấp_vốn': 4040, 'đường_nhựa': 4041, 'sôi': 4042, 'đũa': 4043, 'bát': 4044, 'trâu': 4045, 'tục': 4046, 'trình_độ': 4047, 'đói_kém': 4048, 'muối': 4049, 'lọc': 4050, 'tro': 4051, 'nín': 4052, 'vận_dụng': 4053, 'trí_lực': 4054, 'jrai': 4055, 'xưng': 4056, 'hủ_tục': 4057, 'tin_lành': 4058, 'đê_ga': 4059, 'chảo': 4060, 'tụm_năm_tụm_bảy': 4061, 'lao_xao': 4062, 'cương_vị': 4063, 'phó_bí_thư': 4064, 'trực': 4065, 'bàn_tính': 4066, 'lạc_lõng': 4067, 'ruột_gan': 4068, 'rối_như_tơ_vò': 4069, 'rao_giảng': 4070, 'ban_ngành': 4071, 'dân_vận': 4072, 'vững': 4073, 'cộng_đồng': 4074, 'lấp': 4075, 'cửa_miệng': 4076, 'vêh': 4077, 'gạo': 4078, 'trạm_xá': 4079, 'khám': 4080, 'giáp_hạt': 4081, 'trợ_giúp': 4082, 'nồi': 4083, 'khối_lượng': 4084, 'vùng_đất': 4085, 'cống_hiến': 4086, 'sinh_lực': 4087, 'bình_định': 4088, 'thiếu_nữ': 4089, 'llvt': 4090, 'hoá_trang': 4091, 'giao_liên': 4092, 'đội_viên': 4093, 'đặc_công': 4094, 'trừ_gian': 4095, 'ác': 4096, 'gài': 4097, 'hào_hùng': 4098, 'chiến_công': 4099, 'mớm': 4100, 'rảnh': 4101, 'yên_bình': 4102, 'nhớ_thương': 4103, 'sống_chết': 4104, 'chiến_đấu': 4105, 'phù_cát': 4106, 'phù_mỹ': 4107, 'ác_liệt': 4108, 'biết_mấy': 4109, 'thăm_thẳm': 4110, 'xuất_phát': 4111, 'rạng': 4112, 'rướm': 4113, 'bộ_đồ': 4114, 'điệu': 4115, 'nhẫn': 4116, 'suy_tính': 4117, 'quyết': 4118, 'bổ_túc': 4119, 'bỏ_cuộc': 4120, 'thiếu_đói': 4121, 'bo_bo': 4122, 'sắn': 4123, 'liên_hiệp': 4124, 'khai_hoang': 4125, 'lạc_hậu': 4126, 'đập': 4127, 'xoáy': 4128, 'cộng_sản': 4129, 'đảng': 4130, 'nhà_cấp_4': 4131, 'xi_măng': 4132, 'hực': 4133, 'nọc': 4134, 'thu_hoạch': 4135, 'chủ_nhân': 4136, 'ngắn_ngủi': 4137, 'berlin': 4138, 'kỷ_vật': 4139, 'xa_xưa': 4140, 'mua_bán': 4141, 'niệm': 4142, 'xe_điện': 4143, 'tiergaten': 4144, 'nhộn_nhịp': 4145, 'tạm_bợ': 4146, 'đối_diện': 4147, 'thảm': 4148, 'baghdad': 4149, 'nâu': 4150, 'tủ_sách': 4151, 'vui_tính': 4152, 'linh_tinh': 4153, 'rương': 4154, 'xù_xì': 4155, 'thiếc': 4156, 'gỉ': 4157, 'toát': 4158, 'ma_quái': 4159, 'euro': 4160, 'tiếc_rẻ': 4161, 'hành_lý': 4162, 'cồng_kềnh': 4163, 'vỗ': 4164, 'pho': 4165, 'tượng': 4166, 'chemnitz': 4167, 'thành_công': 4168, 'bưu_ảnh': 4169, '1900': 4170, 'giàu': 4171, 'thuộc_địa': 4172, 'yếm': 4173, 'sầm_sơn': 4174, 'nhoè': 4175, 'mực': 4176, 'tài_sản': 4177, 'vô_giá': 4178, 'lưu_giữ': 4179, 'hạnh_phúc': 4180, 'bước_đầu': 4181, 'oai_vệ': 4182, 'nghiêm': 4183, 'bục': 4184, 'rắn': 4185, 'hổ_mang': 4186, 'khoả_thân': 4187, 'hàng_hàng_lớp_lớp': 4188, 'màu_sắc': 4189, 'tần_ngần': 4190, 'nga': 4191, 'ngậm': 4192, 'tẩu': 4193, 'sọc': 4194, 'cờ_vua': 4195, 'xô_viết': 4196, 'vô_sản': 4197, 'đoàn_kết': 4198, 'huy_hiệu': 4199, 'búa': 4200, 'liềm': 4201, 'to_đùng': 4202, 'lãnh_tụ': 4203, 'liên_xô': 4204, 'to_kềnh': 4205, 'râu': 4206, 'hung_hung': 4207, 'đỏ': 4208, 'chìa': 4209, 'lông': 4210, 'hồng_quân': 4211, 'chặc_lưỡi': 4212, 'hoạ_sĩ': 4213, 'thiết_kế': 4214, 'quảng_cáo': 4215, 'sừng': 4216, 'hươu': 4217, 'chạm_trổ': 4218, '1897': 4219, 'giá_cả': 4220, 'tặng_vật': 4221, 'con_cái': 4222, 'bán_tống_bán_tháo': 4223, 'sở_thích': 4224, 'tung': 4225, 'bất_chợt': 4226, 'ngời': 4227, 'thuốc_lá': 4228, 'xì_gà': 4229, 'nheo': 4230, 'hứng_thú': 4231, 'cactông': 4232, 'chứa': 4233, 'úa': 4234, 'màu': 4235, 'trung_niên': 4236, 'đăm_chiêu': 4237, 'tràn_trề': 4238, 'hoà': 4239, 'mua_mua_bán_bán': 4240, 'cảm_xúc': 4241, 'khoảnh_khắc': 4242, 'nhịp': 4243, 'có_hậu': 4244, 'thời_chiến': 4245, 'trái_đất': 4246, 'khép': 4247, 'đoàn_tụ': 4248, 'cảm_thông': 4249, 'cảm_động': 4250, 'cân_nhắc': 4251, 'lành': 4252, 'bồn_chồn': 4253, 'yên_ổn': 4254, 'download': 4255, 'ganh_tị': 4256, 'cảm_nghĩ': 4257, 'đường_đột': 4258, 'xúc_động': 4259, 'đau_khổ': 4260, 'đắng_cay': 4261, 'lối_thoát': 4262, 'nghẹn_ngào': 4263, 'ngập_tràn': 4264, 'bình_yên': 4265, 'hoá_giải': 4266, 'cay_cay': 4267, 'củng_cố': 4268, 'âm_sắc': 4269, 'e_dè': 4270, 'lạc_quan': 4271, 'nghi_kỵ': 4272, 'vòng_vòng': 4273, 'tham_quan': 4274, 'sợ_sệt': 4275, 'bí_mật': 4276, 'mảnh_dẻ': 4277, 'giây_phút': 4278, 'vuốt_ve': 4279, 'khanh': 4280, 'cựu_binh': 4281, 'quàng': 4282, 'nhoà': 4283, 'lệ': 4284, 'thâu': 4285, 'dứt': 4286, 'một_phần_ba': 4287, 'thế_kỷ': 4288, 'đau_buồn': 4289, 'vơi': 4290, 'ân_tình': 4291, 'kay': 4292, 'bùi_ngùi': 4293, 'thắt': 4294, 'nhẹ': 4295, 'nhân_hậu': 4296, 'đồng_cảm': 4297, 'dấu_yêu': 4298, 'viếng_thăm': 4299, 'đồng_hương': 4300, 'tha_phương': 4301, 'ba_mươi': 4302, 'kẻ_thù': 4303, 'con_nuôi': 4304, 'thần_diệu': 4305, 'con_cháu': 4306, 'nối_tiếp': 4307, 'xoá_bỏ': 4308, 'khổ_đau': 4309, 'thanh_bình': 4310, 'ý_chí': 4311, 'tam_giác': 4312, 'xa_cách': 4313, 'ranh_giới': 4314, 'nhiệt_huyết': 4315, 'nung_nấu': 4316, 'thói_hư_tật_xấu': 4317, 'có_ích': 4318, 'linh_hồn': 4319, 'nghiền_ngẫm': 4320, 'hiển_hiện': 4321, 'tình_tiết': 4322, 'chép': 4323, 'mê_mẩn': 4324, 'đánh_liều': 4325, 'nghi_binh': 4326, 'mật': 4327, '1967': 4328, 'khung_cảnh': 4329, 'cản': 4330, 'năm_châu_bốn_biển': 4331, 'cật_lực': 4332, 'buồn_tẻ': 4333, 'khơi': 4334, 'đại_ức': 4335, '222': 4336, 'vùng_biển': 4337, 'úc': 4338, 'áp_giải': 4339, 'giam': 4340, 'cảng': 4341, 'victoria': 4342, 'xâm_nhập': 4343, 'thuyền_viên': 4344, 'tuổi_đời': 4345, 'trình_báo': 4346, 'thủ_tục': 4347, 'trung_nghĩa': 4348, '218': 4349, 'bắt_giữ': 4350, 'kismayu': 4351, 'somalia': 4352, 'cập': 4353, 'chan': 4354, 'mây': 4355, 'xám_xịt': 4356, 'trời_biển': 4357, 'cửa_lò': 4358, 'nghệ_an': 4359, 'báo_hiệu': 4360, 'cuồng_phong': 4361, 'trút': 4362, 'yên_ả': 4363, 'nghiêng_ngả': 4364, 'chao_đảo': 4365, 'vần_vũ': 4366, 'hải': 4367, 'thu_thuỷ': 4368, 'ngồi_bó_gối': 4369, 'đói_meo': 4370, 'gối': 4371, 'thuốc_lào': 4372, 'thẫn_thờ': 4373, 'hạt': 4374, 'ngoài_trời': 4375, 'yên': 4376, 'nhấp_nhổm': 4377, 'xê': 4378, 'nọ': 4379, 'lùa': 4380, 'mồn_một': 4381, 'nước_mắm': 4382, 'khê': 4383, 'tứ_bề': 4384, 'cháo': 4385, 'nát': 4386, 'chắn': 4387, 'ào': 4388, 'ngúm': 4389, 'mù_mịt': 4390, 'tủi_nhục': 4391, 'nghèn_nghẹn': 4392, 'cuống_họng': 4393, 'dữ_dội': 4394, 'khô_ráo': 4395, 'dồn_dập': 4396, 'khăn_gói': 4397, 'cương_gián': 4398, 'nghi_xuân': 4399, 'hà_tĩnh': 4400, 'tình_cảnh': 4401, 'tí': 4402, 'trống_tuếch_trống_toác': 4403, 'bàn_ghế': 4404, 'chẳng_nhẽ': 4405, 'xuất_khẩu': 4406, 'nhà_nhà': 4407, 'cứu_cánh': 4408, 'nặng_nhọc': 4409, 'bó_gối': 4410, 'tâm_tình': 4411, 'bám_trụ': 4412, 'chợ_người': 4413, 'giảng_võ': 4414, 'xào': 4415, 'rỗng_không': 4416, 'nghe_lỏm': 4417, 'tuyển': 4418, 'nước_ngoài': 4419, 'đặt_cọc': 4420, 'lệ_phí': 4421, 'ngót': 4422, 'da_gà': 4423, 'nghệ': 4424, 'miên_man': 4425, 'toan_tính': 4426, 'đứt_ruột': 4427, 'túng_bấn': 4428, 'bão_bùng': 4429, 'định_hướng': 4430, 'lod': 4431, 'gtvt': 4432, 'háo_hức': 4433, 'lo_âu': 4434, 'lẫn_lộn': 4435, 'chật_vật': 4436, 'dễ_dàng': 4437, 'chạy_vạy': 4438, 'tứ_tung': 4439, 'nguội': 4440, 'cốt': 4441, 'đằng_đẵng': 4442, 'vợ_con': 4443, 'nghĩ_ngợi': 4444, 'khôn': 4445, 'cảnh_vật': 4446, 'cây_cối': 4447, 'xua': 4448, 'quầy': 4449, 'gấp_bội': 4450, 'an_phúc_lộc': 4451, 'xuân_liên': 4452, 'giam_lỏng': 4453, 'miệng_ăn': 4454, 'đói': 4455, 'rủ': 4456, 'làm_thuê': 4457, 'sổ_đỏ': 4458, 'ngân_hàng': 4459, 'đâu_đâu': 4460, 'cơm_bụi': 4461, 'canh': 4462, 'đại_dương': 4463, 'xìcăngđan': 4464, 'chơi_trội': 4465, 'rung_động': 4466, 'chẳng_mấy_khi': 4467, 'triền_miên': 4468, 'đẳng_cấp': 4469, 'ngoại_hạng': 4470, 'máy_lạnh': 4471, 'oshin': 4472, 'gu': 4473, 'quí_tộc': 4474, 'khẩn_trương': 4475, 'cưỡi': 4476, 'hươu_cao_cổ': 4477, 'rebel': 4478, 'loằng_ngoằng': 4479, 'vọt': 4480, 'nhằm': 4481, 'lướt': 4482, 'chợ_trời': 4483, 'rẽ': 4484, 'hổ': 4485, 'kiến_thiết': 4486, 'thể_nào': 4487, 'độc_đắc': 4488, 'ra_đời': 4489, 'nhịn': 4490, 'ưa_thích': 4491, 'cải_thiện': 4492, 'xám_ngoét': 4493, '70': 4494, 'q': 4495, 'hứng_khởi': 4496, 'tuyên_bố': 4497, 'sắm': 4498, 'quí_tử': 4499, 'máy_tính_xách_tay': 4500, 'fx': 4501, 'atm': 4502, 'tài_khoản': 4503, 'ngõ': 4504, '495': 4505, 'nhà_trọ': 4506, 'truyền_hình_cáp': 4507, 'máy_giặt': 4508, 'vặt': 4509, 'vi_hành': 4510, 'ký_túc_xá': 4511, 'nhấm_nháy': 4512, 'y_như_rằng': 4513, 'chiến_hữu': 4514, 'sát_phạt': 4515, 'nhả': 4516, 'độc': 4517, 'sảnh': 4518, 'ngần': 4519, 'khao': 4520, 'rèn': 4521, 'sới': 4522, '168': 4523, 'vũ_trường': 4524, 'nhà_hàng': 4525, 'thoả_thuê': 4526, 'cao_tay': 4527, 'vung': 4528, 'hô': 4529, 'thiếu_gia': 4530, 'mánh': 4531, 'tưởng_tượng': 4532, 'k': 4533, 'thốt': 4534, 'anh_ta': 4535, 'kết_luận': 4536, 'dân_lập': 4537, 'dân_chơi': 4538, 'casino': 4539, 'làm_vườn': 4540, 'chia': 4541, 'hẳn_hoi': 4542, 'đánh_bạc': 4543, 'chinh_phục': 4544, 'đêm_đêm': 4545, 'công_viên': 4546, 'đam_mê': 4547, 'phái_đẹp': 4548, 'kém_cạnh': 4549, 'đông-gioăng': 4550, 'điển_trai': 4551, 'cao_ráo': 4552, 'chịu_chơi': 4553, 'mỹ_nhân': 4554, 'sành_điệu': 4555, 'quan': 4556, 'trai_tráng': 4557, 'cưa': 4558, 'nick': 4559, 'chat': 4560, 'cóng': 4561, 'cắm': 4562, 'kiểm_soát': 4563, 'e240': 4564, 'bọc': 4565, 'thú': 4566, 'láu_lỉnh': 4567, 'dúi': 4568, 'sếp': 4569, 'toại_nguyện': 4570, 'yếu_ớt': 4571, 'daewoo': 4572, 'cao_thủ': 4573, 'tỉnh_lẻ': 4574, 'trung_bình': 4575, 'gầy_gò': 4576, 'tội': 4577, 'bmw': 4578, 'chủ_xị': 4579, 'cuộc_chơi': 4580, 'thâm_niên': 4581, 'rành': 4582, 'công_tử_bạc_liêu': 4583, 'nhốt': 4584, 'viện_trợ': 4585, 'gầm': 4586, 'thoả_hiệp': 4587, 'thực_thi': 4588, 'láng_coóng': 4589, 'lòng_vòng': 4590, 'xanh_rờn': 4591, 'xông_pha': 4592, 'ân_hận': 4593, 'thiếu_gì': 4594, 'o2': 4595, 'hải_phòng': 4596, 'nữ_sinh': 4597, 'anh_hào': 4598, 'k49': 4599, 'đinh_ninh': 4600, 'yến': 4601, 'khắc_khổ': 4602, 'học_kỳ': 4603, 'hiên_ngang': 4604, 'điểm_danh': 4605, 'đỏm_dáng': 4606, 'giặt_giũ': 4607, 'thoắt': 4608, 'sh': 4609, 'đen_nhánh': 4610, 'di_động': 4611, 'cáu_tiết': 4612, 'đứng_như_trời_trồng': 4613, 'vip': 4614, 'mới_chỉ': 4615, 'tầm_tầm': 4616, 'cởi': 4617, 'áo_khoác': 4618, 'hàng_hiệu': 4619, 'hong_kong': 4620, 'tiêu_pha': 4621, 'suýt': 4622, 'ngất': 4623, 'hoá_đơn': 4624, '207': 4625, 'tếch': 4626, 'nổi_bật': 4627, 'điều_hoà_nhiệt_độ': 4628, 'hồ': 4629, 'nhỡ': 4630, 'nhân_tiện': 4631, 'nước_khoáng': 4632, 'la_vie': 4633, 'choáng': 4634, 'khách_hàng': 4635, 'kinh_khủng': 4636, 'thấm_thía': 4637, 'đại_ca': 4638, 'hậu_phương': 4639, 'chạnh_lòng': 4640, 'sự_thật': 4641, 'dễ_dãi': 4642, 'nở': 4643, '105a': 4644, 'nhị': 4645, 'phú_trung': 4646, 'tân_phú': 4647, 'bẩn': 4648, 'nhăn': 4649, 'nước_máy': 4650, 'vòi': 4651, 'tuôn': 4652, 'trắng_xoá': 4653, 'hớp': 4654, 'đun': 4655, 'nạt': 4656, 'nhà_máy': 4657, 'phởn': 4658, 'đắn_đo': 4659, 'nực': 4660, 'đục': 4661, 'đượm': 4662, 'sạch': 4663, 'đồng_bộ': 4664, 'mắt_trước_mắt_sau': 4665, 'vòi_nước': 4666, 'giật': 4667, 'sững_sờ': 4668, 'lít': 4669, 'nóc': 4670, 'cống': 4671, 'súc': 4672, 'phiền': 4673, 'máy_bơm': 4674, 'lục_đục': 4675, 'băng_bó': 4676, 'gạc': 4677, 'bông_gòn': 4678, 'sắc_độ': 4679, 'bệ': 4680, 'tinh_khiết': 4681, 'xa_xỉ': 4682, 'đô_thị': 4683, 'loanh_quanh': 4684, 'chà': 4685, 'chi_chút': 4686, 'hứng': 4687, 'xíu': 4688, 'nấu': 4689, 'chi_tiêu': 4690, 'bông_thấm_nước': 4691, 'nước_màu': 4692, 'tiêu_chảy': 4693, 'nấu_ăn': 4694, 'tạp_hoá': 4695, 'chi_ly': 4696, 'y_như': 4697, 'khấp_khởi': 4698, 'xả': 4699, 'cứu_hoả': 4700, 'theo_dõi': 4701, 'xót_ruột': 4702, 'vặn': 4703, 'van': 4704, 'giặt': 4705, 'thế_mà': 4706, 'sơ_ý': 4707, 'canh_chừng': 4708, 'đục_ngầu': 4709, 'lần_lữa': 4710, 'ngày_một_ngày_hai': 4711, 'hợp_lý': 4712, 'khoa_học': 4713, 'cặn': 4714, 'lắng': 4715, 'chi_nhánh': 4716, 'đen_thui': 4717, 'tổ_dân_phố': 4718, 'phú_hoà_tân': 4719, 'điệp_khúc': 4720, 'hoài': 4721, 'mệt': 4722, 'ta_thán': 4723, 'ca_cẩm': 4724, 'mệt_mỏi': 4725, 'chán_ngán': 4726, 'chạy_ra_chạy_vào': 4727, 'nguyên_nhân': 4728, 'quyên': 4729, 'chung_cư': 4730, 'mini': 4731, 'nhà_tắm': 4732, 'song_song': 4733, 'nhà_bếp': 4734, 'mút': 4735, 'to_lớn': 4736, 'nhất_định': 4737, 'đắng': 4738, 'tự_nhủ': 4739, 'cực_nhọc': 4740, 'thể_xác': 4741, 'biết_bao': 4742, 'haoai': 4743, 'muôn_vàn': 4744, 'mười_bốn': 4745, 'chung_thuỷ': 4746, 'chứa_đọng': 4747, 'chia_rẽ': 4748, 'khát_vọng': 4749, 'nhung_nhớ': 4750, 'muôn_trùng': 4751, 'bố_con': 4752, 'chúng_mình': 4753, 'mưa_gió': 4754, 'cá_nhân': 4755, 'tự_túc': 4756, 'diễn_biến': 4757, 'nỗi_niềm': 4758, 'nghi_hải': 4759, '2001': 4760, 'bôn_ba': 4761, 'nam_mỹ': 4762, 'dày_cộp': 4763, 'gia_bảo': 4764, 'vân_vê': 4765, 'mép': 4766, 'vở': 4767, 'trang_thiết_bị': 4768, 'hòm_hòm': 4769, 'lớn_khôn': 4770, 'tỉ_lệ_thuận': 4771, 'tuyết': 4772, 'áo_ấm': 4773, 'găng_tay': 4774, 'quần_quật': 4775, 'rét': 4776, 'căm_căm': 4777, 'mệt_lả': 4778, 'vùi': 4779, 'chẳng_thể': 4780, 'tín_nhiệm': 4781, 'chịu_đựng': 4782, 'may_rủi': 4783, 'thương_tích': 4784, 'gãy': 4785, 'nhức': 4786, 'kinh_niên': 4787, 'trái_gió_trở_trời': 4788, 'trí_nhớ': 4789, '2002': 4790, 'hầm': 4791, 'phang': 4792, 'sống_mũi': 4793, 'be_bét': 4794, 'choáng_váng': 4795, 'mặt_mày': 4796, 'kín_mít': 4797, 'vết_thương': 4798, 'may': 4799, 'bóc': 4800, 'liếp': 4801, 'vườn': 4802, '27': 4803, 'tưởng_chừng': 4804, 'điều_kiện': 4805, 'chữa_cháy': 4806, 'ướp': 4807, 'gây_tê': 4808, 'vét': 4809, 'có_một_không_hai': 4810, 'cộng': 4811, 'kháng_sinh': 4812, 'cầm_cự': 4813, 'nghỉ_việc': 4814, 'xương': 4815, 'sơ_cứu': 4816, 'nhiễm_trùng': 4817, 'nam_phi': 4818, 'bó_tay': 4819, 'đinh_vít': 4820, 'viện': 4821, 'nhăn_nhúm': 4822, 'bắp_chân': 4823, 'teo': 4824, 'quắt': 4825, 'than_thở': 4826, 'tập_tễnh': 4827, 'đực_rựa': 4828, 'cũ_rích': 4829, 'nhì_nhằng': 4830, 'nhớ_nhung': 4831, 'phong_cảnh': 4832, 'hút': 4833, 'tí_ti': 4834, 'ngã_ngửa': 4835, 'tết_nguyên_đán': 4836, 'mau': 4837, 'lặng': 4838, 'xuất_ngoại': 4839, 'kiếp': 4840, '26': 4841, 'nhụt': 4842, 'cường_độ': 4843, 'uể_oải': 4844, 'cai': 4845, 'đánh_đập': 4846, 'nhục': 4847, 'tời': 4848, 'nghiến': 4849, 'may_mà': 4850, 'tay_phải': 4851, 'trục_trặc': 4852, 'nấc': 4853, 'thảm_thiết': 4854, 'thâm_quầng': 4855, 'tràn': 4856, 'quả_phụ': 4857, 'mặn_chát': 4858, 'đỏ_hỏn': 4859, 'trả_giá': 4860, 'tính_mạng': 4861, 'tử_nạn': 4862, 'trùng_dương': 4863, 'bao_la': 4864, 'ảm_đạm': 4865, 'u_ám': 4866, 'bi_ai': 4867, 'tang_tóc': 4868, 'bắc_sơn': 4869, 'não_nề': 4870, 'thuỷ': 4871, 'ngằn_ngặt': 4872, 'bú': 4873, 'gan': 4874, 'o': 4875, 'thiết': 4876, 'con_bé': 4877, 'ngân': 4878, 'sụt_sùi': 4879, 'lâm_thâm': 4880, 'vắng_vẻ': 4881, 'hiu_quạnh': 4882, 'thiếu_phụ': 4883, 'sụp_đổ': 4884, 'hung': 4885, 'argentina': 4886, 'bụng_mang_dạ_chửa': 4887, 'nằng_nặc': 4888, 'để_dành': 4889, 'đầu_lòng': 4890, 'ai_ngờ': 4891, 'mang_tiếng': 4892, 'gộp': 4893, 'bung': 4894, 'lắc_lư': 4895, 'mong_ngóng': 4896, 'inmasco': 4897, 'tổng_công_ty': 4898, 'nhúm': 4899, 'móng': 4900, 'ẵm_ngửa': 4901, 'khâm_liệm': 4902, 'hoả_táng': 4903, 'ước_mong': 4904, 'bảo_hiểm': 4905, 'thân_yêu': 4906, 'nấm': 4907, 'mồ': 4908, 'đất_khách_quê_người': 4909, 'mộ': 4910, 'xấu_số': 4911, 'nghĩa_trang': 4912, 'stanley': 4913, 'falkland': 4914, 'nghĩa_địa': 4915, 'liên_hiệp_quốc': 4916, 'quê_cha_đất_mẹ': 4917, '1970': 4918, '1995': 4919, 'chùng': 4920, 'bó': 4921, 'cứng_đờ': 4922, 'thi_hài': 4923, 'thiêu': 4924, 'hoạ_vô_đơn_chí': 4925, 'thắm': 4926, 'gas': 4927, 'nhỏ_dại': 4928, 'cõi': 4929, '43': 4930, 'giỗ': 4931, 'chiều_tối': 4932, 'luồng': 4933, 'cá_thu': 4934, 'cá_vược': 4935, 'vô_kể': 4936, 'siết': 4937, 'khẳm': 4938, 'tròng_trành': 4939, 'toác': 4940, 'từ_từ': 4941, 'hoảng_loạn': 4942, 'bám_víu': 4943, 'túm': 4944, 'áo_phao': 4945, 'bập_bềnh': 4946, 'nước_biển': 4947, 'rách': 4948, 'tả_tơi': 4949, 'cứu_hộ': 4950, 'đài_bắc': 4951, 'dưỡng_sức': 4952, 'phao': 4953, 'cứu_sinh': 4954, 'vật_vờ': 4955, 'dập_dềnh': 4956, 'vớt': 4957, 'tím_tái': 4958, 'cứu_viện': 4959, 'tĩnh_dưỡng': 4960, 'quảng_nam': 4961, 'hội_an': 4962, 'bar': 4963, 'giải_trí': 4964, 'mở_cửa': 4965, 'lễ_hội': 4966, 'rằm': 4967, 'hội_nghị': 4968, 'truyền_thống': 4969, 'đẩy_mạnh': 4970, 'jica': 4971, 'ica': 4972, 'bãi': 4973, 'đậu': 4974, 'mạng_lưới': 4975, 'bảo_tàng': 4976, 'đường_bộ': 4977, 'tháp': 4978, 'mỹ_sơn': 4979, 'đồng_quê': 4980, 'đấu_tranh': 4981, 'liên_cảng': 4982, 'a5': 4983, 'đại': 4984, 'túng_quẫn': 4985, 'cùng_cực': 4986, 'lận_đận': 4987, 'tố_cáo': 4988, 'phiêu_bạt': 4989, 'dắt_díu': 4990, 'trinh': 4991, 'định_quán': 4992, 'làm_mướn': 4993, 'lượm': 4994, 've_chai': 4995, 'ngờ_vực': 4996, 'pháp_luật': 4997, 'bình_chiểu': 4998, 'gò_má': 4999, 'hóp': 5000, 'trũng': 5001, 'rảo': 5002, 'hang_cùng_ngõ_hẻm': 5003, 'bới': 5004, 'bao_bì': 5005, 'ngày_trước': 5006, 'sắm_sửa': 5007, 'đeo_đuổi': 5008, 'của_cải': 5009, 'lần_lượt': 5010, 'đội_nón_ra_đi': 5011, 'xoan': 5012, 'chen_chúc': 5013, 'che_chắn': 5014, 'vôi': 5015, 'vữa': 5016, 'quày_quả': 5017, 'cọc_cạch': 5018, 'thân': 5019, 'thuận_an': 5020, 'bình_dương': 5021, 'tá_túc': 5022, 'cứu': 5023, 'ngăn_chặn': 5024, 'âm_mưu': 5025, 'rút_ruột': 5026, 'bần_hàn': 5027, 'vậy_sao': 5028, 'sanofi': 5029, 'synthelabo': 5030, 'giải_trình': 5031, 'phân_phối': 5032, 'hạn_chế': 5033, 'ngân_hàng_dữ_liệu': 5034, 'cung_ứng': 5035, 'kê': 5036, 'dự_báo': 5037, 'nước_mặn': 5038, '44': 5039, 'lễ': 5040, 'kanni': 5041, 'wignaraja': 5042, 'thường_trú': 5043, 'undp': 5044, 'mục_tiêu': 5045, '2010': 5046, '2020': 5047, 'yếu_tố': 5048, 'năng_lực': 5049, 'tài_nguyên': 5050, 'phát_biểu': 5051, 'sơ_kết': 5052, 'phòng_chống': 5053, 'aids': 5054, 'bộ_trưởng': 5055, '36': 5056, 'chủ_chứa': 5057, 'tiếp_viên': 5058, 'biểu_hiện': 5059, 'nghi_vấn': 5060, 'phức_tạp': 5061, 'bán_dâm': 5062, 'mua_dâm': 5063, 'công_chức': 5064, 'tội_phạm': 5065, 'nghiện': 5066, '64': 5067, 'tỉnh_thành': 5068, 'cai_nghiện': 5069, '652': 5070, '229': 5071, 'giáo_viên': 5072, 'tỉ_lệ': 5073, 'tái_nghiện': 5074, '98': 5075, 'thứ_trưởng': 5076, 'hiv': 5077, 'gia_tăng': 5078, 'tổng_số': 5079, 'toàn_quốc': 5080, 'điện_máy': 5081, 'tủ_lạnh': 5082, 'loa_thùng': 5083, 'ampli': 5084, 'biên_bản': 5085, 'thu_giữ': 5086, 'hải_quan': 5087, 'chi_cục_phó': 5088, 'cấm': 5089, 'nhập_khẩu': 5090, 'xuất_nhập_khẩu': 5091, 'bình_phước': 5092, 'cam_kết': 5093, 'cửa_khẩu': 5094, 'thái_lan': 5095, 'gian_khổ': 5096, 'tù_tội': 5097, 'phí': 5098, 'wb': 5099, 'thượng_hải': 5100, 'tq': 5101, 'tri_thức': 5102, 'thúc_giục': 5103, 'qui_mô': 5104, 'qui_tụ': 5105, 'đại_biểu': 5106, 'nghiên_cứu': 5107, 'minh_hoạ': 5108, 'thực_sự': 5109, 'định_chế': 5110, 'làm_nên': 5111, 'tựa_đề': 5112, 'cơ_sở_hạ_tầng': 5113, 'thảo_luận': 5114, 'thông_qua': 5115, 'trực_tuyến': 5116, 'phú_yên': 5117, 'xuân_hải': 5118, 'sông_cầu': 5119, 'qui_nhơn': 5120, '2554': 5121, 'qđ': 5122, 'ub': 5123, '36656': 5124, 'chuyển_giao': 5125, 'thực_chất': 5126, 'hạ_tầng': 5127, 'phê_duyệt': 5128, 'sơ_đồ': 5129, 'công_khai': 5130, 'chủ_sở_hữu': 5131, 'nâng_cấp': 5132, 'nền_móng': 5133, 'ngăn_cản': 5134, 'quyết_liệt': 5135, 'dứt_khoát': 5136, 'hẹn_lần_hẹn_lữa': 5137, '37926': 5138, 'công_dân': 5139, 'lãi_suất': 5140, 'một_cách': 5141, '904': 5142, 'sự_việc': 5143, 'kiện_cáo': 5144, 'lộc': 5145, 'sai_trái': 5146, 'thuyên_chuyển': 5147, 'kỷ_luật': 5148, 'cách_chức': 5149, 'nói_tóm_lại': 5150, 'duyệt': 5151, 'động_cơ': 5152, 'tuân_thủ': 5153, 'sai_phạm': 5154, 'gánh_chịu': 5155, 'hậu_quả': 5156, 'lãi': 5157, 'vô_hiệu': 5158, 'bạch_đằng': 5159, 'thi_công': 5160, 'phiền_phức': 5161, 'mặc_dù': 5162, 'thay_vì': 5163, 'cuốn_chiếu': 5164, 'cản_trở': 5165, 'kỳ_đồng': 5166, 'rơi_vãi': 5167, 'rào_chắn': 5168, 'cách_ly': 5169, 'sập': 5170, 'đáng_lẽ': 5171, 'quyên_góp': 5172, 'ra_mắt': 5173, 'chi_hội': 5174, 'bảo_trợ': 5175, 'bệnh_nhân': 5176, 'thiện_nhân': 5177, 'majestic': 5178, 'trực_thuộc': 5179, 'nsưt': 5180, 'nghệ_sĩ': 5181, 'doanh_nhân': 5182, 'tự_nguyện': 5183, 'thiện': 5184, 'ban_chấp_hành': 5185, '67': 5186, 'nhung': 5187, 'tân_bình': 5188, 'đặt_cược': 5189, 'tốt_đẹp': 5190, 'hệ_lụy': 5191, 'xứng_đáng': 5192, 'danh_hiệu': 5193, 'hiệp_sĩ': 5194, 'ra_sao': 5195, 'cày_ải': 5196, 'ngẫm': 5197, 'tôn_vinh': 5198, 'trái_lại': 5199, 'an_ủi': 5200, 'đơn_độc': 5201, 'niềm_tin': 5202, 'lẽ_phải': 5203, 'lại_nữa': 5204, 'ngâm': 5205, 'khu_chế_xuất': 5206, 'tân_thuận': 5207, 'vậy_thì': 5208, 'khắc_phục': 5209, 'xuống_cấp': 5210, 'thê_thảm': 5211, 'đồng_nghĩa': 5212, 'lang_bạt': 5213, 'kết_thúc': 5214, 'dạy_dỗ': 5215, 'lầm_than': 5216, 'minh_chứng': 5217, 'hậu': 5218, 'nhãn_tiền': 5219, 'hoan_nghênh': 5220, 'biểu_dương': 5221, 'tại_sao': 5222, 'tuyên_dương': 5223, 'long_trọng': 5224, 'phát_tán': 5225, 'mong_mỏi': 5226, 'công_bằng': 5227, 'tt': 5228, 'đầu_tàu': 5229, 'độc_giả': 5230, 'doanh_nghiệp': 5231, 'biện_pháp': 5232, 'hành_chính': 5233, 'dẫu': 5234, 'trễ_tràng': 5235, 'xây_lắp': 5236, 'vật_tư': 5237, 'nn': 5238, 'ptnt': 5239, 'sáng_tỏ': 5240, 'bù_đắp': 5241, 'tiền_lệ': 5242, 'hiện_tượng': 5243, '93': 5244, 'trứ': 5245, 'triều_phú': 5246, 'chỗ_đứng': 5247, 'tam_tân': 5248, 'tân_an_hội': 5249, 'loạt': 5250, 'kịch': 5251, 'sân_khấu': 5252, 'idecaf': 5253, 'đề_cập': 5254, 'trang_trại': 5255, 'luật_sư': 5256, 'hoà_giải': 5257, 'ùn_tắc': 5258, 'thiệt_mạng': 5259, 'gtcc': 5260, 'dải_phân_cách': 5261, 'cửa_ngõ': 5262, 'tiến_độ': 5263, 'xa_lộ': 5264, 'song_hành': 5265, 'chinh': 5266, 'đấu_thầu': 5267, 'hư': 5268, 'mất_sức': 5269, 'mặt_khác': 5270, 'ưu_đãi': 5271, 'lấn_chiếm': 5272, 'lề_đường': 5273, 'trật_tự': 5274, 'phù_hợp': 5275, 'tiêu_hoá': 5276, 'lơi_lỏng': 5277, 'chủ_quan': 5278, 'xử_phạt': 5279, 'sea_games': 5280, 'lộ_trình': 5281, 'thay_thế': 5282, '701': 5283, 'daihatsu': 5284, 'hiểm_hoạ': 5285, 'bắt_buộc': 5286, 'ẩu': 5287, 'chủ_quản': 5288, 'ttxvn': 5289, 'kiểm_lâm': 5290, 'lâm_tặc': 5291, 'khai': 5292, 'trọng_thương': 5293, 'chức_năng': 5294, 'quý': 5295, 'ia_me': 5296, 'dốc_tứ': 5297, 'khai_thác': 5298, '38294': 5299, 'lán_trại': 5300, 'thuỷ_điện': 5301, 'ăn_nhậu': 5302, 'mâu_thuẫn': 5303, 'cãi_vã': 5304, 'tự_ái': 5305, 'trình_diện': 5306, 'nghị_định': 5307, 'hành_vi': 5308, 'xử_lí': 5309, 'kỉ_luật': 5310, 'quản_lí': 5311, 'góp_ý': 5312, 'dự_thảo': 5313, 'thi_hành': 5314, 'phiền_hà': 5315, 'cảnh_cáo': 5316, 'hạ': 5317, 'đăng_kí': 5318, 'chỉnh_lí': 5319, 'địa_chính': 5320, 'bản_sao': 5321, 'lí_giải': 5322, 'thẩm_quyền': 5323, 'nhân_lực': 5324, 'biên_chế': 5325, 'tâm_đắc': 5326, 'tiếng_nói': 5327, 'đồng_thanh': 5328, 'loại_bỏ': 5329, 'điều_khoản': 5330, 'chu': 5331, 'áp_dụng': 5332, 'dây_chuyền': 5333, 'lâu_nay': 5334, 'kiên': 5335, 'đĩnh': 5336, 'nhà_đất': 5337, 'lập_trường': 5338, 'soạn_thảo': 5339, 'quan_điểm': 5340, 'tiếp_lời': 5341, 'quyền_lực': 5342, 'khuôn': 5343, 'thể_hiện': 5344, 'bao_trùm': 5345, 'nhiêu_khê': 5346, 'cải_cách': 5347, 'cho_phép': 5348, 'phạm_luật': 5349, 'hội_đồng': 5350, 'xét_xử': 5351, 'phúc_thẩm': 5352, 'lã': 5353, 'oanh': 5354, 'thẩm_vấn': 5355, 'cty': 5356, 'tiếp_thị': 5357, '85354': 5358, 'nh': 5359, 'nhẹ_nhàng': 5360, 'cổ_phần': 5361, 'ba_phần_tư': 5362, 'hđxx': 5363, 'bị_cáo': 5364, 'quá_trình': 5365, 'nội_dung': 5366, 'lặp_đi_lặp_lại': 5367, 'hội_họp': 5368, 'thực_địa': 5369, '79': 5370, 'hàng_bồ': 5371, 'chủ_toạ': 5372, 'phiên_toà': 5373, 'thẩm_phán': 5374, 'sơ_thẩm': 5375, 'thoả_đáng': 5376, 'cố_ý': 5377, 'nghiêm_trọng': 5378, 'chiều_qua': 5379, 'phó_chánh_toà': 5380, 'hình_sự': 5381, 'tú': 5382, 'đối_chất': 5383, 'quang': 5384, 'luân': 5385, 'tạn': 5386, 'huy': 5387, 'ngọ': 5388, 'quĩ': 5389, 'gấp': 5390, 'tiểu_dự_án': 5391, 'hạn': 5392, 'hoàn_trả': 5393, '31': 5394, 'uỷ_quyền': 5395, 'tín_dụng': 5396, '980': 5397, 'xử': 5398, 'vô_tư': 5399, 'chìm_xuồng': 5400, 'thụ_lý': 5401, 'vụ_án': 5402, 'dư_luận': 5403, 'điều_tra_viên': 5404, 'giám_định': 5405, 'khởi_tố': 5406, 'truy_tố': 5407, 'buộc': 5408, 'chứng_cứ': 5409, 'vật_liệu': 5410, 'bớt_xén': 5411, 'văn_bản': 5412, 'mới_đây': 5413, 'viện_kiểm_sát': 5414, 'nhân_dân': 5415, 'chung_chung': 5416, 'do_vậy': 5417, 'đặc_điểm': 5418, 'toàn_diện': 5419, 'tận_cùng': 5420, 'cừ': 5421, 'nhân_chứng': 5422, 'toà_án': 5423, 'tối_cao': 5424, 'làm_chứng': 5425, 'đồng_phạm': 5426}\n"
     ]
    }
   ],
   "source": [
    "def process_corpus(corpus):\n",
    "    \n",
    "    unique_words = set()\n",
    "    word_to_id = {}\n",
    "    current_id = 1\n",
    "    \n",
    "    for text in corpus:\n",
    "        words = text.lower().split()\n",
    "        for word in words:\n",
    "            if word not in unique_words:\n",
    "                unique_words.add(word)\n",
    "                word_to_id[word] = current_id\n",
    "                current_id += 1\n",
    "    \n",
    "    return unique_words, word_to_id\n",
    "\n",
    "unique_words, word_to_id = process_corpus(data_ner['Word'])\n",
    "print(word_to_id)"
   ]
  },
  {
   "cell_type": "markdown",
   "metadata": {},
   "source": [
    "##### Dùng từ điển để mã hóa cho cột Word"
   ]
  },
  {
   "cell_type": "code",
   "execution_count": 12,
   "metadata": {},
   "outputs": [],
   "source": [
    "def encode_text(text, vocab):\n",
    "    max_len = 150\n",
    "    words = text.split()\n",
    "    encoded_text = [vocab[word.lower()] if word.lower() in vocab else -1 for word in words]\n",
    "    encoded_text = encoded_text + ([0]*(max_len-np.array(words).shape[0]))\n",
    "    return encoded_text\n",
    "\n",
    "X_pre = np.array([encode_text(sentence, word_to_id) for sentence in data_ner['Word']])"
   ]
  },
  {
   "cell_type": "markdown",
   "metadata": {},
   "source": [
    "##### In ra cột Word sau khi mã hóa"
   ]
  },
  {
   "cell_type": "code",
   "execution_count": 13,
   "metadata": {},
   "outputs": [
    {
     "data": {
      "text/plain": [
       "array([[   1,    2,    3, ...,    0,    0,    0],\n",
       "       [  33,   34,   22, ...,    0,    0,    0],\n",
       "       [  10,   61,   62, ...,    0,    0,    0],\n",
       "       ...,\n",
       "       [1310,   74,  273, ...,    0,    0,    0],\n",
       "       [5055,  171, 3482, ...,    0,    0,    0],\n",
       "       [ 239, 5055,  708, ...,    0,    0,    0]])"
      ]
     },
     "execution_count": 13,
     "metadata": {},
     "output_type": "execute_result"
    }
   ],
   "source": [
    "X_pre"
   ]
  },
  {
   "cell_type": "markdown",
   "metadata": {},
   "source": [
    "##### Ví dụ văn bản thứ 3 trước khi chưa mã hóa"
   ]
  },
  {
   "cell_type": "code",
   "execution_count": 14,
   "metadata": {},
   "outputs": [
    {
     "data": {
      "text/plain": [
       "'Từ bức điện của IMB'"
      ]
     },
     "execution_count": 14,
     "metadata": {},
     "output_type": "execute_result"
    }
   ],
   "source": [
    "data_ner['Word'][2]"
   ]
  },
  {
   "cell_type": "markdown",
   "metadata": {},
   "source": [
    "##### Văn bản thứ 3 sau khi được mã hóa"
   ]
  },
  {
   "cell_type": "code",
   "execution_count": 15,
   "metadata": {},
   "outputs": [
    {
     "data": {
      "text/plain": [
       "array([10, 61, 62, 20, 63,  0,  0,  0,  0,  0,  0,  0,  0,  0,  0,  0,  0,\n",
       "        0,  0,  0,  0,  0,  0,  0,  0,  0,  0,  0,  0,  0,  0,  0,  0,  0,\n",
       "        0,  0,  0,  0,  0,  0,  0,  0,  0,  0,  0,  0,  0,  0,  0,  0,  0,\n",
       "        0,  0,  0,  0,  0,  0,  0,  0,  0,  0,  0,  0,  0,  0,  0,  0,  0,\n",
       "        0,  0,  0,  0,  0,  0,  0,  0,  0,  0,  0,  0,  0,  0,  0,  0,  0,\n",
       "        0,  0,  0,  0,  0,  0,  0,  0,  0,  0,  0,  0,  0,  0,  0,  0,  0,\n",
       "        0,  0,  0,  0,  0,  0,  0,  0,  0,  0,  0,  0,  0,  0,  0,  0,  0,\n",
       "        0,  0,  0,  0,  0,  0,  0,  0,  0,  0,  0,  0,  0,  0,  0,  0,  0,\n",
       "        0,  0,  0,  0,  0,  0,  0,  0,  0,  0,  0,  0,  0,  0])"
      ]
     },
     "execution_count": 15,
     "metadata": {},
     "output_type": "execute_result"
    }
   ],
   "source": [
    "X_pre[2]"
   ]
  },
  {
   "cell_type": "markdown",
   "metadata": {},
   "source": [
    "### Mã hóa cột NER"
   ]
  },
  {
   "cell_type": "markdown",
   "metadata": {},
   "source": [
    "##### In ra tập các giá trị phân biệt trong cột NER"
   ]
  },
  {
   "cell_type": "code",
   "execution_count": 16,
   "metadata": {},
   "outputs": [
    {
     "data": {
      "text/plain": [
       "array(['O', 'B-LOC', 'B-ORG', 'I-LOC', 'B-PER', 'I-PER', 'I-ORG',\n",
       "       'B-MISC', 'I-MISC'], dtype=object)"
      ]
     },
     "execution_count": 16,
     "metadata": {},
     "output_type": "execute_result"
    }
   ],
   "source": [
    "pd.unique(all_values)"
   ]
  },
  {
   "cell_type": "markdown",
   "metadata": {},
   "source": [
    "##### Xây dựng từ điển"
   ]
  },
  {
   "cell_type": "code",
   "execution_count": 17,
   "metadata": {},
   "outputs": [],
   "source": [
    "tags2id = {}\n",
    "for i, tag in enumerate(pd.unique(all_values)):\n",
    "    tags2id[tag] = i"
   ]
  },
  {
   "cell_type": "markdown",
   "metadata": {},
   "source": [
    "##### In ra từ điển đã xây dựng"
   ]
  },
  {
   "cell_type": "code",
   "execution_count": 18,
   "metadata": {},
   "outputs": [
    {
     "data": {
      "text/plain": [
       "{'O': 0,\n",
       " 'B-LOC': 1,\n",
       " 'B-ORG': 2,\n",
       " 'I-LOC': 3,\n",
       " 'B-PER': 4,\n",
       " 'I-PER': 5,\n",
       " 'I-ORG': 6,\n",
       " 'B-MISC': 7,\n",
       " 'I-MISC': 8}"
      ]
     },
     "execution_count": 18,
     "metadata": {},
     "output_type": "execute_result"
    }
   ],
   "source": [
    "tags2id"
   ]
  },
  {
   "cell_type": "markdown",
   "metadata": {},
   "source": [
    "##### Xây dựng từ điển ngược dùng để mã hóa về ban đầu"
   ]
  },
  {
   "cell_type": "code",
   "execution_count": 19,
   "metadata": {},
   "outputs": [],
   "source": [
    "id2tags = {value: key for key, value in tags2id.items()}"
   ]
  },
  {
   "cell_type": "markdown",
   "metadata": {},
   "source": [
    "##### In ra từ điển ngược"
   ]
  },
  {
   "cell_type": "code",
   "execution_count": 20,
   "metadata": {},
   "outputs": [
    {
     "data": {
      "text/plain": [
       "{0: 'O',\n",
       " 1: 'B-LOC',\n",
       " 2: 'B-ORG',\n",
       " 3: 'I-LOC',\n",
       " 4: 'B-PER',\n",
       " 5: 'I-PER',\n",
       " 6: 'I-ORG',\n",
       " 7: 'B-MISC',\n",
       " 8: 'I-MISC'}"
      ]
     },
     "execution_count": 20,
     "metadata": {},
     "output_type": "execute_result"
    }
   ],
   "source": [
    "id2tags"
   ]
  },
  {
   "cell_type": "markdown",
   "metadata": {},
   "source": [
    "##### Hàm dùng từ điển thuận để mã hóa cho cột NER"
   ]
  },
  {
   "cell_type": "code",
   "execution_count": 21,
   "metadata": {},
   "outputs": [],
   "source": [
    "def preprocess_tags(tags2id, Y):\n",
    "    \n",
    "    Y_pre = []\n",
    "    max_len = 150\n",
    "    for y in Y:\n",
    "        \n",
    "        Y_place_holder = []\n",
    "        \n",
    "        for tag in y:\n",
    "            Y_place_holder.append(tags2id[tag])\n",
    "        \n",
    "        padded_tags = Y_place_holder + ([0] * (max_len - np.array(Y_place_holder).shape[0]))\n",
    "        Y_pre.append(padded_tags)\n",
    "        \n",
    "    return Y_pre"
   ]
  },
  {
   "cell_type": "markdown",
   "metadata": {},
   "source": [
    "##### Áp dụng hàm trên để mã hóa cho cột NER"
   ]
  },
  {
   "cell_type": "code",
   "execution_count": 22,
   "metadata": {},
   "outputs": [],
   "source": [
    "Y_pre = preprocess_tags(tags2id, data_ner['NER'])"
   ]
  },
  {
   "cell_type": "markdown",
   "metadata": {},
   "source": [
    "##### Ví dụ list thứ 3 trước khi chưa mã hóa"
   ]
  },
  {
   "cell_type": "code",
   "execution_count": 23,
   "metadata": {},
   "outputs": [
    {
     "data": {
      "text/plain": [
       "array(['O', 'O', 'O', 'O', 'O', 'O', 'O', 'O', 'O', 'B-PER', 'I-PER', 'O',\n",
       "       'O', 'O', 'B-ORG', 'I-ORG', 'I-ORG', 'B-ORG', 'O', 'B-LOC', 'O',\n",
       "       'O', 'O', 'O', 'O', 'O', 'O', 'O', 'O', 'O', 'O', 'B-LOC', 'I-LOC'],\n",
       "      dtype='<U5')"
      ]
     },
     "execution_count": 23,
     "metadata": {},
     "output_type": "execute_result"
    }
   ],
   "source": [
    "np.array(data_ner['NER'][3])"
   ]
  },
  {
   "cell_type": "markdown",
   "metadata": {},
   "source": [
    "##### List thứ 3 sau khi mã hóa"
   ]
  },
  {
   "cell_type": "code",
   "execution_count": 24,
   "metadata": {},
   "outputs": [
    {
     "data": {
      "text/plain": [
       "array([0, 0, 0, 0, 0, 0, 0, 0, 0, 4, 5, 0, 0, 0, 2, 6, 6, 2, 0, 1, 0, 0,\n",
       "       0, 0, 0, 0, 0, 0, 0, 0, 0, 1, 3, 0, 0, 0, 0, 0, 0, 0, 0, 0, 0, 0,\n",
       "       0, 0, 0, 0, 0, 0, 0, 0, 0, 0, 0, 0, 0, 0, 0, 0, 0, 0, 0, 0, 0, 0,\n",
       "       0, 0, 0, 0, 0, 0, 0, 0, 0, 0, 0, 0, 0, 0, 0, 0, 0, 0, 0, 0, 0, 0,\n",
       "       0, 0, 0, 0, 0, 0, 0, 0, 0, 0, 0, 0, 0, 0, 0, 0, 0, 0, 0, 0, 0, 0,\n",
       "       0, 0, 0, 0, 0, 0, 0, 0, 0, 0, 0, 0, 0, 0, 0, 0, 0, 0, 0, 0, 0, 0,\n",
       "       0, 0, 0, 0, 0, 0, 0, 0, 0, 0, 0, 0, 0, 0, 0, 0, 0, 0])"
      ]
     },
     "execution_count": 24,
     "metadata": {},
     "output_type": "execute_result"
    }
   ],
   "source": [
    "np.array(Y_pre[3])"
   ]
  },
  {
   "cell_type": "markdown",
   "metadata": {},
   "source": [
    "### Chia dữ liệu thành 3 tập Train : Validation : Test theo tỷ lệ 70 : 10 : 20"
   ]
  },
  {
   "cell_type": "code",
   "execution_count": 25,
   "metadata": {},
   "outputs": [],
   "source": [
    "len = data_ner.shape[0]\n",
    "X_train = X_pre[:int(len*0.7)]\n",
    "X_val = X_pre[int(len*0.7):int(len*0.8)]\n",
    "X_test = X_pre[int(len*0.8):]\n",
    "Y_train = Y_pre[:int(len*0.7)]\n",
    "Y_val = Y_pre[int(len*0.7):int(len*0.8)]\n",
    "Y_test = Y_pre[int(len*0.8):]"
   ]
  },
  {
   "cell_type": "markdown",
   "metadata": {},
   "source": [
    "##### In ra kích thước tập Train, Validation, Test"
   ]
  },
  {
   "cell_type": "code",
   "execution_count": 26,
   "metadata": {},
   "outputs": [
    {
     "name": "stdout",
     "output_type": "stream",
     "text": [
      "Số mẫu của data_Train:  1434\n",
      "Số mẫu của data_Validation:  205\n",
      "Số mẫu của data_Test:  410\n"
     ]
    }
   ],
   "source": [
    "print(\"Số mẫu của data_Train: \", X_train.shape[0])\n",
    "print(\"Số mẫu của data_Validation: \", X_val.shape[0])\n",
    "print(\"Số mẫu của data_Test: \", X_test.shape[0])"
   ]
  },
  {
   "cell_type": "markdown",
   "metadata": {},
   "source": [
    "### Xây dựng mô hình BiLSTM"
   ]
  },
  {
   "cell_type": "markdown",
   "metadata": {},
   "source": [
    "##### Đưa dữ liêu Train và Validation về kiểu phừ hợp với mô hình"
   ]
  },
  {
   "cell_type": "code",
   "execution_count": 27,
   "metadata": {},
   "outputs": [],
   "source": [
    "train_dataset = tf.data.Dataset.from_tensor_slices((X_train, Y_train))\n",
    "val_dataset = tf.data.Dataset.from_tensor_slices((X_val, Y_val))"
   ]
  },
  {
   "cell_type": "markdown",
   "metadata": {},
   "source": [
    "##### Chia dữ liệu Train và Validation thành các batch"
   ]
  },
  {
   "cell_type": "code",
   "execution_count": 28,
   "metadata": {},
   "outputs": [],
   "source": [
    "BATCH_SIZE = 28\n",
    "train_dataset = train_dataset.batch(BATCH_SIZE)\n",
    "val_dataset = val_dataset.batch(BATCH_SIZE)"
   ]
  },
  {
   "cell_type": "code",
   "execution_count": 29,
   "metadata": {},
   "outputs": [
    {
     "name": "stderr",
     "output_type": "stream",
     "text": [
      "c:\\Users\\84936\\anaconda3\\Lib\\site-packages\\keras\\src\\layers\\core\\embedding.py:90: UserWarning: Argument `input_length` is deprecated. Just remove it.\n",
      "  warnings.warn(\n"
     ]
    }
   ],
   "source": [
    "embedding_dim = 200\n",
    "maxlen = 150\n",
    "max_words = 20000\n",
    "num_tags = 9\n",
    "\n",
    "model = tf.keras.models.Sequential([\n",
    "    tf.keras.layers.Embedding(max_words, embedding_dim, input_length=maxlen),\n",
    "    tf.keras.layers.Bidirectional(tf.keras.layers.LSTM(units=100, activation='tanh', return_sequences=True)),\n",
    "    tf.keras.layers.Bidirectional(tf.keras.layers.LSTM(units=100, activation='tanh', return_sequences=True)),\n",
    "    tf.keras.layers.Dense(num_tags, activation='softmax')\n",
    "])"
   ]
  },
  {
   "cell_type": "markdown",
   "metadata": {},
   "source": [
    "##### Khởi tạo trình biên dịch"
   ]
  },
  {
   "cell_type": "code",
   "execution_count": 30,
   "metadata": {},
   "outputs": [],
   "source": [
    "model.compile(loss='sparse_categorical_crossentropy',\n",
    "              optimizer='adam')"
   ]
  },
  {
   "cell_type": "markdown",
   "metadata": {},
   "source": [
    "##### Thực hiện huấn luyện mô hình"
   ]
  },
  {
   "cell_type": "code",
   "execution_count": 31,
   "metadata": {},
   "outputs": [
    {
     "name": "stdout",
     "output_type": "stream",
     "text": [
      "Epoch 1/15\n",
      "\u001b[1m52/52\u001b[0m \u001b[32m━━━━━━━━━━━━━━━━━━━━\u001b[0m\u001b[37m\u001b[0m \u001b[1m26s\u001b[0m 335ms/step - loss: 0.3952 - val_loss: 0.0423\n",
      "Epoch 2/15\n",
      "\u001b[1m52/52\u001b[0m \u001b[32m━━━━━━━━━━━━━━━━━━━━\u001b[0m\u001b[37m\u001b[0m \u001b[1m17s\u001b[0m 329ms/step - loss: 0.0554 - val_loss: 0.0396\n",
      "Epoch 3/15\n",
      "\u001b[1m52/52\u001b[0m \u001b[32m━━━━━━━━━━━━━━━━━━━━\u001b[0m\u001b[37m\u001b[0m \u001b[1m18s\u001b[0m 343ms/step - loss: 0.0508 - val_loss: 0.0361\n",
      "Epoch 4/15\n",
      "\u001b[1m52/52\u001b[0m \u001b[32m━━━━━━━━━━━━━━━━━━━━\u001b[0m\u001b[37m\u001b[0m \u001b[1m20s\u001b[0m 391ms/step - loss: 0.0438 - val_loss: 0.0310\n",
      "Epoch 5/15\n",
      "\u001b[1m52/52\u001b[0m \u001b[32m━━━━━━━━━━━━━━━━━━━━\u001b[0m\u001b[37m\u001b[0m \u001b[1m19s\u001b[0m 358ms/step - loss: 0.0332 - val_loss: 0.0255\n",
      "Epoch 6/15\n",
      "\u001b[1m52/52\u001b[0m \u001b[32m━━━━━━━━━━━━━━━━━━━━\u001b[0m\u001b[37m\u001b[0m \u001b[1m19s\u001b[0m 366ms/step - loss: 0.0234 - val_loss: 0.0259\n",
      "Epoch 7/15\n",
      "\u001b[1m52/52\u001b[0m \u001b[32m━━━━━━━━━━━━━━━━━━━━\u001b[0m\u001b[37m\u001b[0m \u001b[1m18s\u001b[0m 353ms/step - loss: 0.0179 - val_loss: 0.0249\n",
      "Epoch 8/15\n",
      "\u001b[1m52/52\u001b[0m \u001b[32m━━━━━━━━━━━━━━━━━━━━\u001b[0m\u001b[37m\u001b[0m \u001b[1m26s\u001b[0m 498ms/step - loss: 0.0151 - val_loss: 0.0249\n",
      "Epoch 9/15\n",
      "\u001b[1m52/52\u001b[0m \u001b[32m━━━━━━━━━━━━━━━━━━━━\u001b[0m\u001b[37m\u001b[0m \u001b[1m30s\u001b[0m 568ms/step - loss: 0.0140 - val_loss: 0.0280\n",
      "Epoch 10/15\n",
      "\u001b[1m52/52\u001b[0m \u001b[32m━━━━━━━━━━━━━━━━━━━━\u001b[0m\u001b[37m\u001b[0m \u001b[1m31s\u001b[0m 595ms/step - loss: 0.0121 - val_loss: 0.0276\n",
      "Epoch 11/15\n",
      "\u001b[1m52/52\u001b[0m \u001b[32m━━━━━━━━━━━━━━━━━━━━\u001b[0m\u001b[37m\u001b[0m \u001b[1m31s\u001b[0m 598ms/step - loss: 0.0088 - val_loss: 0.0272\n",
      "Epoch 12/15\n",
      "\u001b[1m52/52\u001b[0m \u001b[32m━━━━━━━━━━━━━━━━━━━━\u001b[0m\u001b[37m\u001b[0m \u001b[1m31s\u001b[0m 590ms/step - loss: 0.0065 - val_loss: 0.0315\n",
      "Epoch 13/15\n",
      "\u001b[1m52/52\u001b[0m \u001b[32m━━━━━━━━━━━━━━━━━━━━\u001b[0m\u001b[37m\u001b[0m \u001b[1m30s\u001b[0m 576ms/step - loss: 0.0047 - val_loss: 0.0300\n",
      "Epoch 14/15\n",
      "\u001b[1m52/52\u001b[0m \u001b[32m━━━━━━━━━━━━━━━━━━━━\u001b[0m\u001b[37m\u001b[0m \u001b[1m30s\u001b[0m 571ms/step - loss: 0.0038 - val_loss: 0.0312\n",
      "Epoch 15/15\n",
      "\u001b[1m52/52\u001b[0m \u001b[32m━━━━━━━━━━━━━━━━━━━━\u001b[0m\u001b[37m\u001b[0m \u001b[1m31s\u001b[0m 594ms/step - loss: 0.0031 - val_loss: 0.0329\n"
     ]
    }
   ],
   "source": [
    "history = model.fit(train_dataset,\n",
    "                    validation_data=val_dataset,\n",
    "                    epochs=15)"
   ]
  },
  {
   "cell_type": "markdown",
   "metadata": {},
   "source": [
    "### Dự đoán và đánh giá mô hình"
   ]
  },
  {
   "cell_type": "markdown",
   "metadata": {},
   "source": [
    "##### Viết hàm để dự đoán về lấy nhãn mặc định cho 1 mẫu"
   ]
  },
  {
   "cell_type": "code",
   "execution_count": 32,
   "metadata": {},
   "outputs": [],
   "source": [
    "data_test = data_ner.iloc[int(len*0.8):]\n",
    "def make_prediction(model, i, id2tag):\n",
    "    \n",
    "    len_orginal_sententce = np.array(data_test['Word'].iloc[i].split()).shape[0]\n",
    "    \n",
    "    prediction = model.predict(X_test[i].reshape((1, 150)))\n",
    "    prediction = np.argmax(prediction[0], axis=1)\n",
    "    \n",
    "    prediction = list(prediction)[ : len_orginal_sententce] \n",
    "    \n",
    "    pred_tag_list = []\n",
    "    for tag_id in prediction:\n",
    "        pred_tag_list.append(id2tag[tag_id])\n",
    "    \n",
    "    return pred_tag_list"
   ]
  },
  {
   "cell_type": "markdown",
   "metadata": {},
   "source": [
    "### Dự đoán cho 1 mẫu bất kỳ"
   ]
  },
  {
   "cell_type": "code",
   "execution_count": 33,
   "metadata": {},
   "outputs": [
    {
     "name": "stdout",
     "output_type": "stream",
     "text": [
      "\u001b[1m1/1\u001b[0m \u001b[32m━━━━━━━━━━━━━━━━━━━━\u001b[0m\u001b[37m\u001b[0m \u001b[1m2s\u001b[0m 2s/step\n"
     ]
    }
   ],
   "source": [
    "pred_tag_list = make_prediction(model=model,\n",
    "                                i = 4,\n",
    "                                id2tag=id2tags)"
   ]
  },
  {
   "cell_type": "markdown",
   "metadata": {},
   "source": [
    "##### Nhãn dự đoán"
   ]
  },
  {
   "cell_type": "code",
   "execution_count": 34,
   "metadata": {},
   "outputs": [
    {
     "data": {
      "text/plain": [
       "array(['O', 'O', 'O', 'O', 'O', 'O', 'O', 'B-LOC', 'I-LOC', 'O', 'O', 'O',\n",
       "       'B-LOC', 'O', 'O', 'O', 'O', 'O', 'O', 'O', 'O', 'O', 'O', 'O',\n",
       "       'O', 'O'], dtype='<U5')"
      ]
     },
     "execution_count": 34,
     "metadata": {},
     "output_type": "execute_result"
    }
   ],
   "source": [
    "np.array(pred_tag_list)"
   ]
  },
  {
   "cell_type": "markdown",
   "metadata": {},
   "source": [
    "##### Nhãn thực tế"
   ]
  },
  {
   "cell_type": "code",
   "execution_count": 35,
   "metadata": {},
   "outputs": [
    {
     "data": {
      "text/plain": [
       "array(['O', 'O', 'O', 'O', 'O', 'O', 'O', 'B-LOC', 'I-LOC', 'O', 'O', 'O',\n",
       "       'B-LOC', 'O', 'O', 'O', 'O', 'O', 'O', 'O', 'O', 'O', 'O', 'O',\n",
       "       'O', 'O'], dtype='<U5')"
      ]
     },
     "execution_count": 35,
     "metadata": {},
     "output_type": "execute_result"
    }
   ],
   "source": [
    "np.array(data_test['NER'].iloc[4])"
   ]
  },
  {
   "cell_type": "markdown",
   "metadata": {},
   "source": [
    "### Lấy ra tập dự đoán"
   ]
  },
  {
   "cell_type": "code",
   "execution_count": 36,
   "metadata": {},
   "outputs": [
    {
     "name": "stdout",
     "output_type": "stream",
     "text": [
      "\u001b[1m1/1\u001b[0m \u001b[32m━━━━━━━━━━━━━━━━━━━━\u001b[0m\u001b[37m\u001b[0m \u001b[1m0s\u001b[0m 158ms/step\n",
      "\u001b[1m1/1\u001b[0m \u001b[32m━━━━━━━━━━━━━━━━━━━━\u001b[0m\u001b[37m\u001b[0m \u001b[1m0s\u001b[0m 96ms/step\n",
      "\u001b[1m1/1\u001b[0m \u001b[32m━━━━━━━━━━━━━━━━━━━━\u001b[0m\u001b[37m\u001b[0m \u001b[1m0s\u001b[0m 97ms/step\n",
      "\u001b[1m1/1\u001b[0m \u001b[32m━━━━━━━━━━━━━━━━━━━━\u001b[0m\u001b[37m\u001b[0m \u001b[1m0s\u001b[0m 79ms/step\n",
      "\u001b[1m1/1\u001b[0m \u001b[32m━━━━━━━━━━━━━━━━━━━━\u001b[0m\u001b[37m\u001b[0m \u001b[1m0s\u001b[0m 83ms/step\n",
      "\u001b[1m1/1\u001b[0m \u001b[32m━━━━━━━━━━━━━━━━━━━━\u001b[0m\u001b[37m\u001b[0m \u001b[1m0s\u001b[0m 88ms/step\n",
      "\u001b[1m1/1\u001b[0m \u001b[32m━━━━━━━━━━━━━━━━━━━━\u001b[0m\u001b[37m\u001b[0m \u001b[1m0s\u001b[0m 79ms/step\n",
      "\u001b[1m1/1\u001b[0m \u001b[32m━━━━━━━━━━━━━━━━━━━━\u001b[0m\u001b[37m\u001b[0m \u001b[1m0s\u001b[0m 92ms/step\n",
      "\u001b[1m1/1\u001b[0m \u001b[32m━━━━━━━━━━━━━━━━━━━━\u001b[0m\u001b[37m\u001b[0m \u001b[1m0s\u001b[0m 70ms/step\n",
      "\u001b[1m1/1\u001b[0m \u001b[32m━━━━━━━━━━━━━━━━━━━━\u001b[0m\u001b[37m\u001b[0m \u001b[1m0s\u001b[0m 79ms/step\n",
      "\u001b[1m1/1\u001b[0m \u001b[32m━━━━━━━━━━━━━━━━━━━━\u001b[0m\u001b[37m\u001b[0m \u001b[1m0s\u001b[0m 78ms/step\n",
      "\u001b[1m1/1\u001b[0m \u001b[32m━━━━━━━━━━━━━━━━━━━━\u001b[0m\u001b[37m\u001b[0m \u001b[1m0s\u001b[0m 96ms/step\n",
      "\u001b[1m1/1\u001b[0m \u001b[32m━━━━━━━━━━━━━━━━━━━━\u001b[0m\u001b[37m\u001b[0m \u001b[1m0s\u001b[0m 87ms/step\n",
      "\u001b[1m1/1\u001b[0m \u001b[32m━━━━━━━━━━━━━━━━━━━━\u001b[0m\u001b[37m\u001b[0m \u001b[1m0s\u001b[0m 83ms/step\n",
      "\u001b[1m1/1\u001b[0m \u001b[32m━━━━━━━━━━━━━━━━━━━━\u001b[0m\u001b[37m\u001b[0m \u001b[1m0s\u001b[0m 80ms/step\n",
      "\u001b[1m1/1\u001b[0m \u001b[32m━━━━━━━━━━━━━━━━━━━━\u001b[0m\u001b[37m\u001b[0m \u001b[1m0s\u001b[0m 95ms/step\n",
      "\u001b[1m1/1\u001b[0m \u001b[32m━━━━━━━━━━━━━━━━━━━━\u001b[0m\u001b[37m\u001b[0m \u001b[1m0s\u001b[0m 95ms/step\n",
      "\u001b[1m1/1\u001b[0m \u001b[32m━━━━━━━━━━━━━━━━━━━━\u001b[0m\u001b[37m\u001b[0m \u001b[1m0s\u001b[0m 71ms/step\n",
      "\u001b[1m1/1\u001b[0m \u001b[32m━━━━━━━━━━━━━━━━━━━━\u001b[0m\u001b[37m\u001b[0m \u001b[1m0s\u001b[0m 100ms/step\n",
      "\u001b[1m1/1\u001b[0m \u001b[32m━━━━━━━━━━━━━━━━━━━━\u001b[0m\u001b[37m\u001b[0m \u001b[1m0s\u001b[0m 118ms/step\n",
      "\u001b[1m1/1\u001b[0m \u001b[32m━━━━━━━━━━━━━━━━━━━━\u001b[0m\u001b[37m\u001b[0m \u001b[1m0s\u001b[0m 91ms/step\n",
      "\u001b[1m1/1\u001b[0m \u001b[32m━━━━━━━━━━━━━━━━━━━━\u001b[0m\u001b[37m\u001b[0m \u001b[1m0s\u001b[0m 81ms/step\n",
      "\u001b[1m1/1\u001b[0m \u001b[32m━━━━━━━━━━━━━━━━━━━━\u001b[0m\u001b[37m\u001b[0m \u001b[1m0s\u001b[0m 78ms/step\n",
      "\u001b[1m1/1\u001b[0m \u001b[32m━━━━━━━━━━━━━━━━━━━━\u001b[0m\u001b[37m\u001b[0m \u001b[1m0s\u001b[0m 79ms/step\n",
      "\u001b[1m1/1\u001b[0m \u001b[32m━━━━━━━━━━━━━━━━━━━━\u001b[0m\u001b[37m\u001b[0m \u001b[1m0s\u001b[0m 96ms/step\n",
      "\u001b[1m1/1\u001b[0m \u001b[32m━━━━━━━━━━━━━━━━━━━━\u001b[0m\u001b[37m\u001b[0m \u001b[1m0s\u001b[0m 80ms/step\n",
      "\u001b[1m1/1\u001b[0m \u001b[32m━━━━━━━━━━━━━━━━━━━━\u001b[0m\u001b[37m\u001b[0m \u001b[1m0s\u001b[0m 83ms/step\n",
      "\u001b[1m1/1\u001b[0m \u001b[32m━━━━━━━━━━━━━━━━━━━━\u001b[0m\u001b[37m\u001b[0m \u001b[1m0s\u001b[0m 89ms/step\n",
      "\u001b[1m1/1\u001b[0m \u001b[32m━━━━━━━━━━━━━━━━━━━━\u001b[0m\u001b[37m\u001b[0m \u001b[1m0s\u001b[0m 84ms/step\n",
      "\u001b[1m1/1\u001b[0m \u001b[32m━━━━━━━━━━━━━━━━━━━━\u001b[0m\u001b[37m\u001b[0m \u001b[1m0s\u001b[0m 91ms/step\n",
      "\u001b[1m1/1\u001b[0m \u001b[32m━━━━━━━━━━━━━━━━━━━━\u001b[0m\u001b[37m\u001b[0m \u001b[1m0s\u001b[0m 95ms/step\n",
      "\u001b[1m1/1\u001b[0m \u001b[32m━━━━━━━━━━━━━━━━━━━━\u001b[0m\u001b[37m\u001b[0m \u001b[1m0s\u001b[0m 96ms/step\n",
      "\u001b[1m1/1\u001b[0m \u001b[32m━━━━━━━━━━━━━━━━━━━━\u001b[0m\u001b[37m\u001b[0m \u001b[1m0s\u001b[0m 87ms/step\n",
      "\u001b[1m1/1\u001b[0m \u001b[32m━━━━━━━━━━━━━━━━━━━━\u001b[0m\u001b[37m\u001b[0m \u001b[1m0s\u001b[0m 81ms/step\n",
      "\u001b[1m1/1\u001b[0m \u001b[32m━━━━━━━━━━━━━━━━━━━━\u001b[0m\u001b[37m\u001b[0m \u001b[1m0s\u001b[0m 111ms/step\n",
      "\u001b[1m1/1\u001b[0m \u001b[32m━━━━━━━━━━━━━━━━━━━━\u001b[0m\u001b[37m\u001b[0m \u001b[1m0s\u001b[0m 84ms/step\n",
      "\u001b[1m1/1\u001b[0m \u001b[32m━━━━━━━━━━━━━━━━━━━━\u001b[0m\u001b[37m\u001b[0m \u001b[1m0s\u001b[0m 87ms/step\n",
      "\u001b[1m1/1\u001b[0m \u001b[32m━━━━━━━━━━━━━━━━━━━━\u001b[0m\u001b[37m\u001b[0m \u001b[1m0s\u001b[0m 72ms/step\n",
      "\u001b[1m1/1\u001b[0m \u001b[32m━━━━━━━━━━━━━━━━━━━━\u001b[0m\u001b[37m\u001b[0m \u001b[1m0s\u001b[0m 95ms/step\n",
      "\u001b[1m1/1\u001b[0m \u001b[32m━━━━━━━━━━━━━━━━━━━━\u001b[0m\u001b[37m\u001b[0m \u001b[1m0s\u001b[0m 95ms/step\n",
      "\u001b[1m1/1\u001b[0m \u001b[32m━━━━━━━━━━━━━━━━━━━━\u001b[0m\u001b[37m\u001b[0m \u001b[1m0s\u001b[0m 77ms/step\n",
      "\u001b[1m1/1\u001b[0m \u001b[32m━━━━━━━━━━━━━━━━━━━━\u001b[0m\u001b[37m\u001b[0m \u001b[1m0s\u001b[0m 95ms/step\n",
      "\u001b[1m1/1\u001b[0m \u001b[32m━━━━━━━━━━━━━━━━━━━━\u001b[0m\u001b[37m\u001b[0m \u001b[1m0s\u001b[0m 85ms/step\n",
      "\u001b[1m1/1\u001b[0m \u001b[32m━━━━━━━━━━━━━━━━━━━━\u001b[0m\u001b[37m\u001b[0m \u001b[1m0s\u001b[0m 79ms/step\n",
      "\u001b[1m1/1\u001b[0m \u001b[32m━━━━━━━━━━━━━━━━━━━━\u001b[0m\u001b[37m\u001b[0m \u001b[1m0s\u001b[0m 79ms/step\n",
      "\u001b[1m1/1\u001b[0m \u001b[32m━━━━━━━━━━━━━━━━━━━━\u001b[0m\u001b[37m\u001b[0m \u001b[1m0s\u001b[0m 80ms/step\n",
      "\u001b[1m1/1\u001b[0m \u001b[32m━━━━━━━━━━━━━━━━━━━━\u001b[0m\u001b[37m\u001b[0m \u001b[1m0s\u001b[0m 72ms/step\n",
      "\u001b[1m1/1\u001b[0m \u001b[32m━━━━━━━━━━━━━━━━━━━━\u001b[0m\u001b[37m\u001b[0m \u001b[1m0s\u001b[0m 78ms/step\n",
      "\u001b[1m1/1\u001b[0m \u001b[32m━━━━━━━━━━━━━━━━━━━━\u001b[0m\u001b[37m\u001b[0m \u001b[1m0s\u001b[0m 65ms/step\n",
      "\u001b[1m1/1\u001b[0m \u001b[32m━━━━━━━━━━━━━━━━━━━━\u001b[0m\u001b[37m\u001b[0m \u001b[1m0s\u001b[0m 80ms/step\n",
      "\u001b[1m1/1\u001b[0m \u001b[32m━━━━━━━━━━━━━━━━━━━━\u001b[0m\u001b[37m\u001b[0m \u001b[1m0s\u001b[0m 82ms/step\n",
      "\u001b[1m1/1\u001b[0m \u001b[32m━━━━━━━━━━━━━━━━━━━━\u001b[0m\u001b[37m\u001b[0m \u001b[1m0s\u001b[0m 73ms/step\n",
      "\u001b[1m1/1\u001b[0m \u001b[32m━━━━━━━━━━━━━━━━━━━━\u001b[0m\u001b[37m\u001b[0m \u001b[1m0s\u001b[0m 98ms/step\n",
      "\u001b[1m1/1\u001b[0m \u001b[32m━━━━━━━━━━━━━━━━━━━━\u001b[0m\u001b[37m\u001b[0m \u001b[1m0s\u001b[0m 79ms/step\n",
      "\u001b[1m1/1\u001b[0m \u001b[32m━━━━━━━━━━━━━━━━━━━━\u001b[0m\u001b[37m\u001b[0m \u001b[1m0s\u001b[0m 91ms/step\n",
      "\u001b[1m1/1\u001b[0m \u001b[32m━━━━━━━━━━━━━━━━━━━━\u001b[0m\u001b[37m\u001b[0m \u001b[1m0s\u001b[0m 95ms/step\n",
      "\u001b[1m1/1\u001b[0m \u001b[32m━━━━━━━━━━━━━━━━━━━━\u001b[0m\u001b[37m\u001b[0m \u001b[1m0s\u001b[0m 90ms/step\n",
      "\u001b[1m1/1\u001b[0m \u001b[32m━━━━━━━━━━━━━━━━━━━━\u001b[0m\u001b[37m\u001b[0m \u001b[1m0s\u001b[0m 82ms/step\n",
      "\u001b[1m1/1\u001b[0m \u001b[32m━━━━━━━━━━━━━━━━━━━━\u001b[0m\u001b[37m\u001b[0m \u001b[1m0s\u001b[0m 79ms/step\n",
      "\u001b[1m1/1\u001b[0m \u001b[32m━━━━━━━━━━━━━━━━━━━━\u001b[0m\u001b[37m\u001b[0m \u001b[1m0s\u001b[0m 83ms/step\n",
      "\u001b[1m1/1\u001b[0m \u001b[32m━━━━━━━━━━━━━━━━━━━━\u001b[0m\u001b[37m\u001b[0m \u001b[1m0s\u001b[0m 79ms/step\n",
      "\u001b[1m1/1\u001b[0m \u001b[32m━━━━━━━━━━━━━━━━━━━━\u001b[0m\u001b[37m\u001b[0m \u001b[1m0s\u001b[0m 79ms/step\n",
      "\u001b[1m1/1\u001b[0m \u001b[32m━━━━━━━━━━━━━━━━━━━━\u001b[0m\u001b[37m\u001b[0m \u001b[1m0s\u001b[0m 96ms/step\n",
      "\u001b[1m1/1\u001b[0m \u001b[32m━━━━━━━━━━━━━━━━━━━━\u001b[0m\u001b[37m\u001b[0m \u001b[1m0s\u001b[0m 76ms/step\n",
      "\u001b[1m1/1\u001b[0m \u001b[32m━━━━━━━━━━━━━━━━━━━━\u001b[0m\u001b[37m\u001b[0m \u001b[1m0s\u001b[0m 80ms/step\n",
      "\u001b[1m1/1\u001b[0m \u001b[32m━━━━━━━━━━━━━━━━━━━━\u001b[0m\u001b[37m\u001b[0m \u001b[1m0s\u001b[0m 83ms/step\n",
      "\u001b[1m1/1\u001b[0m \u001b[32m━━━━━━━━━━━━━━━━━━━━\u001b[0m\u001b[37m\u001b[0m \u001b[1m0s\u001b[0m 95ms/step\n",
      "\u001b[1m1/1\u001b[0m \u001b[32m━━━━━━━━━━━━━━━━━━━━\u001b[0m\u001b[37m\u001b[0m \u001b[1m0s\u001b[0m 86ms/step\n",
      "\u001b[1m1/1\u001b[0m \u001b[32m━━━━━━━━━━━━━━━━━━━━\u001b[0m\u001b[37m\u001b[0m \u001b[1m0s\u001b[0m 76ms/step\n",
      "\u001b[1m1/1\u001b[0m \u001b[32m━━━━━━━━━━━━━━━━━━━━\u001b[0m\u001b[37m\u001b[0m \u001b[1m0s\u001b[0m 76ms/step\n",
      "\u001b[1m1/1\u001b[0m \u001b[32m━━━━━━━━━━━━━━━━━━━━\u001b[0m\u001b[37m\u001b[0m \u001b[1m0s\u001b[0m 92ms/step\n",
      "\u001b[1m1/1\u001b[0m \u001b[32m━━━━━━━━━━━━━━━━━━━━\u001b[0m\u001b[37m\u001b[0m \u001b[1m0s\u001b[0m 87ms/step\n",
      "\u001b[1m1/1\u001b[0m \u001b[32m━━━━━━━━━━━━━━━━━━━━\u001b[0m\u001b[37m\u001b[0m \u001b[1m0s\u001b[0m 79ms/step\n",
      "\u001b[1m1/1\u001b[0m \u001b[32m━━━━━━━━━━━━━━━━━━━━\u001b[0m\u001b[37m\u001b[0m \u001b[1m0s\u001b[0m 80ms/step\n",
      "\u001b[1m1/1\u001b[0m \u001b[32m━━━━━━━━━━━━━━━━━━━━\u001b[0m\u001b[37m\u001b[0m \u001b[1m0s\u001b[0m 89ms/step\n",
      "\u001b[1m1/1\u001b[0m \u001b[32m━━━━━━━━━━━━━━━━━━━━\u001b[0m\u001b[37m\u001b[0m \u001b[1m0s\u001b[0m 86ms/step\n",
      "\u001b[1m1/1\u001b[0m \u001b[32m━━━━━━━━━━━━━━━━━━━━\u001b[0m\u001b[37m\u001b[0m \u001b[1m0s\u001b[0m 86ms/step\n",
      "\u001b[1m1/1\u001b[0m \u001b[32m━━━━━━━━━━━━━━━━━━━━\u001b[0m\u001b[37m\u001b[0m \u001b[1m0s\u001b[0m 80ms/step\n",
      "\u001b[1m1/1\u001b[0m \u001b[32m━━━━━━━━━━━━━━━━━━━━\u001b[0m\u001b[37m\u001b[0m \u001b[1m0s\u001b[0m 82ms/step\n",
      "\u001b[1m1/1\u001b[0m \u001b[32m━━━━━━━━━━━━━━━━━━━━\u001b[0m\u001b[37m\u001b[0m \u001b[1m0s\u001b[0m 95ms/step\n",
      "\u001b[1m1/1\u001b[0m \u001b[32m━━━━━━━━━━━━━━━━━━━━\u001b[0m\u001b[37m\u001b[0m \u001b[1m0s\u001b[0m 77ms/step\n",
      "\u001b[1m1/1\u001b[0m \u001b[32m━━━━━━━━━━━━━━━━━━━━\u001b[0m\u001b[37m\u001b[0m \u001b[1m0s\u001b[0m 80ms/step\n",
      "\u001b[1m1/1\u001b[0m \u001b[32m━━━━━━━━━━━━━━━━━━━━\u001b[0m\u001b[37m\u001b[0m \u001b[1m0s\u001b[0m 79ms/step\n",
      "\u001b[1m1/1\u001b[0m \u001b[32m━━━━━━━━━━━━━━━━━━━━\u001b[0m\u001b[37m\u001b[0m \u001b[1m0s\u001b[0m 76ms/step\n",
      "\u001b[1m1/1\u001b[0m \u001b[32m━━━━━━━━━━━━━━━━━━━━\u001b[0m\u001b[37m\u001b[0m \u001b[1m0s\u001b[0m 76ms/step\n",
      "\u001b[1m1/1\u001b[0m \u001b[32m━━━━━━━━━━━━━━━━━━━━\u001b[0m\u001b[37m\u001b[0m \u001b[1m0s\u001b[0m 79ms/step\n",
      "\u001b[1m1/1\u001b[0m \u001b[32m━━━━━━━━━━━━━━━━━━━━\u001b[0m\u001b[37m\u001b[0m \u001b[1m0s\u001b[0m 86ms/step\n",
      "\u001b[1m1/1\u001b[0m \u001b[32m━━━━━━━━━━━━━━━━━━━━\u001b[0m\u001b[37m\u001b[0m \u001b[1m0s\u001b[0m 85ms/step\n",
      "\u001b[1m1/1\u001b[0m \u001b[32m━━━━━━━━━━━━━━━━━━━━\u001b[0m\u001b[37m\u001b[0m \u001b[1m0s\u001b[0m 93ms/step\n",
      "\u001b[1m1/1\u001b[0m \u001b[32m━━━━━━━━━━━━━━━━━━━━\u001b[0m\u001b[37m\u001b[0m \u001b[1m0s\u001b[0m 100ms/step\n",
      "\u001b[1m1/1\u001b[0m \u001b[32m━━━━━━━━━━━━━━━━━━━━\u001b[0m\u001b[37m\u001b[0m \u001b[1m0s\u001b[0m 84ms/step\n",
      "\u001b[1m1/1\u001b[0m \u001b[32m━━━━━━━━━━━━━━━━━━━━\u001b[0m\u001b[37m\u001b[0m \u001b[1m0s\u001b[0m 86ms/step\n",
      "\u001b[1m1/1\u001b[0m \u001b[32m━━━━━━━━━━━━━━━━━━━━\u001b[0m\u001b[37m\u001b[0m \u001b[1m0s\u001b[0m 120ms/step\n",
      "\u001b[1m1/1\u001b[0m \u001b[32m━━━━━━━━━━━━━━━━━━━━\u001b[0m\u001b[37m\u001b[0m \u001b[1m0s\u001b[0m 79ms/step\n",
      "\u001b[1m1/1\u001b[0m \u001b[32m━━━━━━━━━━━━━━━━━━━━\u001b[0m\u001b[37m\u001b[0m \u001b[1m0s\u001b[0m 80ms/step\n",
      "\u001b[1m1/1\u001b[0m \u001b[32m━━━━━━━━━━━━━━━━━━━━\u001b[0m\u001b[37m\u001b[0m \u001b[1m0s\u001b[0m 80ms/step\n",
      "\u001b[1m1/1\u001b[0m \u001b[32m━━━━━━━━━━━━━━━━━━━━\u001b[0m\u001b[37m\u001b[0m \u001b[1m0s\u001b[0m 79ms/step\n",
      "\u001b[1m1/1\u001b[0m \u001b[32m━━━━━━━━━━━━━━━━━━━━\u001b[0m\u001b[37m\u001b[0m \u001b[1m0s\u001b[0m 76ms/step\n",
      "\u001b[1m1/1\u001b[0m \u001b[32m━━━━━━━━━━━━━━━━━━━━\u001b[0m\u001b[37m\u001b[0m \u001b[1m0s\u001b[0m 88ms/step\n",
      "\u001b[1m1/1\u001b[0m \u001b[32m━━━━━━━━━━━━━━━━━━━━\u001b[0m\u001b[37m\u001b[0m \u001b[1m0s\u001b[0m 80ms/step\n",
      "\u001b[1m1/1\u001b[0m \u001b[32m━━━━━━━━━━━━━━━━━━━━\u001b[0m\u001b[37m\u001b[0m \u001b[1m0s\u001b[0m 65ms/step\n",
      "\u001b[1m1/1\u001b[0m \u001b[32m━━━━━━━━━━━━━━━━━━━━\u001b[0m\u001b[37m\u001b[0m \u001b[1m0s\u001b[0m 84ms/step\n",
      "\u001b[1m1/1\u001b[0m \u001b[32m━━━━━━━━━━━━━━━━━━━━\u001b[0m\u001b[37m\u001b[0m \u001b[1m0s\u001b[0m 73ms/step\n",
      "\u001b[1m1/1\u001b[0m \u001b[32m━━━━━━━━━━━━━━━━━━━━\u001b[0m\u001b[37m\u001b[0m \u001b[1m0s\u001b[0m 80ms/step\n",
      "\u001b[1m1/1\u001b[0m \u001b[32m━━━━━━━━━━━━━━━━━━━━\u001b[0m\u001b[37m\u001b[0m \u001b[1m0s\u001b[0m 79ms/step\n",
      "\u001b[1m1/1\u001b[0m \u001b[32m━━━━━━━━━━━━━━━━━━━━\u001b[0m\u001b[37m\u001b[0m \u001b[1m0s\u001b[0m 82ms/step\n",
      "\u001b[1m1/1\u001b[0m \u001b[32m━━━━━━━━━━━━━━━━━━━━\u001b[0m\u001b[37m\u001b[0m \u001b[1m0s\u001b[0m 82ms/step\n",
      "\u001b[1m1/1\u001b[0m \u001b[32m━━━━━━━━━━━━━━━━━━━━\u001b[0m\u001b[37m\u001b[0m \u001b[1m0s\u001b[0m 80ms/step\n",
      "\u001b[1m1/1\u001b[0m \u001b[32m━━━━━━━━━━━━━━━━━━━━\u001b[0m\u001b[37m\u001b[0m \u001b[1m0s\u001b[0m 89ms/step\n",
      "\u001b[1m1/1\u001b[0m \u001b[32m━━━━━━━━━━━━━━━━━━━━\u001b[0m\u001b[37m\u001b[0m \u001b[1m0s\u001b[0m 74ms/step\n",
      "\u001b[1m1/1\u001b[0m \u001b[32m━━━━━━━━━━━━━━━━━━━━\u001b[0m\u001b[37m\u001b[0m \u001b[1m0s\u001b[0m 84ms/step\n",
      "\u001b[1m1/1\u001b[0m \u001b[32m━━━━━━━━━━━━━━━━━━━━\u001b[0m\u001b[37m\u001b[0m \u001b[1m0s\u001b[0m 80ms/step\n",
      "\u001b[1m1/1\u001b[0m \u001b[32m━━━━━━━━━━━━━━━━━━━━\u001b[0m\u001b[37m\u001b[0m \u001b[1m0s\u001b[0m 85ms/step\n",
      "\u001b[1m1/1\u001b[0m \u001b[32m━━━━━━━━━━━━━━━━━━━━\u001b[0m\u001b[37m\u001b[0m \u001b[1m0s\u001b[0m 96ms/step\n",
      "\u001b[1m1/1\u001b[0m \u001b[32m━━━━━━━━━━━━━━━━━━━━\u001b[0m\u001b[37m\u001b[0m \u001b[1m0s\u001b[0m 80ms/step\n",
      "\u001b[1m1/1\u001b[0m \u001b[32m━━━━━━━━━━━━━━━━━━━━\u001b[0m\u001b[37m\u001b[0m \u001b[1m0s\u001b[0m 80ms/step\n",
      "\u001b[1m1/1\u001b[0m \u001b[32m━━━━━━━━━━━━━━━━━━━━\u001b[0m\u001b[37m\u001b[0m \u001b[1m0s\u001b[0m 86ms/step\n",
      "\u001b[1m1/1\u001b[0m \u001b[32m━━━━━━━━━━━━━━━━━━━━\u001b[0m\u001b[37m\u001b[0m \u001b[1m0s\u001b[0m 86ms/step\n",
      "\u001b[1m1/1\u001b[0m \u001b[32m━━━━━━━━━━━━━━━━━━━━\u001b[0m\u001b[37m\u001b[0m \u001b[1m0s\u001b[0m 77ms/step\n",
      "\u001b[1m1/1\u001b[0m \u001b[32m━━━━━━━━━━━━━━━━━━━━\u001b[0m\u001b[37m\u001b[0m \u001b[1m0s\u001b[0m 80ms/step\n",
      "\u001b[1m1/1\u001b[0m \u001b[32m━━━━━━━━━━━━━━━━━━━━\u001b[0m\u001b[37m\u001b[0m \u001b[1m0s\u001b[0m 89ms/step\n",
      "\u001b[1m1/1\u001b[0m \u001b[32m━━━━━━━━━━━━━━━━━━━━\u001b[0m\u001b[37m\u001b[0m \u001b[1m0s\u001b[0m 79ms/step\n",
      "\u001b[1m1/1\u001b[0m \u001b[32m━━━━━━━━━━━━━━━━━━━━\u001b[0m\u001b[37m\u001b[0m \u001b[1m0s\u001b[0m 82ms/step\n",
      "\u001b[1m1/1\u001b[0m \u001b[32m━━━━━━━━━━━━━━━━━━━━\u001b[0m\u001b[37m\u001b[0m \u001b[1m0s\u001b[0m 79ms/step\n",
      "\u001b[1m1/1\u001b[0m \u001b[32m━━━━━━━━━━━━━━━━━━━━\u001b[0m\u001b[37m\u001b[0m \u001b[1m0s\u001b[0m 96ms/step\n",
      "\u001b[1m1/1\u001b[0m \u001b[32m━━━━━━━━━━━━━━━━━━━━\u001b[0m\u001b[37m\u001b[0m \u001b[1m0s\u001b[0m 74ms/step\n",
      "\u001b[1m1/1\u001b[0m \u001b[32m━━━━━━━━━━━━━━━━━━━━\u001b[0m\u001b[37m\u001b[0m \u001b[1m0s\u001b[0m 114ms/step\n",
      "\u001b[1m1/1\u001b[0m \u001b[32m━━━━━━━━━━━━━━━━━━━━\u001b[0m\u001b[37m\u001b[0m \u001b[1m0s\u001b[0m 85ms/step\n",
      "\u001b[1m1/1\u001b[0m \u001b[32m━━━━━━━━━━━━━━━━━━━━\u001b[0m\u001b[37m\u001b[0m \u001b[1m0s\u001b[0m 80ms/step\n",
      "\u001b[1m1/1\u001b[0m \u001b[32m━━━━━━━━━━━━━━━━━━━━\u001b[0m\u001b[37m\u001b[0m \u001b[1m0s\u001b[0m 107ms/step\n",
      "\u001b[1m1/1\u001b[0m \u001b[32m━━━━━━━━━━━━━━━━━━━━\u001b[0m\u001b[37m\u001b[0m \u001b[1m0s\u001b[0m 103ms/step\n",
      "\u001b[1m1/1\u001b[0m \u001b[32m━━━━━━━━━━━━━━━━━━━━\u001b[0m\u001b[37m\u001b[0m \u001b[1m0s\u001b[0m 93ms/step\n",
      "\u001b[1m1/1\u001b[0m \u001b[32m━━━━━━━━━━━━━━━━━━━━\u001b[0m\u001b[37m\u001b[0m \u001b[1m0s\u001b[0m 197ms/step\n",
      "\u001b[1m1/1\u001b[0m \u001b[32m━━━━━━━━━━━━━━━━━━━━\u001b[0m\u001b[37m\u001b[0m \u001b[1m0s\u001b[0m 76ms/step\n",
      "\u001b[1m1/1\u001b[0m \u001b[32m━━━━━━━━━━━━━━━━━━━━\u001b[0m\u001b[37m\u001b[0m \u001b[1m0s\u001b[0m 80ms/step\n",
      "\u001b[1m1/1\u001b[0m \u001b[32m━━━━━━━━━━━━━━━━━━━━\u001b[0m\u001b[37m\u001b[0m \u001b[1m0s\u001b[0m 72ms/step\n",
      "\u001b[1m1/1\u001b[0m \u001b[32m━━━━━━━━━━━━━━━━━━━━\u001b[0m\u001b[37m\u001b[0m \u001b[1m0s\u001b[0m 70ms/step\n",
      "\u001b[1m1/1\u001b[0m \u001b[32m━━━━━━━━━━━━━━━━━━━━\u001b[0m\u001b[37m\u001b[0m \u001b[1m0s\u001b[0m 91ms/step\n",
      "\u001b[1m1/1\u001b[0m \u001b[32m━━━━━━━━━━━━━━━━━━━━\u001b[0m\u001b[37m\u001b[0m \u001b[1m0s\u001b[0m 77ms/step\n",
      "\u001b[1m1/1\u001b[0m \u001b[32m━━━━━━━━━━━━━━━━━━━━\u001b[0m\u001b[37m\u001b[0m \u001b[1m0s\u001b[0m 161ms/step\n",
      "\u001b[1m1/1\u001b[0m \u001b[32m━━━━━━━━━━━━━━━━━━━━\u001b[0m\u001b[37m\u001b[0m \u001b[1m0s\u001b[0m 81ms/step\n",
      "\u001b[1m1/1\u001b[0m \u001b[32m━━━━━━━━━━━━━━━━━━━━\u001b[0m\u001b[37m\u001b[0m \u001b[1m0s\u001b[0m 82ms/step\n",
      "\u001b[1m1/1\u001b[0m \u001b[32m━━━━━━━━━━━━━━━━━━━━\u001b[0m\u001b[37m\u001b[0m \u001b[1m0s\u001b[0m 85ms/step\n",
      "\u001b[1m1/1\u001b[0m \u001b[32m━━━━━━━━━━━━━━━━━━━━\u001b[0m\u001b[37m\u001b[0m \u001b[1m0s\u001b[0m 87ms/step\n",
      "\u001b[1m1/1\u001b[0m \u001b[32m━━━━━━━━━━━━━━━━━━━━\u001b[0m\u001b[37m\u001b[0m \u001b[1m0s\u001b[0m 77ms/step\n",
      "\u001b[1m1/1\u001b[0m \u001b[32m━━━━━━━━━━━━━━━━━━━━\u001b[0m\u001b[37m\u001b[0m \u001b[1m0s\u001b[0m 66ms/step\n",
      "\u001b[1m1/1\u001b[0m \u001b[32m━━━━━━━━━━━━━━━━━━━━\u001b[0m\u001b[37m\u001b[0m \u001b[1m0s\u001b[0m 96ms/step\n",
      "\u001b[1m1/1\u001b[0m \u001b[32m━━━━━━━━━━━━━━━━━━━━\u001b[0m\u001b[37m\u001b[0m \u001b[1m0s\u001b[0m 96ms/step\n",
      "\u001b[1m1/1\u001b[0m \u001b[32m━━━━━━━━━━━━━━━━━━━━\u001b[0m\u001b[37m\u001b[0m \u001b[1m0s\u001b[0m 78ms/step\n",
      "\u001b[1m1/1\u001b[0m \u001b[32m━━━━━━━━━━━━━━━━━━━━\u001b[0m\u001b[37m\u001b[0m \u001b[1m0s\u001b[0m 92ms/step\n",
      "\u001b[1m1/1\u001b[0m \u001b[32m━━━━━━━━━━━━━━━━━━━━\u001b[0m\u001b[37m\u001b[0m \u001b[1m0s\u001b[0m 96ms/step\n",
      "\u001b[1m1/1\u001b[0m \u001b[32m━━━━━━━━━━━━━━━━━━━━\u001b[0m\u001b[37m\u001b[0m \u001b[1m0s\u001b[0m 81ms/step\n",
      "\u001b[1m1/1\u001b[0m \u001b[32m━━━━━━━━━━━━━━━━━━━━\u001b[0m\u001b[37m\u001b[0m \u001b[1m0s\u001b[0m 81ms/step\n",
      "\u001b[1m1/1\u001b[0m \u001b[32m━━━━━━━━━━━━━━━━━━━━\u001b[0m\u001b[37m\u001b[0m \u001b[1m0s\u001b[0m 94ms/step\n",
      "\u001b[1m1/1\u001b[0m \u001b[32m━━━━━━━━━━━━━━━━━━━━\u001b[0m\u001b[37m\u001b[0m \u001b[1m0s\u001b[0m 79ms/step\n",
      "\u001b[1m1/1\u001b[0m \u001b[32m━━━━━━━━━━━━━━━━━━━━\u001b[0m\u001b[37m\u001b[0m \u001b[1m0s\u001b[0m 75ms/step\n",
      "\u001b[1m1/1\u001b[0m \u001b[32m━━━━━━━━━━━━━━━━━━━━\u001b[0m\u001b[37m\u001b[0m \u001b[1m0s\u001b[0m 86ms/step\n",
      "\u001b[1m1/1\u001b[0m \u001b[32m━━━━━━━━━━━━━━━━━━━━\u001b[0m\u001b[37m\u001b[0m \u001b[1m0s\u001b[0m 83ms/step\n",
      "\u001b[1m1/1\u001b[0m \u001b[32m━━━━━━━━━━━━━━━━━━━━\u001b[0m\u001b[37m\u001b[0m \u001b[1m0s\u001b[0m 95ms/step\n",
      "\u001b[1m1/1\u001b[0m \u001b[32m━━━━━━━━━━━━━━━━━━━━\u001b[0m\u001b[37m\u001b[0m \u001b[1m0s\u001b[0m 102ms/step\n",
      "\u001b[1m1/1\u001b[0m \u001b[32m━━━━━━━━━━━━━━━━━━━━\u001b[0m\u001b[37m\u001b[0m \u001b[1m0s\u001b[0m 93ms/step\n",
      "\u001b[1m1/1\u001b[0m \u001b[32m━━━━━━━━━━━━━━━━━━━━\u001b[0m\u001b[37m\u001b[0m \u001b[1m0s\u001b[0m 77ms/step\n",
      "\u001b[1m1/1\u001b[0m \u001b[32m━━━━━━━━━━━━━━━━━━━━\u001b[0m\u001b[37m\u001b[0m \u001b[1m0s\u001b[0m 96ms/step\n",
      "\u001b[1m1/1\u001b[0m \u001b[32m━━━━━━━━━━━━━━━━━━━━\u001b[0m\u001b[37m\u001b[0m \u001b[1m0s\u001b[0m 86ms/step\n",
      "\u001b[1m1/1\u001b[0m \u001b[32m━━━━━━━━━━━━━━━━━━━━\u001b[0m\u001b[37m\u001b[0m \u001b[1m0s\u001b[0m 87ms/step\n",
      "\u001b[1m1/1\u001b[0m \u001b[32m━━━━━━━━━━━━━━━━━━━━\u001b[0m\u001b[37m\u001b[0m \u001b[1m0s\u001b[0m 75ms/step\n",
      "\u001b[1m1/1\u001b[0m \u001b[32m━━━━━━━━━━━━━━━━━━━━\u001b[0m\u001b[37m\u001b[0m \u001b[1m0s\u001b[0m 74ms/step\n",
      "\u001b[1m1/1\u001b[0m \u001b[32m━━━━━━━━━━━━━━━━━━━━\u001b[0m\u001b[37m\u001b[0m \u001b[1m0s\u001b[0m 80ms/step\n",
      "\u001b[1m1/1\u001b[0m \u001b[32m━━━━━━━━━━━━━━━━━━━━\u001b[0m\u001b[37m\u001b[0m \u001b[1m0s\u001b[0m 95ms/step\n",
      "\u001b[1m1/1\u001b[0m \u001b[32m━━━━━━━━━━━━━━━━━━━━\u001b[0m\u001b[37m\u001b[0m \u001b[1m0s\u001b[0m 69ms/step\n",
      "\u001b[1m1/1\u001b[0m \u001b[32m━━━━━━━━━━━━━━━━━━━━\u001b[0m\u001b[37m\u001b[0m \u001b[1m0s\u001b[0m 79ms/step\n",
      "\u001b[1m1/1\u001b[0m \u001b[32m━━━━━━━━━━━━━━━━━━━━\u001b[0m\u001b[37m\u001b[0m \u001b[1m0s\u001b[0m 95ms/step\n",
      "\u001b[1m1/1\u001b[0m \u001b[32m━━━━━━━━━━━━━━━━━━━━\u001b[0m\u001b[37m\u001b[0m \u001b[1m0s\u001b[0m 88ms/step\n",
      "\u001b[1m1/1\u001b[0m \u001b[32m━━━━━━━━━━━━━━━━━━━━\u001b[0m\u001b[37m\u001b[0m \u001b[1m0s\u001b[0m 63ms/step\n",
      "\u001b[1m1/1\u001b[0m \u001b[32m━━━━━━━━━━━━━━━━━━━━\u001b[0m\u001b[37m\u001b[0m \u001b[1m0s\u001b[0m 80ms/step\n",
      "\u001b[1m1/1\u001b[0m \u001b[32m━━━━━━━━━━━━━━━━━━━━\u001b[0m\u001b[37m\u001b[0m \u001b[1m0s\u001b[0m 79ms/step\n",
      "\u001b[1m1/1\u001b[0m \u001b[32m━━━━━━━━━━━━━━━━━━━━\u001b[0m\u001b[37m\u001b[0m \u001b[1m0s\u001b[0m 78ms/step\n",
      "\u001b[1m1/1\u001b[0m \u001b[32m━━━━━━━━━━━━━━━━━━━━\u001b[0m\u001b[37m\u001b[0m \u001b[1m0s\u001b[0m 78ms/step\n",
      "\u001b[1m1/1\u001b[0m \u001b[32m━━━━━━━━━━━━━━━━━━━━\u001b[0m\u001b[37m\u001b[0m \u001b[1m0s\u001b[0m 80ms/step\n",
      "\u001b[1m1/1\u001b[0m \u001b[32m━━━━━━━━━━━━━━━━━━━━\u001b[0m\u001b[37m\u001b[0m \u001b[1m0s\u001b[0m 74ms/step\n",
      "\u001b[1m1/1\u001b[0m \u001b[32m━━━━━━━━━━━━━━━━━━━━\u001b[0m\u001b[37m\u001b[0m \u001b[1m0s\u001b[0m 84ms/step\n",
      "\u001b[1m1/1\u001b[0m \u001b[32m━━━━━━━━━━━━━━━━━━━━\u001b[0m\u001b[37m\u001b[0m \u001b[1m0s\u001b[0m 112ms/step\n",
      "\u001b[1m1/1\u001b[0m \u001b[32m━━━━━━━━━━━━━━━━━━━━\u001b[0m\u001b[37m\u001b[0m \u001b[1m0s\u001b[0m 82ms/step\n",
      "\u001b[1m1/1\u001b[0m \u001b[32m━━━━━━━━━━━━━━━━━━━━\u001b[0m\u001b[37m\u001b[0m \u001b[1m0s\u001b[0m 83ms/step\n",
      "\u001b[1m1/1\u001b[0m \u001b[32m━━━━━━━━━━━━━━━━━━━━\u001b[0m\u001b[37m\u001b[0m \u001b[1m0s\u001b[0m 111ms/step\n",
      "\u001b[1m1/1\u001b[0m \u001b[32m━━━━━━━━━━━━━━━━━━━━\u001b[0m\u001b[37m\u001b[0m \u001b[1m0s\u001b[0m 96ms/step\n",
      "\u001b[1m1/1\u001b[0m \u001b[32m━━━━━━━━━━━━━━━━━━━━\u001b[0m\u001b[37m\u001b[0m \u001b[1m0s\u001b[0m 63ms/step\n",
      "\u001b[1m1/1\u001b[0m \u001b[32m━━━━━━━━━━━━━━━━━━━━\u001b[0m\u001b[37m\u001b[0m \u001b[1m0s\u001b[0m 106ms/step\n",
      "\u001b[1m1/1\u001b[0m \u001b[32m━━━━━━━━━━━━━━━━━━━━\u001b[0m\u001b[37m\u001b[0m \u001b[1m0s\u001b[0m 83ms/step\n",
      "\u001b[1m1/1\u001b[0m \u001b[32m━━━━━━━━━━━━━━━━━━━━\u001b[0m\u001b[37m\u001b[0m \u001b[1m0s\u001b[0m 75ms/step\n",
      "\u001b[1m1/1\u001b[0m \u001b[32m━━━━━━━━━━━━━━━━━━━━\u001b[0m\u001b[37m\u001b[0m \u001b[1m0s\u001b[0m 71ms/step\n",
      "\u001b[1m1/1\u001b[0m \u001b[32m━━━━━━━━━━━━━━━━━━━━\u001b[0m\u001b[37m\u001b[0m \u001b[1m0s\u001b[0m 69ms/step\n",
      "\u001b[1m1/1\u001b[0m \u001b[32m━━━━━━━━━━━━━━━━━━━━\u001b[0m\u001b[37m\u001b[0m \u001b[1m0s\u001b[0m 94ms/step\n",
      "\u001b[1m1/1\u001b[0m \u001b[32m━━━━━━━━━━━━━━━━━━━━\u001b[0m\u001b[37m\u001b[0m \u001b[1m0s\u001b[0m 118ms/step\n",
      "\u001b[1m1/1\u001b[0m \u001b[32m━━━━━━━━━━━━━━━━━━━━\u001b[0m\u001b[37m\u001b[0m \u001b[1m0s\u001b[0m 96ms/step\n",
      "\u001b[1m1/1\u001b[0m \u001b[32m━━━━━━━━━━━━━━━━━━━━\u001b[0m\u001b[37m\u001b[0m \u001b[1m0s\u001b[0m 72ms/step\n",
      "\u001b[1m1/1\u001b[0m \u001b[32m━━━━━━━━━━━━━━━━━━━━\u001b[0m\u001b[37m\u001b[0m \u001b[1m0s\u001b[0m 86ms/step\n",
      "\u001b[1m1/1\u001b[0m \u001b[32m━━━━━━━━━━━━━━━━━━━━\u001b[0m\u001b[37m\u001b[0m \u001b[1m0s\u001b[0m 76ms/step\n",
      "\u001b[1m1/1\u001b[0m \u001b[32m━━━━━━━━━━━━━━━━━━━━\u001b[0m\u001b[37m\u001b[0m \u001b[1m0s\u001b[0m 72ms/step\n",
      "\u001b[1m1/1\u001b[0m \u001b[32m━━━━━━━━━━━━━━━━━━━━\u001b[0m\u001b[37m\u001b[0m \u001b[1m0s\u001b[0m 100ms/step\n",
      "\u001b[1m1/1\u001b[0m \u001b[32m━━━━━━━━━━━━━━━━━━━━\u001b[0m\u001b[37m\u001b[0m \u001b[1m0s\u001b[0m 80ms/step\n",
      "\u001b[1m1/1\u001b[0m \u001b[32m━━━━━━━━━━━━━━━━━━━━\u001b[0m\u001b[37m\u001b[0m \u001b[1m0s\u001b[0m 126ms/step\n",
      "\u001b[1m1/1\u001b[0m \u001b[32m━━━━━━━━━━━━━━━━━━━━\u001b[0m\u001b[37m\u001b[0m \u001b[1m0s\u001b[0m 93ms/step\n",
      "\u001b[1m1/1\u001b[0m \u001b[32m━━━━━━━━━━━━━━━━━━━━\u001b[0m\u001b[37m\u001b[0m \u001b[1m0s\u001b[0m 80ms/step\n",
      "\u001b[1m1/1\u001b[0m \u001b[32m━━━━━━━━━━━━━━━━━━━━\u001b[0m\u001b[37m\u001b[0m \u001b[1m0s\u001b[0m 69ms/step\n",
      "\u001b[1m1/1\u001b[0m \u001b[32m━━━━━━━━━━━━━━━━━━━━\u001b[0m\u001b[37m\u001b[0m \u001b[1m0s\u001b[0m 86ms/step\n",
      "\u001b[1m1/1\u001b[0m \u001b[32m━━━━━━━━━━━━━━━━━━━━\u001b[0m\u001b[37m\u001b[0m \u001b[1m0s\u001b[0m 85ms/step\n",
      "\u001b[1m1/1\u001b[0m \u001b[32m━━━━━━━━━━━━━━━━━━━━\u001b[0m\u001b[37m\u001b[0m \u001b[1m0s\u001b[0m 80ms/step\n",
      "\u001b[1m1/1\u001b[0m \u001b[32m━━━━━━━━━━━━━━━━━━━━\u001b[0m\u001b[37m\u001b[0m \u001b[1m0s\u001b[0m 69ms/step\n",
      "\u001b[1m1/1\u001b[0m \u001b[32m━━━━━━━━━━━━━━━━━━━━\u001b[0m\u001b[37m\u001b[0m \u001b[1m0s\u001b[0m 81ms/step\n",
      "\u001b[1m1/1\u001b[0m \u001b[32m━━━━━━━━━━━━━━━━━━━━\u001b[0m\u001b[37m\u001b[0m \u001b[1m0s\u001b[0m 80ms/step\n",
      "\u001b[1m1/1\u001b[0m \u001b[32m━━━━━━━━━━━━━━━━━━━━\u001b[0m\u001b[37m\u001b[0m \u001b[1m0s\u001b[0m 89ms/step\n",
      "\u001b[1m1/1\u001b[0m \u001b[32m━━━━━━━━━━━━━━━━━━━━\u001b[0m\u001b[37m\u001b[0m \u001b[1m0s\u001b[0m 81ms/step\n",
      "\u001b[1m1/1\u001b[0m \u001b[32m━━━━━━━━━━━━━━━━━━━━\u001b[0m\u001b[37m\u001b[0m \u001b[1m0s\u001b[0m 80ms/step\n",
      "\u001b[1m1/1\u001b[0m \u001b[32m━━━━━━━━━━━━━━━━━━━━\u001b[0m\u001b[37m\u001b[0m \u001b[1m0s\u001b[0m 95ms/step\n",
      "\u001b[1m1/1\u001b[0m \u001b[32m━━━━━━━━━━━━━━━━━━━━\u001b[0m\u001b[37m\u001b[0m \u001b[1m0s\u001b[0m 94ms/step\n",
      "\u001b[1m1/1\u001b[0m \u001b[32m━━━━━━━━━━━━━━━━━━━━\u001b[0m\u001b[37m\u001b[0m \u001b[1m0s\u001b[0m 88ms/step\n",
      "\u001b[1m1/1\u001b[0m \u001b[32m━━━━━━━━━━━━━━━━━━━━\u001b[0m\u001b[37m\u001b[0m \u001b[1m0s\u001b[0m 81ms/step\n",
      "\u001b[1m1/1\u001b[0m \u001b[32m━━━━━━━━━━━━━━━━━━━━\u001b[0m\u001b[37m\u001b[0m \u001b[1m0s\u001b[0m 79ms/step\n",
      "\u001b[1m1/1\u001b[0m \u001b[32m━━━━━━━━━━━━━━━━━━━━\u001b[0m\u001b[37m\u001b[0m \u001b[1m0s\u001b[0m 81ms/step\n",
      "\u001b[1m1/1\u001b[0m \u001b[32m━━━━━━━━━━━━━━━━━━━━\u001b[0m\u001b[37m\u001b[0m \u001b[1m0s\u001b[0m 79ms/step\n",
      "\u001b[1m1/1\u001b[0m \u001b[32m━━━━━━━━━━━━━━━━━━━━\u001b[0m\u001b[37m\u001b[0m \u001b[1m0s\u001b[0m 91ms/step\n",
      "\u001b[1m1/1\u001b[0m \u001b[32m━━━━━━━━━━━━━━━━━━━━\u001b[0m\u001b[37m\u001b[0m \u001b[1m0s\u001b[0m 83ms/step\n",
      "\u001b[1m1/1\u001b[0m \u001b[32m━━━━━━━━━━━━━━━━━━━━\u001b[0m\u001b[37m\u001b[0m \u001b[1m0s\u001b[0m 115ms/step\n",
      "\u001b[1m1/1\u001b[0m \u001b[32m━━━━━━━━━━━━━━━━━━━━\u001b[0m\u001b[37m\u001b[0m \u001b[1m0s\u001b[0m 78ms/step\n",
      "\u001b[1m1/1\u001b[0m \u001b[32m━━━━━━━━━━━━━━━━━━━━\u001b[0m\u001b[37m\u001b[0m \u001b[1m0s\u001b[0m 100ms/step\n",
      "\u001b[1m1/1\u001b[0m \u001b[32m━━━━━━━━━━━━━━━━━━━━\u001b[0m\u001b[37m\u001b[0m \u001b[1m0s\u001b[0m 80ms/step\n",
      "\u001b[1m1/1\u001b[0m \u001b[32m━━━━━━━━━━━━━━━━━━━━\u001b[0m\u001b[37m\u001b[0m \u001b[1m0s\u001b[0m 79ms/step\n",
      "\u001b[1m1/1\u001b[0m \u001b[32m━━━━━━━━━━━━━━━━━━━━\u001b[0m\u001b[37m\u001b[0m \u001b[1m0s\u001b[0m 80ms/step\n",
      "\u001b[1m1/1\u001b[0m \u001b[32m━━━━━━━━━━━━━━━━━━━━\u001b[0m\u001b[37m\u001b[0m \u001b[1m0s\u001b[0m 99ms/step\n",
      "\u001b[1m1/1\u001b[0m \u001b[32m━━━━━━━━━━━━━━━━━━━━\u001b[0m\u001b[37m\u001b[0m \u001b[1m0s\u001b[0m 88ms/step\n",
      "\u001b[1m1/1\u001b[0m \u001b[32m━━━━━━━━━━━━━━━━━━━━\u001b[0m\u001b[37m\u001b[0m \u001b[1m0s\u001b[0m 80ms/step\n",
      "\u001b[1m1/1\u001b[0m \u001b[32m━━━━━━━━━━━━━━━━━━━━\u001b[0m\u001b[37m\u001b[0m \u001b[1m0s\u001b[0m 79ms/step\n",
      "\u001b[1m1/1\u001b[0m \u001b[32m━━━━━━━━━━━━━━━━━━━━\u001b[0m\u001b[37m\u001b[0m \u001b[1m0s\u001b[0m 64ms/step\n",
      "\u001b[1m1/1\u001b[0m \u001b[32m━━━━━━━━━━━━━━━━━━━━\u001b[0m\u001b[37m\u001b[0m \u001b[1m0s\u001b[0m 80ms/step\n",
      "\u001b[1m1/1\u001b[0m \u001b[32m━━━━━━━━━━━━━━━━━━━━\u001b[0m\u001b[37m\u001b[0m \u001b[1m0s\u001b[0m 96ms/step\n",
      "\u001b[1m1/1\u001b[0m \u001b[32m━━━━━━━━━━━━━━━━━━━━\u001b[0m\u001b[37m\u001b[0m \u001b[1m0s\u001b[0m 79ms/step\n",
      "\u001b[1m1/1\u001b[0m \u001b[32m━━━━━━━━━━━━━━━━━━━━\u001b[0m\u001b[37m\u001b[0m \u001b[1m0s\u001b[0m 80ms/step\n",
      "\u001b[1m1/1\u001b[0m \u001b[32m━━━━━━━━━━━━━━━━━━━━\u001b[0m\u001b[37m\u001b[0m \u001b[1m0s\u001b[0m 80ms/step\n",
      "\u001b[1m1/1\u001b[0m \u001b[32m━━━━━━━━━━━━━━━━━━━━\u001b[0m\u001b[37m\u001b[0m \u001b[1m0s\u001b[0m 70ms/step\n",
      "\u001b[1m1/1\u001b[0m \u001b[32m━━━━━━━━━━━━━━━━━━━━\u001b[0m\u001b[37m\u001b[0m \u001b[1m0s\u001b[0m 95ms/step\n",
      "\u001b[1m1/1\u001b[0m \u001b[32m━━━━━━━━━━━━━━━━━━━━\u001b[0m\u001b[37m\u001b[0m \u001b[1m0s\u001b[0m 79ms/step\n",
      "\u001b[1m1/1\u001b[0m \u001b[32m━━━━━━━━━━━━━━━━━━━━\u001b[0m\u001b[37m\u001b[0m \u001b[1m0s\u001b[0m 79ms/step\n",
      "\u001b[1m1/1\u001b[0m \u001b[32m━━━━━━━━━━━━━━━━━━━━\u001b[0m\u001b[37m\u001b[0m \u001b[1m0s\u001b[0m 96ms/step\n",
      "\u001b[1m1/1\u001b[0m \u001b[32m━━━━━━━━━━━━━━━━━━━━\u001b[0m\u001b[37m\u001b[0m \u001b[1m0s\u001b[0m 95ms/step\n",
      "\u001b[1m1/1\u001b[0m \u001b[32m━━━━━━━━━━━━━━━━━━━━\u001b[0m\u001b[37m\u001b[0m \u001b[1m0s\u001b[0m 80ms/step\n",
      "\u001b[1m1/1\u001b[0m \u001b[32m━━━━━━━━━━━━━━━━━━━━\u001b[0m\u001b[37m\u001b[0m \u001b[1m0s\u001b[0m 69ms/step\n",
      "\u001b[1m1/1\u001b[0m \u001b[32m━━━━━━━━━━━━━━━━━━━━\u001b[0m\u001b[37m\u001b[0m \u001b[1m0s\u001b[0m 79ms/step\n",
      "\u001b[1m1/1\u001b[0m \u001b[32m━━━━━━━━━━━━━━━━━━━━\u001b[0m\u001b[37m\u001b[0m \u001b[1m0s\u001b[0m 80ms/step\n",
      "\u001b[1m1/1\u001b[0m \u001b[32m━━━━━━━━━━━━━━━━━━━━\u001b[0m\u001b[37m\u001b[0m \u001b[1m0s\u001b[0m 81ms/step\n",
      "\u001b[1m1/1\u001b[0m \u001b[32m━━━━━━━━━━━━━━━━━━━━\u001b[0m\u001b[37m\u001b[0m \u001b[1m0s\u001b[0m 70ms/step\n",
      "\u001b[1m1/1\u001b[0m \u001b[32m━━━━━━━━━━━━━━━━━━━━\u001b[0m\u001b[37m\u001b[0m \u001b[1m0s\u001b[0m 77ms/step\n",
      "\u001b[1m1/1\u001b[0m \u001b[32m━━━━━━━━━━━━━━━━━━━━\u001b[0m\u001b[37m\u001b[0m \u001b[1m0s\u001b[0m 75ms/step\n",
      "\u001b[1m1/1\u001b[0m \u001b[32m━━━━━━━━━━━━━━━━━━━━\u001b[0m\u001b[37m\u001b[0m \u001b[1m0s\u001b[0m 85ms/step\n",
      "\u001b[1m1/1\u001b[0m \u001b[32m━━━━━━━━━━━━━━━━━━━━\u001b[0m\u001b[37m\u001b[0m \u001b[1m0s\u001b[0m 81ms/step\n",
      "\u001b[1m1/1\u001b[0m \u001b[32m━━━━━━━━━━━━━━━━━━━━\u001b[0m\u001b[37m\u001b[0m \u001b[1m0s\u001b[0m 79ms/step\n",
      "\u001b[1m1/1\u001b[0m \u001b[32m━━━━━━━━━━━━━━━━━━━━\u001b[0m\u001b[37m\u001b[0m \u001b[1m0s\u001b[0m 87ms/step\n",
      "\u001b[1m1/1\u001b[0m \u001b[32m━━━━━━━━━━━━━━━━━━━━\u001b[0m\u001b[37m\u001b[0m \u001b[1m0s\u001b[0m 73ms/step\n",
      "\u001b[1m1/1\u001b[0m \u001b[32m━━━━━━━━━━━━━━━━━━━━\u001b[0m\u001b[37m\u001b[0m \u001b[1m0s\u001b[0m 81ms/step\n",
      "\u001b[1m1/1\u001b[0m \u001b[32m━━━━━━━━━━━━━━━━━━━━\u001b[0m\u001b[37m\u001b[0m \u001b[1m0s\u001b[0m 84ms/step\n",
      "\u001b[1m1/1\u001b[0m \u001b[32m━━━━━━━━━━━━━━━━━━━━\u001b[0m\u001b[37m\u001b[0m \u001b[1m0s\u001b[0m 80ms/step\n",
      "\u001b[1m1/1\u001b[0m \u001b[32m━━━━━━━━━━━━━━━━━━━━\u001b[0m\u001b[37m\u001b[0m \u001b[1m0s\u001b[0m 78ms/step\n",
      "\u001b[1m1/1\u001b[0m \u001b[32m━━━━━━━━━━━━━━━━━━━━\u001b[0m\u001b[37m\u001b[0m \u001b[1m0s\u001b[0m 69ms/step\n",
      "\u001b[1m1/1\u001b[0m \u001b[32m━━━━━━━━━━━━━━━━━━━━\u001b[0m\u001b[37m\u001b[0m \u001b[1m0s\u001b[0m 79ms/step\n",
      "\u001b[1m1/1\u001b[0m \u001b[32m━━━━━━━━━━━━━━━━━━━━\u001b[0m\u001b[37m\u001b[0m \u001b[1m0s\u001b[0m 80ms/step\n",
      "\u001b[1m1/1\u001b[0m \u001b[32m━━━━━━━━━━━━━━━━━━━━\u001b[0m\u001b[37m\u001b[0m \u001b[1m0s\u001b[0m 80ms/step\n",
      "\u001b[1m1/1\u001b[0m \u001b[32m━━━━━━━━━━━━━━━━━━━━\u001b[0m\u001b[37m\u001b[0m \u001b[1m0s\u001b[0m 72ms/step\n",
      "\u001b[1m1/1\u001b[0m \u001b[32m━━━━━━━━━━━━━━━━━━━━\u001b[0m\u001b[37m\u001b[0m \u001b[1m0s\u001b[0m 78ms/step\n",
      "\u001b[1m1/1\u001b[0m \u001b[32m━━━━━━━━━━━━━━━━━━━━\u001b[0m\u001b[37m\u001b[0m \u001b[1m0s\u001b[0m 75ms/step\n",
      "\u001b[1m1/1\u001b[0m \u001b[32m━━━━━━━━━━━━━━━━━━━━\u001b[0m\u001b[37m\u001b[0m \u001b[1m0s\u001b[0m 80ms/step\n",
      "\u001b[1m1/1\u001b[0m \u001b[32m━━━━━━━━━━━━━━━━━━━━\u001b[0m\u001b[37m\u001b[0m \u001b[1m0s\u001b[0m 78ms/step\n",
      "\u001b[1m1/1\u001b[0m \u001b[32m━━━━━━━━━━━━━━━━━━━━\u001b[0m\u001b[37m\u001b[0m \u001b[1m0s\u001b[0m 84ms/step\n",
      "\u001b[1m1/1\u001b[0m \u001b[32m━━━━━━━━━━━━━━━━━━━━\u001b[0m\u001b[37m\u001b[0m \u001b[1m0s\u001b[0m 80ms/step\n",
      "\u001b[1m1/1\u001b[0m \u001b[32m━━━━━━━━━━━━━━━━━━━━\u001b[0m\u001b[37m\u001b[0m \u001b[1m0s\u001b[0m 80ms/step\n",
      "\u001b[1m1/1\u001b[0m \u001b[32m━━━━━━━━━━━━━━━━━━━━\u001b[0m\u001b[37m\u001b[0m \u001b[1m0s\u001b[0m 80ms/step\n",
      "\u001b[1m1/1\u001b[0m \u001b[32m━━━━━━━━━━━━━━━━━━━━\u001b[0m\u001b[37m\u001b[0m \u001b[1m0s\u001b[0m 80ms/step\n",
      "\u001b[1m1/1\u001b[0m \u001b[32m━━━━━━━━━━━━━━━━━━━━\u001b[0m\u001b[37m\u001b[0m \u001b[1m0s\u001b[0m 72ms/step\n",
      "\u001b[1m1/1\u001b[0m \u001b[32m━━━━━━━━━━━━━━━━━━━━\u001b[0m\u001b[37m\u001b[0m \u001b[1m0s\u001b[0m 97ms/step\n",
      "\u001b[1m1/1\u001b[0m \u001b[32m━━━━━━━━━━━━━━━━━━━━\u001b[0m\u001b[37m\u001b[0m \u001b[1m0s\u001b[0m 103ms/step\n",
      "\u001b[1m1/1\u001b[0m \u001b[32m━━━━━━━━━━━━━━━━━━━━\u001b[0m\u001b[37m\u001b[0m \u001b[1m0s\u001b[0m 87ms/step\n",
      "\u001b[1m1/1\u001b[0m \u001b[32m━━━━━━━━━━━━━━━━━━━━\u001b[0m\u001b[37m\u001b[0m \u001b[1m0s\u001b[0m 80ms/step\n",
      "\u001b[1m1/1\u001b[0m \u001b[32m━━━━━━━━━━━━━━━━━━━━\u001b[0m\u001b[37m\u001b[0m \u001b[1m0s\u001b[0m 75ms/step\n",
      "\u001b[1m1/1\u001b[0m \u001b[32m━━━━━━━━━━━━━━━━━━━━\u001b[0m\u001b[37m\u001b[0m \u001b[1m0s\u001b[0m 71ms/step\n",
      "\u001b[1m1/1\u001b[0m \u001b[32m━━━━━━━━━━━━━━━━━━━━\u001b[0m\u001b[37m\u001b[0m \u001b[1m0s\u001b[0m 79ms/step\n",
      "\u001b[1m1/1\u001b[0m \u001b[32m━━━━━━━━━━━━━━━━━━━━\u001b[0m\u001b[37m\u001b[0m \u001b[1m0s\u001b[0m 80ms/step\n",
      "\u001b[1m1/1\u001b[0m \u001b[32m━━━━━━━━━━━━━━━━━━━━\u001b[0m\u001b[37m\u001b[0m \u001b[1m0s\u001b[0m 79ms/step\n",
      "\u001b[1m1/1\u001b[0m \u001b[32m━━━━━━━━━━━━━━━━━━━━\u001b[0m\u001b[37m\u001b[0m \u001b[1m0s\u001b[0m 95ms/step\n",
      "\u001b[1m1/1\u001b[0m \u001b[32m━━━━━━━━━━━━━━━━━━━━\u001b[0m\u001b[37m\u001b[0m \u001b[1m0s\u001b[0m 88ms/step\n",
      "\u001b[1m1/1\u001b[0m \u001b[32m━━━━━━━━━━━━━━━━━━━━\u001b[0m\u001b[37m\u001b[0m \u001b[1m0s\u001b[0m 81ms/step\n",
      "\u001b[1m1/1\u001b[0m \u001b[32m━━━━━━━━━━━━━━━━━━━━\u001b[0m\u001b[37m\u001b[0m \u001b[1m0s\u001b[0m 118ms/step\n",
      "\u001b[1m1/1\u001b[0m \u001b[32m━━━━━━━━━━━━━━━━━━━━\u001b[0m\u001b[37m\u001b[0m \u001b[1m0s\u001b[0m 87ms/step\n",
      "\u001b[1m1/1\u001b[0m \u001b[32m━━━━━━━━━━━━━━━━━━━━\u001b[0m\u001b[37m\u001b[0m \u001b[1m0s\u001b[0m 104ms/step\n",
      "\u001b[1m1/1\u001b[0m \u001b[32m━━━━━━━━━━━━━━━━━━━━\u001b[0m\u001b[37m\u001b[0m \u001b[1m0s\u001b[0m 76ms/step\n",
      "\u001b[1m1/1\u001b[0m \u001b[32m━━━━━━━━━━━━━━━━━━━━\u001b[0m\u001b[37m\u001b[0m \u001b[1m0s\u001b[0m 88ms/step\n",
      "\u001b[1m1/1\u001b[0m \u001b[32m━━━━━━━━━━━━━━━━━━━━\u001b[0m\u001b[37m\u001b[0m \u001b[1m0s\u001b[0m 75ms/step\n",
      "\u001b[1m1/1\u001b[0m \u001b[32m━━━━━━━━━━━━━━━━━━━━\u001b[0m\u001b[37m\u001b[0m \u001b[1m0s\u001b[0m 67ms/step\n",
      "\u001b[1m1/1\u001b[0m \u001b[32m━━━━━━━━━━━━━━━━━━━━\u001b[0m\u001b[37m\u001b[0m \u001b[1m0s\u001b[0m 93ms/step\n",
      "\u001b[1m1/1\u001b[0m \u001b[32m━━━━━━━━━━━━━━━━━━━━\u001b[0m\u001b[37m\u001b[0m \u001b[1m0s\u001b[0m 95ms/step\n",
      "\u001b[1m1/1\u001b[0m \u001b[32m━━━━━━━━━━━━━━━━━━━━\u001b[0m\u001b[37m\u001b[0m \u001b[1m0s\u001b[0m 95ms/step\n",
      "\u001b[1m1/1\u001b[0m \u001b[32m━━━━━━━━━━━━━━━━━━━━\u001b[0m\u001b[37m\u001b[0m \u001b[1m0s\u001b[0m 78ms/step\n",
      "\u001b[1m1/1\u001b[0m \u001b[32m━━━━━━━━━━━━━━━━━━━━\u001b[0m\u001b[37m\u001b[0m \u001b[1m0s\u001b[0m 76ms/step\n",
      "\u001b[1m1/1\u001b[0m \u001b[32m━━━━━━━━━━━━━━━━━━━━\u001b[0m\u001b[37m\u001b[0m \u001b[1m0s\u001b[0m 80ms/step\n",
      "\u001b[1m1/1\u001b[0m \u001b[32m━━━━━━━━━━━━━━━━━━━━\u001b[0m\u001b[37m\u001b[0m \u001b[1m0s\u001b[0m 86ms/step\n",
      "\u001b[1m1/1\u001b[0m \u001b[32m━━━━━━━━━━━━━━━━━━━━\u001b[0m\u001b[37m\u001b[0m \u001b[1m0s\u001b[0m 80ms/step\n",
      "\u001b[1m1/1\u001b[0m \u001b[32m━━━━━━━━━━━━━━━━━━━━\u001b[0m\u001b[37m\u001b[0m \u001b[1m0s\u001b[0m 79ms/step\n",
      "\u001b[1m1/1\u001b[0m \u001b[32m━━━━━━━━━━━━━━━━━━━━\u001b[0m\u001b[37m\u001b[0m \u001b[1m0s\u001b[0m 80ms/step\n",
      "\u001b[1m1/1\u001b[0m \u001b[32m━━━━━━━━━━━━━━━━━━━━\u001b[0m\u001b[37m\u001b[0m \u001b[1m0s\u001b[0m 93ms/step\n",
      "\u001b[1m1/1\u001b[0m \u001b[32m━━━━━━━━━━━━━━━━━━━━\u001b[0m\u001b[37m\u001b[0m \u001b[1m0s\u001b[0m 88ms/step\n",
      "\u001b[1m1/1\u001b[0m \u001b[32m━━━━━━━━━━━━━━━━━━━━\u001b[0m\u001b[37m\u001b[0m \u001b[1m0s\u001b[0m 73ms/step\n",
      "\u001b[1m1/1\u001b[0m \u001b[32m━━━━━━━━━━━━━━━━━━━━\u001b[0m\u001b[37m\u001b[0m \u001b[1m0s\u001b[0m 64ms/step\n",
      "\u001b[1m1/1\u001b[0m \u001b[32m━━━━━━━━━━━━━━━━━━━━\u001b[0m\u001b[37m\u001b[0m \u001b[1m0s\u001b[0m 80ms/step\n",
      "\u001b[1m1/1\u001b[0m \u001b[32m━━━━━━━━━━━━━━━━━━━━\u001b[0m\u001b[37m\u001b[0m \u001b[1m0s\u001b[0m 78ms/step\n",
      "\u001b[1m1/1\u001b[0m \u001b[32m━━━━━━━━━━━━━━━━━━━━\u001b[0m\u001b[37m\u001b[0m \u001b[1m0s\u001b[0m 95ms/step\n",
      "\u001b[1m1/1\u001b[0m \u001b[32m━━━━━━━━━━━━━━━━━━━━\u001b[0m\u001b[37m\u001b[0m \u001b[1m0s\u001b[0m 79ms/step\n",
      "\u001b[1m1/1\u001b[0m \u001b[32m━━━━━━━━━━━━━━━━━━━━\u001b[0m\u001b[37m\u001b[0m \u001b[1m0s\u001b[0m 95ms/step\n",
      "\u001b[1m1/1\u001b[0m \u001b[32m━━━━━━━━━━━━━━━━━━━━\u001b[0m\u001b[37m\u001b[0m \u001b[1m0s\u001b[0m 98ms/step\n",
      "\u001b[1m1/1\u001b[0m \u001b[32m━━━━━━━━━━━━━━━━━━━━\u001b[0m\u001b[37m\u001b[0m \u001b[1m0s\u001b[0m 95ms/step\n",
      "\u001b[1m1/1\u001b[0m \u001b[32m━━━━━━━━━━━━━━━━━━━━\u001b[0m\u001b[37m\u001b[0m \u001b[1m0s\u001b[0m 85ms/step\n",
      "\u001b[1m1/1\u001b[0m \u001b[32m━━━━━━━━━━━━━━━━━━━━\u001b[0m\u001b[37m\u001b[0m \u001b[1m0s\u001b[0m 99ms/step\n",
      "\u001b[1m1/1\u001b[0m \u001b[32m━━━━━━━━━━━━━━━━━━━━\u001b[0m\u001b[37m\u001b[0m \u001b[1m0s\u001b[0m 95ms/step\n",
      "\u001b[1m1/1\u001b[0m \u001b[32m━━━━━━━━━━━━━━━━━━━━\u001b[0m\u001b[37m\u001b[0m \u001b[1m0s\u001b[0m 84ms/step\n",
      "\u001b[1m1/1\u001b[0m \u001b[32m━━━━━━━━━━━━━━━━━━━━\u001b[0m\u001b[37m\u001b[0m \u001b[1m0s\u001b[0m 97ms/step\n",
      "\u001b[1m1/1\u001b[0m \u001b[32m━━━━━━━━━━━━━━━━━━━━\u001b[0m\u001b[37m\u001b[0m \u001b[1m0s\u001b[0m 80ms/step\n",
      "\u001b[1m1/1\u001b[0m \u001b[32m━━━━━━━━━━━━━━━━━━━━\u001b[0m\u001b[37m\u001b[0m \u001b[1m0s\u001b[0m 66ms/step\n",
      "\u001b[1m1/1\u001b[0m \u001b[32m━━━━━━━━━━━━━━━━━━━━\u001b[0m\u001b[37m\u001b[0m \u001b[1m0s\u001b[0m 74ms/step\n",
      "\u001b[1m1/1\u001b[0m \u001b[32m━━━━━━━━━━━━━━━━━━━━\u001b[0m\u001b[37m\u001b[0m \u001b[1m0s\u001b[0m 79ms/step\n",
      "\u001b[1m1/1\u001b[0m \u001b[32m━━━━━━━━━━━━━━━━━━━━\u001b[0m\u001b[37m\u001b[0m \u001b[1m0s\u001b[0m 83ms/step\n",
      "\u001b[1m1/1\u001b[0m \u001b[32m━━━━━━━━━━━━━━━━━━━━\u001b[0m\u001b[37m\u001b[0m \u001b[1m0s\u001b[0m 94ms/step\n",
      "\u001b[1m1/1\u001b[0m \u001b[32m━━━━━━━━━━━━━━━━━━━━\u001b[0m\u001b[37m\u001b[0m \u001b[1m0s\u001b[0m 90ms/step\n",
      "\u001b[1m1/1\u001b[0m \u001b[32m━━━━━━━━━━━━━━━━━━━━\u001b[0m\u001b[37m\u001b[0m \u001b[1m0s\u001b[0m 65ms/step\n",
      "\u001b[1m1/1\u001b[0m \u001b[32m━━━━━━━━━━━━━━━━━━━━\u001b[0m\u001b[37m\u001b[0m \u001b[1m0s\u001b[0m 72ms/step\n",
      "\u001b[1m1/1\u001b[0m \u001b[32m━━━━━━━━━━━━━━━━━━━━\u001b[0m\u001b[37m\u001b[0m \u001b[1m0s\u001b[0m 79ms/step\n",
      "\u001b[1m1/1\u001b[0m \u001b[32m━━━━━━━━━━━━━━━━━━━━\u001b[0m\u001b[37m\u001b[0m \u001b[1m0s\u001b[0m 107ms/step\n",
      "\u001b[1m1/1\u001b[0m \u001b[32m━━━━━━━━━━━━━━━━━━━━\u001b[0m\u001b[37m\u001b[0m \u001b[1m0s\u001b[0m 84ms/step\n",
      "\u001b[1m1/1\u001b[0m \u001b[32m━━━━━━━━━━━━━━━━━━━━\u001b[0m\u001b[37m\u001b[0m \u001b[1m0s\u001b[0m 223ms/step\n",
      "\u001b[1m1/1\u001b[0m \u001b[32m━━━━━━━━━━━━━━━━━━━━\u001b[0m\u001b[37m\u001b[0m \u001b[1m0s\u001b[0m 77ms/step\n",
      "\u001b[1m1/1\u001b[0m \u001b[32m━━━━━━━━━━━━━━━━━━━━\u001b[0m\u001b[37m\u001b[0m \u001b[1m0s\u001b[0m 63ms/step\n",
      "\u001b[1m1/1\u001b[0m \u001b[32m━━━━━━━━━━━━━━━━━━━━\u001b[0m\u001b[37m\u001b[0m \u001b[1m0s\u001b[0m 126ms/step\n",
      "\u001b[1m1/1\u001b[0m \u001b[32m━━━━━━━━━━━━━━━━━━━━\u001b[0m\u001b[37m\u001b[0m \u001b[1m0s\u001b[0m 93ms/step\n",
      "\u001b[1m1/1\u001b[0m \u001b[32m━━━━━━━━━━━━━━━━━━━━\u001b[0m\u001b[37m\u001b[0m \u001b[1m0s\u001b[0m 82ms/step\n",
      "\u001b[1m1/1\u001b[0m \u001b[32m━━━━━━━━━━━━━━━━━━━━\u001b[0m\u001b[37m\u001b[0m \u001b[1m0s\u001b[0m 83ms/step\n",
      "\u001b[1m1/1\u001b[0m \u001b[32m━━━━━━━━━━━━━━━━━━━━\u001b[0m\u001b[37m\u001b[0m \u001b[1m0s\u001b[0m 87ms/step\n",
      "\u001b[1m1/1\u001b[0m \u001b[32m━━━━━━━━━━━━━━━━━━━━\u001b[0m\u001b[37m\u001b[0m \u001b[1m0s\u001b[0m 74ms/step\n",
      "\u001b[1m1/1\u001b[0m \u001b[32m━━━━━━━━━━━━━━━━━━━━\u001b[0m\u001b[37m\u001b[0m \u001b[1m0s\u001b[0m 76ms/step\n",
      "\u001b[1m1/1\u001b[0m \u001b[32m━━━━━━━━━━━━━━━━━━━━\u001b[0m\u001b[37m\u001b[0m \u001b[1m0s\u001b[0m 80ms/step\n",
      "\u001b[1m1/1\u001b[0m \u001b[32m━━━━━━━━━━━━━━━━━━━━\u001b[0m\u001b[37m\u001b[0m \u001b[1m0s\u001b[0m 85ms/step\n",
      "\u001b[1m1/1\u001b[0m \u001b[32m━━━━━━━━━━━━━━━━━━━━\u001b[0m\u001b[37m\u001b[0m \u001b[1m0s\u001b[0m 83ms/step\n",
      "\u001b[1m1/1\u001b[0m \u001b[32m━━━━━━━━━━━━━━━━━━━━\u001b[0m\u001b[37m\u001b[0m \u001b[1m0s\u001b[0m 83ms/step\n",
      "\u001b[1m1/1\u001b[0m \u001b[32m━━━━━━━━━━━━━━━━━━━━\u001b[0m\u001b[37m\u001b[0m \u001b[1m0s\u001b[0m 87ms/step\n",
      "\u001b[1m1/1\u001b[0m \u001b[32m━━━━━━━━━━━━━━━━━━━━\u001b[0m\u001b[37m\u001b[0m \u001b[1m0s\u001b[0m 91ms/step\n",
      "\u001b[1m1/1\u001b[0m \u001b[32m━━━━━━━━━━━━━━━━━━━━\u001b[0m\u001b[37m\u001b[0m \u001b[1m0s\u001b[0m 97ms/step\n",
      "\u001b[1m1/1\u001b[0m \u001b[32m━━━━━━━━━━━━━━━━━━━━\u001b[0m\u001b[37m\u001b[0m \u001b[1m0s\u001b[0m 69ms/step\n",
      "\u001b[1m1/1\u001b[0m \u001b[32m━━━━━━━━━━━━━━━━━━━━\u001b[0m\u001b[37m\u001b[0m \u001b[1m0s\u001b[0m 64ms/step\n",
      "\u001b[1m1/1\u001b[0m \u001b[32m━━━━━━━━━━━━━━━━━━━━\u001b[0m\u001b[37m\u001b[0m \u001b[1m0s\u001b[0m 81ms/step\n",
      "\u001b[1m1/1\u001b[0m \u001b[32m━━━━━━━━━━━━━━━━━━━━\u001b[0m\u001b[37m\u001b[0m \u001b[1m0s\u001b[0m 95ms/step\n",
      "\u001b[1m1/1\u001b[0m \u001b[32m━━━━━━━━━━━━━━━━━━━━\u001b[0m\u001b[37m\u001b[0m \u001b[1m0s\u001b[0m 78ms/step\n",
      "\u001b[1m1/1\u001b[0m \u001b[32m━━━━━━━━━━━━━━━━━━━━\u001b[0m\u001b[37m\u001b[0m \u001b[1m0s\u001b[0m 282ms/step\n",
      "\u001b[1m1/1\u001b[0m \u001b[32m━━━━━━━━━━━━━━━━━━━━\u001b[0m\u001b[37m\u001b[0m \u001b[1m0s\u001b[0m 94ms/step\n",
      "\u001b[1m1/1\u001b[0m \u001b[32m━━━━━━━━━━━━━━━━━━━━\u001b[0m\u001b[37m\u001b[0m \u001b[1m0s\u001b[0m 94ms/step\n",
      "\u001b[1m1/1\u001b[0m \u001b[32m━━━━━━━━━━━━━━━━━━━━\u001b[0m\u001b[37m\u001b[0m \u001b[1m0s\u001b[0m 86ms/step\n",
      "\u001b[1m1/1\u001b[0m \u001b[32m━━━━━━━━━━━━━━━━━━━━\u001b[0m\u001b[37m\u001b[0m \u001b[1m0s\u001b[0m 148ms/step\n",
      "\u001b[1m1/1\u001b[0m \u001b[32m━━━━━━━━━━━━━━━━━━━━\u001b[0m\u001b[37m\u001b[0m \u001b[1m0s\u001b[0m 173ms/step\n",
      "\u001b[1m1/1\u001b[0m \u001b[32m━━━━━━━━━━━━━━━━━━━━\u001b[0m\u001b[37m\u001b[0m \u001b[1m0s\u001b[0m 110ms/step\n",
      "\u001b[1m1/1\u001b[0m \u001b[32m━━━━━━━━━━━━━━━━━━━━\u001b[0m\u001b[37m\u001b[0m \u001b[1m0s\u001b[0m 102ms/step\n",
      "\u001b[1m1/1\u001b[0m \u001b[32m━━━━━━━━━━━━━━━━━━━━\u001b[0m\u001b[37m\u001b[0m \u001b[1m0s\u001b[0m 73ms/step\n",
      "\u001b[1m1/1\u001b[0m \u001b[32m━━━━━━━━━━━━━━━━━━━━\u001b[0m\u001b[37m\u001b[0m \u001b[1m0s\u001b[0m 88ms/step\n",
      "\u001b[1m1/1\u001b[0m \u001b[32m━━━━━━━━━━━━━━━━━━━━\u001b[0m\u001b[37m\u001b[0m \u001b[1m0s\u001b[0m 98ms/step\n",
      "\u001b[1m1/1\u001b[0m \u001b[32m━━━━━━━━━━━━━━━━━━━━\u001b[0m\u001b[37m\u001b[0m \u001b[1m0s\u001b[0m 123ms/step\n",
      "\u001b[1m1/1\u001b[0m \u001b[32m━━━━━━━━━━━━━━━━━━━━\u001b[0m\u001b[37m\u001b[0m \u001b[1m0s\u001b[0m 126ms/step\n",
      "\u001b[1m1/1\u001b[0m \u001b[32m━━━━━━━━━━━━━━━━━━━━\u001b[0m\u001b[37m\u001b[0m \u001b[1m0s\u001b[0m 114ms/step\n",
      "\u001b[1m1/1\u001b[0m \u001b[32m━━━━━━━━━━━━━━━━━━━━\u001b[0m\u001b[37m\u001b[0m \u001b[1m0s\u001b[0m 100ms/step\n",
      "\u001b[1m1/1\u001b[0m \u001b[32m━━━━━━━━━━━━━━━━━━━━\u001b[0m\u001b[37m\u001b[0m \u001b[1m0s\u001b[0m 189ms/step\n",
      "\u001b[1m1/1\u001b[0m \u001b[32m━━━━━━━━━━━━━━━━━━━━\u001b[0m\u001b[37m\u001b[0m \u001b[1m0s\u001b[0m 114ms/step\n",
      "\u001b[1m1/1\u001b[0m \u001b[32m━━━━━━━━━━━━━━━━━━━━\u001b[0m\u001b[37m\u001b[0m \u001b[1m0s\u001b[0m 116ms/step\n",
      "\u001b[1m1/1\u001b[0m \u001b[32m━━━━━━━━━━━━━━━━━━━━\u001b[0m\u001b[37m\u001b[0m \u001b[1m0s\u001b[0m 43ms/step\n",
      "\u001b[1m1/1\u001b[0m \u001b[32m━━━━━━━━━━━━━━━━━━━━\u001b[0m\u001b[37m\u001b[0m \u001b[1m0s\u001b[0m 56ms/step\n",
      "\u001b[1m1/1\u001b[0m \u001b[32m━━━━━━━━━━━━━━━━━━━━\u001b[0m\u001b[37m\u001b[0m \u001b[1m0s\u001b[0m 90ms/step\n",
      "\u001b[1m1/1\u001b[0m \u001b[32m━━━━━━━━━━━━━━━━━━━━\u001b[0m\u001b[37m\u001b[0m \u001b[1m0s\u001b[0m 36ms/step\n",
      "\u001b[1m1/1\u001b[0m \u001b[32m━━━━━━━━━━━━━━━━━━━━\u001b[0m\u001b[37m\u001b[0m \u001b[1m0s\u001b[0m 43ms/step\n",
      "\u001b[1m1/1\u001b[0m \u001b[32m━━━━━━━━━━━━━━━━━━━━\u001b[0m\u001b[37m\u001b[0m \u001b[1m0s\u001b[0m 43ms/step\n",
      "\u001b[1m1/1\u001b[0m \u001b[32m━━━━━━━━━━━━━━━━━━━━\u001b[0m\u001b[37m\u001b[0m \u001b[1m0s\u001b[0m 40ms/step\n",
      "\u001b[1m1/1\u001b[0m \u001b[32m━━━━━━━━━━━━━━━━━━━━\u001b[0m\u001b[37m\u001b[0m \u001b[1m0s\u001b[0m 54ms/step\n",
      "\u001b[1m1/1\u001b[0m \u001b[32m━━━━━━━━━━━━━━━━━━━━\u001b[0m\u001b[37m\u001b[0m \u001b[1m0s\u001b[0m 51ms/step\n",
      "\u001b[1m1/1\u001b[0m \u001b[32m━━━━━━━━━━━━━━━━━━━━\u001b[0m\u001b[37m\u001b[0m \u001b[1m0s\u001b[0m 69ms/step\n",
      "\u001b[1m1/1\u001b[0m \u001b[32m━━━━━━━━━━━━━━━━━━━━\u001b[0m\u001b[37m\u001b[0m \u001b[1m0s\u001b[0m 39ms/step\n",
      "\u001b[1m1/1\u001b[0m \u001b[32m━━━━━━━━━━━━━━━━━━━━\u001b[0m\u001b[37m\u001b[0m \u001b[1m0s\u001b[0m 50ms/step\n",
      "\u001b[1m1/1\u001b[0m \u001b[32m━━━━━━━━━━━━━━━━━━━━\u001b[0m\u001b[37m\u001b[0m \u001b[1m0s\u001b[0m 49ms/step\n",
      "\u001b[1m1/1\u001b[0m \u001b[32m━━━━━━━━━━━━━━━━━━━━\u001b[0m\u001b[37m\u001b[0m \u001b[1m0s\u001b[0m 44ms/step\n",
      "\u001b[1m1/1\u001b[0m \u001b[32m━━━━━━━━━━━━━━━━━━━━\u001b[0m\u001b[37m\u001b[0m \u001b[1m0s\u001b[0m 49ms/step\n",
      "\u001b[1m1/1\u001b[0m \u001b[32m━━━━━━━━━━━━━━━━━━━━\u001b[0m\u001b[37m\u001b[0m \u001b[1m0s\u001b[0m 52ms/step\n",
      "\u001b[1m1/1\u001b[0m \u001b[32m━━━━━━━━━━━━━━━━━━━━\u001b[0m\u001b[37m\u001b[0m \u001b[1m0s\u001b[0m 61ms/step\n",
      "\u001b[1m1/1\u001b[0m \u001b[32m━━━━━━━━━━━━━━━━━━━━\u001b[0m\u001b[37m\u001b[0m \u001b[1m0s\u001b[0m 51ms/step\n",
      "\u001b[1m1/1\u001b[0m \u001b[32m━━━━━━━━━━━━━━━━━━━━\u001b[0m\u001b[37m\u001b[0m \u001b[1m0s\u001b[0m 36ms/step\n",
      "\u001b[1m1/1\u001b[0m \u001b[32m━━━━━━━━━━━━━━━━━━━━\u001b[0m\u001b[37m\u001b[0m \u001b[1m0s\u001b[0m 45ms/step\n",
      "\u001b[1m1/1\u001b[0m \u001b[32m━━━━━━━━━━━━━━━━━━━━\u001b[0m\u001b[37m\u001b[0m \u001b[1m0s\u001b[0m 52ms/step\n",
      "\u001b[1m1/1\u001b[0m \u001b[32m━━━━━━━━━━━━━━━━━━━━\u001b[0m\u001b[37m\u001b[0m \u001b[1m0s\u001b[0m 60ms/step\n",
      "\u001b[1m1/1\u001b[0m \u001b[32m━━━━━━━━━━━━━━━━━━━━\u001b[0m\u001b[37m\u001b[0m \u001b[1m0s\u001b[0m 67ms/step\n",
      "\u001b[1m1/1\u001b[0m \u001b[32m━━━━━━━━━━━━━━━━━━━━\u001b[0m\u001b[37m\u001b[0m \u001b[1m0s\u001b[0m 42ms/step\n",
      "\u001b[1m1/1\u001b[0m \u001b[32m━━━━━━━━━━━━━━━━━━━━\u001b[0m\u001b[37m\u001b[0m \u001b[1m0s\u001b[0m 47ms/step\n",
      "\u001b[1m1/1\u001b[0m \u001b[32m━━━━━━━━━━━━━━━━━━━━\u001b[0m\u001b[37m\u001b[0m \u001b[1m0s\u001b[0m 55ms/step\n",
      "\u001b[1m1/1\u001b[0m \u001b[32m━━━━━━━━━━━━━━━━━━━━\u001b[0m\u001b[37m\u001b[0m \u001b[1m0s\u001b[0m 44ms/step\n",
      "\u001b[1m1/1\u001b[0m \u001b[32m━━━━━━━━━━━━━━━━━━━━\u001b[0m\u001b[37m\u001b[0m \u001b[1m0s\u001b[0m 59ms/step\n",
      "\u001b[1m1/1\u001b[0m \u001b[32m━━━━━━━━━━━━━━━━━━━━\u001b[0m\u001b[37m\u001b[0m \u001b[1m0s\u001b[0m 47ms/step\n",
      "\u001b[1m1/1\u001b[0m \u001b[32m━━━━━━━━━━━━━━━━━━━━\u001b[0m\u001b[37m\u001b[0m \u001b[1m0s\u001b[0m 76ms/step\n",
      "\u001b[1m1/1\u001b[0m \u001b[32m━━━━━━━━━━━━━━━━━━━━\u001b[0m\u001b[37m\u001b[0m \u001b[1m0s\u001b[0m 93ms/step\n",
      "\u001b[1m1/1\u001b[0m \u001b[32m━━━━━━━━━━━━━━━━━━━━\u001b[0m\u001b[37m\u001b[0m \u001b[1m0s\u001b[0m 83ms/step\n",
      "\u001b[1m1/1\u001b[0m \u001b[32m━━━━━━━━━━━━━━━━━━━━\u001b[0m\u001b[37m\u001b[0m \u001b[1m0s\u001b[0m 42ms/step\n",
      "\u001b[1m1/1\u001b[0m \u001b[32m━━━━━━━━━━━━━━━━━━━━\u001b[0m\u001b[37m\u001b[0m \u001b[1m0s\u001b[0m 53ms/step\n",
      "\u001b[1m1/1\u001b[0m \u001b[32m━━━━━━━━━━━━━━━━━━━━\u001b[0m\u001b[37m\u001b[0m \u001b[1m0s\u001b[0m 38ms/step\n",
      "\u001b[1m1/1\u001b[0m \u001b[32m━━━━━━━━━━━━━━━━━━━━\u001b[0m\u001b[37m\u001b[0m \u001b[1m0s\u001b[0m 34ms/step\n"
     ]
    }
   ],
   "source": [
    "pred_NER = []\n",
    "for k in range (0, data_test.shape[0]):\n",
    "    pred_tag_list = make_prediction(model=model,\n",
    "                                    i = k,\n",
    "                                    id2tag=id2tags)\n",
    "    pred_NER.append(pred_tag_list)"
   ]
  },
  {
   "cell_type": "markdown",
   "metadata": {},
   "source": [
    "##### Đưa mảng pred_NER về dataframe"
   ]
  },
  {
   "cell_type": "code",
   "execution_count": 37,
   "metadata": {},
   "outputs": [],
   "source": [
    "pred_NER = pd.DataFrame({'pred_NER':pred_NER})"
   ]
  },
  {
   "cell_type": "markdown",
   "metadata": {},
   "source": [
    "##### In ra 5 dòng đầu tiên của data dự đoán"
   ]
  },
  {
   "cell_type": "code",
   "execution_count": 38,
   "metadata": {},
   "outputs": [
    {
     "data": {
      "text/plain": [
       "0                             [O, O, O, O, O, O, O, O]\n",
       "1        [O, O, O, O, O, O, O, O, O, O, O, O, O, O, O]\n",
       "2                 [O, O, O, O, O, O, O, O, O, O, O, O]\n",
       "3                          [O, O, O, O, O, O, O, O, O]\n",
       "4    [O, O, O, O, O, O, O, B-LOC, I-LOC, O, O, O, B...\n",
       "Name: pred_NER, dtype: object"
      ]
     },
     "execution_count": 38,
     "metadata": {},
     "output_type": "execute_result"
    }
   ],
   "source": [
    "pred_NER['pred_NER'].head()"
   ]
  },
  {
   "cell_type": "markdown",
   "metadata": {},
   "source": [
    "##### In ra 5 dòng đầu tiên của data thực tế"
   ]
  },
  {
   "cell_type": "code",
   "execution_count": 39,
   "metadata": {},
   "outputs": [
    {
     "data": {
      "text/plain": [
       "1639                             [O, O, O, O, O, O, O, O]\n",
       "1640        [O, O, O, O, O, O, O, O, O, O, O, O, O, O, O]\n",
       "1641                 [O, O, O, O, O, O, O, O, O, O, O, O]\n",
       "1642                          [O, O, O, O, O, O, O, O, O]\n",
       "1643    [O, O, O, O, O, O, O, B-LOC, I-LOC, O, O, O, B...\n",
       "Name: NER, dtype: object"
      ]
     },
     "execution_count": 39,
     "metadata": {},
     "output_type": "execute_result"
    }
   ],
   "source": [
    "data_test['NER'].head()"
   ]
  },
  {
   "cell_type": "markdown",
   "metadata": {},
   "source": [
    "### In ra các độ đo đánh giá mô hình"
   ]
  },
  {
   "cell_type": "code",
   "execution_count": 40,
   "metadata": {},
   "outputs": [],
   "source": [
    "true_labels = [item for sublist in data_test['NER'].tolist() for item in sublist]\n",
    "pred_labels = [item for sublist in pred_NER['pred_NER'].tolist() for item in sublist]\n",
    "\n",
    "precision = precision_score(true_labels, pred_labels, average='weighted', zero_division=0)\n",
    "recall = recall_score(true_labels, pred_labels, average='weighted', zero_division=0)\n",
    "f1 = f1_score(true_labels, pred_labels, average='weighted', zero_division=0)\n",
    "accuracy = accuracy_score(true_labels, pred_labels)"
   ]
  },
  {
   "cell_type": "code",
   "execution_count": 41,
   "metadata": {},
   "outputs": [
    {
     "data": {
      "text/plain": [
       "(0.9412766924125398,\n",
       " 0.9289991342249706,\n",
       " 0.9412766924125398,\n",
       " 0.9309296810656079)"
      ]
     },
     "execution_count": 41,
     "metadata": {},
     "output_type": "execute_result"
    }
   ],
   "source": [
    "accuracy, precision, recall, f1"
   ]
  },
  {
   "cell_type": "markdown",
   "metadata": {},
   "source": [
    "### Trực quan ma trận nhầm lẫn"
   ]
  },
  {
   "cell_type": "code",
   "execution_count": 42,
   "metadata": {},
   "outputs": [
    {
     "data": {
      "image/png": "[encoded data removed]",
      "text/plain": [
       "<Figure size 1000x700 with 2 Axes>"
      ]
     },
     "metadata": {},
     "output_type": "display_data"
    }
   ],
   "source": [
    "label = ['O', 'B-PER', 'B-LOC', 'I-PER', 'I-LOC', 'I-ORG', 'B-ORG', 'I-MISC', 'B-MISC']\n",
    "\n",
    "cm = confusion_matrix(true_labels, pred_labels, labels=label)\n",
    "\n",
    "plt.figure(figsize=(10, 7))\n",
    "sns.heatmap(cm, annot=True, fmt='d', cmap='Blues', xticklabels=label, yticklabels=label)\n",
    "plt.xlabel('Predicted')\n",
    "plt.ylabel('True')\n",
    "plt.title('Confusion Matrix')\n",
    "plt.show()\n"
   ]
  },
  {
   "cell_type": "code",
   "execution_count": 43,
   "metadata": {},
   "outputs": [
    {
     "data": {
      "text/plain": [
       "O         8079\n",
       "B-PER      166\n",
       "B-LOC      144\n",
       "I-ORG      130\n",
       "I-PER      127\n",
       "I-LOC       86\n",
       "B-ORG       70\n",
       "B-MISC       1\n",
       "I-MISC       1\n",
       "Name: count, dtype: int64"
      ]
     },
     "execution_count": 43,
     "metadata": {},
     "output_type": "execute_result"
    }
   ],
   "source": [
    "all_values = list(itertools.chain.from_iterable(data_test['NER']))\n",
    "pd.value_counts(all_values)"
   ]
  },
  {
   "cell_type": "code",
   "execution_count": 44,
   "metadata": {},
   "outputs": [
    {
     "data": {
      "image/png": "[encoded data removed]",
      "text/plain": [
       "<Figure size 640x480 with 1 Axes>"
      ]
     },
     "metadata": {},
     "output_type": "display_data"
    }
   ],
   "source": [
    "import matplotlib.pyplot as plt\n",
    "import numpy as np\n",
    "\n",
    "metrics = ['Accuracy', 'Precision', 'Recall', 'F1-score']\n",
    "\n",
    "model_scores = [accuracy, precision, recall, f1]\n",
    "\n",
    "colors = plt.cm.viridis(np.linspace(0, 1, 4))\n",
    "\n",
    "x = range(4)\n",
    "\n",
    "fig, ax = plt.subplots()\n",
    "bars = ax.bar(x, model_scores, color=colors)\n",
    "\n",
    "ax.set_ylabel('Scores')\n",
    "ax.set_title('Model Performance')\n",
    "ax.set_xticks(x)\n",
    "ax.set_xticklabels(metrics)\n",
    "\n",
    "def add_labels(rects):\n",
    "    for rect in rects:\n",
    "        height = rect.get_height()\n",
    "        ax.annotate(f'{height:.4f}',\n",
    "                    xy=(rect.get_x() + rect.get_width() / 2, height),\n",
    "                    xytext=(0, 3),\n",
    "                    textcoords=\"offset points\",\n",
    "                    ha='center', va='bottom')\n",
    "\n",
    "add_labels(bars)\n",
    "\n",
    "plt.show()"
   ]
  }
 ],
 "metadata": {
  "kernelspec": {
   "display_name": "base",
   "language": "python",
   "name": "python3"
  },
  "language_info": {
   "codemirror_mode": {
    "name": "ipython",
    "version": 3
   },
   "file_extension": ".py",
   "mimetype": "text/x-python",
   "name": "python",
   "nbconvert_exporter": "python",
   "pygments_lexer": "ipython3",
   "version": "3.11.5"
  }
 },
 "nbformat": 4,
 "nbformat_minor": 2
}
